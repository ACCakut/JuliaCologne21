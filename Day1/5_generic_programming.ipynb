{
 "cells": [
  {
   "cell_type": "markdown",
   "metadata": {},
   "source": [
    "# Generic programming"
   ]
  },
  {
   "cell_type": "markdown",
   "metadata": {},
   "source": [
    "From [Wikipedia](https://en.wikipedia.org/wiki/Generic_programming):\n",
    "> **Generic programming** is a style of computer programming in which algorithms are written in terms of types *to-be-specified-later* that are then *instantiated* when needed for specific types provided as parameters."
   ]
  },
  {
   "cell_type": "markdown",
   "metadata": {},
   "source": [
    "# Example: Vandermonde matrix (revisited)"
   ]
  },
  {
   "cell_type": "markdown",
   "metadata": {},
   "source": [
    "[Vandermonde matrix:](https://en.wikipedia.org/wiki/Vandermonde_matrix)\n",
    "\\begin{align}V=\\begin{bmatrix}1&\\alpha _{1}&\\alpha _{1}^{2}&\\dots &\\alpha _{1}^{n-1}\\\\1&\\alpha _{2}&\\alpha _{2}^{2}&\\dots &\\alpha _{2}^{n-1}\\\\1&\\alpha _{3}&\\alpha _{3}^{2}&\\dots &\\alpha _{3}^{n-1}\\\\\\vdots &\\vdots &\\vdots &\\ddots &\\vdots \\\\1&\\alpha _{m}&\\alpha _{m}^{2}&\\dots &\\alpha _{m}^{n-1}\\end{bmatrix}\\end{align}"
   ]
  },
  {
   "cell_type": "code",
   "execution_count": null,
   "metadata": {},
   "outputs": [],
   "source": [
    "function vander_naive(x::Vector)\n",
    "    m = length(x)\n",
    "    V = Matrix{Float64}(undef, m, m)\n",
    "    for j = 1:m\n",
    "        V[j,1] = 1.0\n",
    "    end\n",
    "    for i= 2:m\n",
    "        for j = 1:m\n",
    "            V[j,i] = x[j] * V[j,i-1]\n",
    "            end\n",
    "        end\n",
    "    return V\n",
    "end"
   ]
  },
  {
   "cell_type": "code",
   "execution_count": null,
   "metadata": {},
   "outputs": [],
   "source": [
    "vander_naive(rand(3))"
   ]
  },
  {
   "cell_type": "code",
   "execution_count": null,
   "metadata": {},
   "outputs": [],
   "source": [
    "vander_naive(1:3)"
   ]
  },
  {
   "cell_type": "code",
   "execution_count": null,
   "metadata": {},
   "outputs": [],
   "source": [
    "vander_naive([1,2,3])"
   ]
  },
  {
   "cell_type": "markdown",
   "metadata": {},
   "source": [
    "Why is the result a matrix of floating point numbers....?\n",
    "\n",
    "Even worse:"
   ]
  },
  {
   "cell_type": "code",
   "execution_count": null,
   "metadata": {},
   "outputs": [],
   "source": [
    "vander_naive(rand(ComplexF64, 3))"
   ]
  },
  {
   "cell_type": "markdown",
   "metadata": {},
   "source": [
    "* Keep function argument types generic if possible\n",
    "* Avoid explicit typing if possible"
   ]
  },
  {
   "cell_type": "code",
   "execution_count": null,
   "metadata": {},
   "outputs": [],
   "source": [
    "function vander_generic(x::AbstractVector{T}) where T\n",
    "    m = length(x)\n",
    "    V = Matrix{T}(undef, m, m)\n",
    "    for j = 1:m\n",
    "        V[j,1] = one(x[j])\n",
    "    end\n",
    "    for i= 2:m\n",
    "        for j = 1:m\n",
    "            V[j,i] = x[j] * V[j,i-1]\n",
    "            end\n",
    "        end\n",
    "    return V\n",
    "end"
   ]
  },
  {
   "cell_type": "code",
   "execution_count": null,
   "metadata": {},
   "outputs": [],
   "source": [
    "vander_generic([3, \"Stadt\", 4 + 5im])"
   ]
  },
  {
   "cell_type": "markdown",
   "metadata": {},
   "source": [
    "### And all of this comes at no performance penality"
   ]
  },
  {
   "cell_type": "code",
   "execution_count": null,
   "metadata": {},
   "outputs": [],
   "source": [
    "using BenchmarkTools"
   ]
  },
  {
   "cell_type": "code",
   "execution_count": null,
   "metadata": {},
   "outputs": [],
   "source": [
    "x = rand(Float64, 100);\n",
    "@btime vander_naive($x);\n",
    "@btime vander_generic($x);"
   ]
  },
  {
   "cell_type": "markdown",
   "metadata": {},
   "source": [
    "Actually, for this specific example **our generic code is faster** in a few cases inasmuch as type conversions are unnecessary."
   ]
  },
  {
   "cell_type": "code",
   "execution_count": null,
   "metadata": {},
   "outputs": [],
   "source": [
    "x = rand(Int, 100);\n",
    "@btime vander_naive($x);\n",
    "@btime vander_generic($x);"
   ]
  },
  {
   "cell_type": "code",
   "execution_count": null,
   "metadata": {},
   "outputs": [],
   "source": [
    "x = rand(Bool, 100);\n",
    "@btime vander_naive($x);\n",
    "@btime vander_generic($x);"
   ]
  },
  {
   "cell_type": "markdown",
   "metadata": {},
   "source": [
    "On the other hand, sometimes it is worth converting to a different type to dispatch to a faster method or to utilize magic like compiler optimizations."
   ]
  },
  {
   "cell_type": "code",
   "execution_count": null,
   "metadata": {},
   "outputs": [],
   "source": [
    "x = rand(Float32, 100);\n",
    "@btime vander_naive($x);\n",
    "@btime vander_generic($x);"
   ]
  },
  {
   "cell_type": "markdown",
   "metadata": {},
   "source": [
    "# Generic Programming + Multiple Dispatch + JIT"
   ]
  },
  {
   "cell_type": "markdown",
   "metadata": {},
   "source": [
    "The possibility to write generic algorithms that compile to fast machine code in combination with multiple dispatch leads to an ([unreasonable](https://www.youtube.com/watch?v=kc9HwsxE1OY)) amount of code reuse. This sharing of code comes in two forms:\n",
    "1. **Sharing generic algorithms**\n",
    " * Examples: StatsBase.jl, SortingAlgorithms.jl, GenericLinearAlgebra.jl,\n",
    " * **Methods are selected based on all argument types**\n",
    "2. **Sharing types**\n",
    " * Examples: DataStructures.jl, OrderedCollections.jl, StaticArrays.jl, Colors.jl, Measurements.jl\n",
    " * **You can define methods on types after the type is defined!**"
   ]
  },
  {
   "cell_type": "markdown",
   "metadata": {},
   "source": [
    " <img src=\"imgs/revdeps.png\" alt=\"drawing\" width=\"800\"/>"
   ]
  },
  {
   "cell_type": "markdown",
   "metadata": {},
   "source": [
    "As of the time of this writing, **804 packages** depend on the data types provided in [DataStructures.jl](https://juliacollections.github.io/DataStructures.jl/latest/).\n",
    "\n",
    "**851 packages** reuse type implementations in [OrderedCollections.jl](https://github.com/JuliaCollections/OrderedCollections.jl).\n",
    "\n",
    "**That's about every third package!**"
   ]
  },
  {
   "cell_type": "markdown",
   "metadata": {},
   "source": [
    "# Let's get a bit more fancy!"
   ]
  },
  {
   "cell_type": "code",
   "execution_count": 3,
   "metadata": {},
   "outputs": [
    {
     "data": {
      "text/html": [
       "<script>\n",
       "// Immediately-invoked-function-expression to avoid global variables.\n",
       "(function() {\n",
       "    var warning_div = document.getElementById(\"webio-warning-18164250389589296758\");\n",
       "    var hide = function () {\n",
       "        var script = document.getElementById(\"webio-setup-10388131322638006124\");\n",
       "        var parent = script && script.parentElement;\n",
       "        var grandparent = parent && parent.parentElement;\n",
       "        if (grandparent) {\n",
       "            grandparent.style.display = \"none\";\n",
       "        }\n",
       "        warning_div.style.display = \"none\";\n",
       "    };\n",
       "    if (typeof Jupyter !== \"undefined\") {\n",
       "        console.log(\"WebIO detected Jupyter notebook environment.\");\n",
       "        // Jupyter notebook.\n",
       "        var extensions = (\n",
       "            Jupyter\n",
       "            && Jupyter.notebook.config.data\n",
       "            && Jupyter.notebook.config.data.load_extensions\n",
       "        );\n",
       "        if (extensions && extensions[\"webio-jupyter-notebook\"]) {\n",
       "            // Extension already loaded.\n",
       "            console.log(\"Jupyter WebIO nbextension detected; not loading ad-hoc.\");\n",
       "            hide();\n",
       "            return;\n",
       "        }\n",
       "    } else if (window.location.pathname.includes(\"/lab\")) {\n",
       "        // Guessing JupyterLa\n",
       "        console.log(\"Jupyter Lab detected; make sure the @webio/jupyter-lab-provider labextension is installed.\");\n",
       "        hide();\n",
       "        return;\n",
       "    }\n",
       "})();\n",
       "\n",
       "</script>\n",
       "<p\n",
       "    id=\"webio-warning-18164250389589296758\"\n",
       "    class=\"output_text output_stderr\"\n",
       "    style=\"padding: 1em; font-weight: bold;\"\n",
       ">\n",
       "    Unable to load WebIO. Please make sure WebIO works for your Jupyter client.\n",
       "    For troubleshooting, please see <a href=\"https://juliagizmos.github.io/WebIO.jl/latest/providers/ijulia/\">\n",
       "    the WebIO/IJulia documentation</a>.\n",
       "    <!-- TODO: link to installation docs. -->\n",
       "</p>\n"
      ],
      "text/plain": [
       "HTML{String}(\"<script>\\n// Immediately-invoked-function-expression to avoid global variables.\\n(function() {\\n    var warning_div = document.getElementById(\\\"webio-warning-18164250389589296758\\\");\\n    var hide = function () {\\n        var script = document.getElementById(\\\"webio-setup-10388131322638006124\\\");\\n        var parent = script && script.parentElement;\\n        var grandparent = parent && parent.parentElement;\\n        if (grandparent) {\\n            grandparent.style.display = \\\"none\\\";\\n        }\\n        warning_div.style.display = \\\"none\\\";\\n    };\\n    if (typeof Jupyter !== \\\"undefined\\\") {\\n        console.log(\\\"WebIO detected Jupyter notebook environment.\\\");\\n        // Jupyter notebook.\\n        var extensions = (\\n            Jupyter\\n            && Jupyter.notebook.config.data\\n            && Jupyter.notebook.config.data.load_extensions\\n        );\\n        if (extensions && extensions[\\\"webio-jupyter-notebook\\\"]) {\\n            // Extension already loaded.\\n            console.log(\\\"Jupyter WebIO nbextension detected; not loading ad-hoc.\\\");\\n            hide();\\n            return;\\n        }\\n    } else if (window.location.pathname.includes(\\\"/lab\\\")) {\\n        // Guessing JupyterLa\\n        console.log(\\\"Jupyter Lab detected; make sure the @webio/jupyter-lab-provider labextension is installed.\\\");\\n        hide();\\n        return;\\n    }\\n})();\\n\\n</script>\\n<p\\n    id=\\\"webio-warning-18164250389589296758\\\"\\n    class=\\\"output_text output_stderr\\\"\\n    style=\\\"padding: 1em; font-weight: bold;\\\"\\n>\\n    Unable to load WebIO. Please make sure WebIO works for your Jupyter client.\\n    For troubleshooting, please see <a href=\\\"https://juliagizmos.github.io/WebIO.jl/latest/providers/ijulia/\\\">\\n    the WebIO/IJulia documentation</a>.\\n    <!-- TODO: link to installation docs. -->\\n</p>\\n\")"
      ]
     },
     "metadata": {},
     "output_type": "display_data"
    }
   ],
   "source": [
    "using Interact"
   ]
  },
  {
   "cell_type": "code",
   "execution_count": 5,
   "metadata": {},
   "outputs": [
    {
     "data": {
      "application/vnd.webio.node+json": {
       "children": [
        {
         "children": [
          {
           "children": [
            {
             "children": [
              {
               "children": [
                {
                 "children": [
                  "n"
                 ],
                 "instanceArgs": {
                  "namespace": "html",
                  "tag": "label"
                 },
                 "nodeType": "DOM",
                 "props": {
                  "className": "interact ",
                  "style": {
                   "padding": "5px 10px 0px 10px"
                  }
                 },
                 "type": "node"
                }
               ],
               "instanceArgs": {
                "namespace": "html",
                "tag": "div"
               },
               "nodeType": "DOM",
               "props": {
                "className": "interact-flex-row-left"
               },
               "type": "node"
              },
              {
               "children": [
                {
                 "children": [],
                 "instanceArgs": {
                  "namespace": "html",
                  "tag": "input"
                 },
                 "nodeType": "DOM",
                 "props": {
                  "attributes": {
                   "data-bind": "numericValue: index, valueUpdate: 'input', event: {change: function (){this.changes(this.changes()+1)}}",
                   "orient": "horizontal",
                   "type": "range"
                  },
                  "className": "slider slider is-fullwidth",
                  "max": 20,
                  "min": 1,
                  "step": 1,
                  "style": {}
                 },
                 "type": "node"
                }
               ],
               "instanceArgs": {
                "namespace": "html",
                "tag": "div"
               },
               "nodeType": "DOM",
               "props": {
                "className": "interact-flex-row-center"
               },
               "type": "node"
              },
              {
               "children": [
                {
                 "children": [],
                 "instanceArgs": {
                  "namespace": "html",
                  "tag": "p"
                 },
                 "nodeType": "DOM",
                 "props": {
                  "attributes": {
                   "data-bind": "text: formatted_val"
                  }
                 },
                 "type": "node"
                }
               ],
               "instanceArgs": {
                "namespace": "html",
                "tag": "div"
               },
               "nodeType": "DOM",
               "props": {
                "className": "interact-flex-row-right"
               },
               "type": "node"
              }
             ],
             "instanceArgs": {
              "namespace": "html",
              "tag": "div"
             },
             "nodeType": "DOM",
             "props": {
              "className": "interact-flex-row interact-widget"
             },
             "type": "node"
            }
           ],
           "instanceArgs": {
            "handlers": {
             "changes": [
              "(function (val){return (val!=this.model[\"changes\"]()) ? (this.valueFromJulia[\"changes\"]=true, this.model[\"changes\"](val)) : undefined})"
             ],
             "index": [
              "(function (val){return (val!=this.model[\"index\"]()) ? (this.valueFromJulia[\"index\"]=true, this.model[\"index\"](val)) : undefined})"
             ]
            },
            "id": "18268085208586507600",
            "imports": {
             "data": [
              {
               "name": "knockout",
               "type": "js",
               "url": "/assetserver/ed00ed28984fd6f31ca204c39b41264a30b47b3c-knockout.js"
              },
              {
               "name": "knockout_punches",
               "type": "js",
               "url": "/assetserver/c11b402f27e4ffed9d363d08abde93165eec9bbd-knockout_punches.js"
              },
              {
               "name": null,
               "type": "js",
               "url": "/assetserver/9f59a791c13c961542687c1e74ae4273b6401968-all.js"
              },
              {
               "name": null,
               "type": "css",
               "url": "/assetserver/688b43c7218d52f5c887e9ae903e0f50f2da1f5a-style.css"
              },
              {
               "name": null,
               "type": "css",
               "url": "/assetserver/7382126079d5fc156dbd91620549bb882d4d1562-bulma_confined.min.css"
              }
             ],
             "type": "async_block"
            },
            "mount_callbacks": [
             "function () {\n    var handler = (function (ko, koPunches) {\n    ko.punches.enableAll();\n    ko.bindingHandlers.numericValue = {\n        init: function(element, valueAccessor, allBindings, data, context) {\n            var stringified = ko.observable(ko.unwrap(valueAccessor()));\n            stringified.subscribe(function(value) {\n                var val = parseFloat(value);\n                if (!isNaN(val)) {\n                    valueAccessor()(val);\n                }\n            });\n            valueAccessor().subscribe(function(value) {\n                var str = JSON.stringify(value);\n                if ((str == \"0\") && ([\"-0\", \"-0.\"].indexOf(stringified()) >= 0))\n                     return;\n                 if ([\"null\", \"\"].indexOf(str) >= 0)\n                     return;\n                stringified(str);\n            });\n            ko.applyBindingsToNode(\n                element,\n                {\n                    value: stringified,\n                    valueUpdate: allBindings.get('valueUpdate'),\n                },\n                context,\n            );\n        }\n    };\n    var json_data = {\"formatted_vals\":[\"1\",\"2\",\"3\",\"4\",\"5\",\"6\",\"7\",\"8\",\"9\",\"10\",\"11\",\"12\",\"13\",\"14\",\"15\",\"16\",\"17\",\"18\",\"19\",\"20\"],\"changes\":WebIO.getval({\"name\":\"changes\",\"scope\":\"18268085208586507600\",\"id\":\"6813937681299529679\",\"type\":\"observable\"}),\"index\":WebIO.getval({\"name\":\"index\",\"scope\":\"18268085208586507600\",\"id\":\"9578402013394015174\",\"type\":\"observable\"})};\n    var self = this;\n    function AppViewModel() {\n        for (var key in json_data) {\n            var el = json_data[key];\n            this[key] = Array.isArray(el) ? ko.observableArray(el) : ko.observable(el);\n        }\n        \n        [this[\"formatted_val\"]=ko.computed(    function(){\n        return this.formatted_vals()[parseInt(this.index())-(1)];\n    }\n,this)]\n        [this[\"changes\"].subscribe((function (val){!(this.valueFromJulia[\"changes\"]) ? (WebIO.setval({\"name\":\"changes\",\"scope\":\"18268085208586507600\",\"id\":\"6813937681299529679\",\"type\":\"observable\"},val)) : undefined; return this.valueFromJulia[\"changes\"]=false}),self),this[\"index\"].subscribe((function (val){!(this.valueFromJulia[\"index\"]) ? (WebIO.setval({\"name\":\"index\",\"scope\":\"18268085208586507600\",\"id\":\"9578402013394015174\",\"type\":\"observable\"},val)) : undefined; return this.valueFromJulia[\"index\"]=false}),self)]\n        \n    }\n    self.model = new AppViewModel();\n    self.valueFromJulia = {};\n    for (var key in json_data) {\n        self.valueFromJulia[key] = false;\n    }\n    ko.applyBindings(self.model, self.dom);\n}\n);\n    (WebIO.importBlock({\"data\":[{\"name\":\"knockout\",\"type\":\"js\",\"url\":\"/assetserver/ed00ed28984fd6f31ca204c39b41264a30b47b3c-knockout.js\"},{\"name\":\"knockout_punches\",\"type\":\"js\",\"url\":\"/assetserver/c11b402f27e4ffed9d363d08abde93165eec9bbd-knockout_punches.js\"}],\"type\":\"async_block\"})).then((imports) => handler.apply(this, imports));\n}\n"
            ],
            "observables": {
             "changes": {
              "id": "6813937681299529679",
              "sync": false,
              "value": 0
             },
             "index": {
              "id": "9578402013394015174",
              "sync": true,
              "value": 10
             }
            },
            "systemjs_options": null
           },
           "nodeType": "Scope",
           "props": {},
           "type": "node"
          }
         ],
         "instanceArgs": {
          "namespace": "html",
          "tag": "div"
         },
         "nodeType": "DOM",
         "props": {
          "className": "field interact-widget"
         },
         "type": "node"
        },
        {
         "children": [
          {
           "children": [],
           "instanceArgs": {
            "id": "11105264414937027861",
            "name": "obs-node"
           },
           "nodeType": "ObservableNode",
           "props": {},
           "type": "node"
          }
         ],
         "instanceArgs": {
          "handlers": {},
          "id": "18198979790337057437",
          "imports": {
           "data": [],
           "type": "async_block"
          },
          "mount_callbacks": [],
          "observables": {
           "obs-node": {
            "id": "11105264414937027861",
            "sync": false,
            "value": {
             "children": [
              {
               "children": [],
               "instanceArgs": {
                "namespace": "html",
                "tag": "div"
               },
               "nodeType": "DOM",
               "props": {
                "setInnerHtml": "<pre>10×10 Array{Int64,2}:\n  1   2   3   4   5   6   7   8   9   10\n  2   4   6   8  10  12  14  16  18   20\n  3   6   9  12  15  18  21  24  27   30\n  4   8  12  16  20  24  28  32  36   40\n  5  10  15  20  25  30  35  40  45   50\n  6  12  18  24  30  36  42  48  54   60\n  7  14  21  28  35  42  49  56  63   70\n  8  16  24  32  40  48  56  64  72   80\n  9  18  27  36  45  54  63  72  81   90\n 10  20  30  40  50  60  70  80  90  100</pre>"
               },
               "type": "node"
              }
             ],
             "instanceArgs": {
              "namespace": "html",
              "tag": "div"
             },
             "nodeType": "DOM",
             "props": {
              "className": "interact-flex-row interact-widget"
             },
             "type": "node"
            }
           }
          },
          "systemjs_options": null
         },
         "nodeType": "Scope",
         "props": {},
         "type": "node"
        }
       ],
       "instanceArgs": {
        "namespace": "html",
        "tag": "div"
       },
       "nodeType": "DOM",
       "props": {},
       "type": "node"
      },
      "text/html": [
       "<div\n",
       "    class=\"webio-mountpoint\"\n",
       "    data-webio-mountpoint=\"14624738556764318810\"\n",
       ">\n",
       "    <script>\n",
       "    if (window.require && require.defined && require.defined(\"nbextensions/webio-jupyter-notebook\")) {\n",
       "        console.log(\"Jupyter WebIO extension detected, not mounting.\");\n",
       "    } else if (window.WebIO) {\n",
       "        WebIO.mount(\n",
       "            document.querySelector('[data-webio-mountpoint=\"14624738556764318810\"]'),\n",
       "            {\"props\":{},\"nodeType\":\"DOM\",\"type\":\"node\",\"instanceArgs\":{\"namespace\":\"html\",\"tag\":\"div\"},\"children\":[{\"props\":{\"className\":\"field interact-widget\"},\"nodeType\":\"DOM\",\"type\":\"node\",\"instanceArgs\":{\"namespace\":\"html\",\"tag\":\"div\"},\"children\":[{\"props\":{},\"nodeType\":\"Scope\",\"type\":\"node\",\"instanceArgs\":{\"imports\":{\"data\":[{\"name\":\"knockout\",\"type\":\"js\",\"url\":\"\\/assetserver\\/ed00ed28984fd6f31ca204c39b41264a30b47b3c-knockout.js\"},{\"name\":\"knockout_punches\",\"type\":\"js\",\"url\":\"\\/assetserver\\/c11b402f27e4ffed9d363d08abde93165eec9bbd-knockout_punches.js\"},{\"name\":null,\"type\":\"js\",\"url\":\"\\/assetserver\\/9f59a791c13c961542687c1e74ae4273b6401968-all.js\"},{\"name\":null,\"type\":\"css\",\"url\":\"\\/assetserver\\/688b43c7218d52f5c887e9ae903e0f50f2da1f5a-style.css\"},{\"name\":null,\"type\":\"css\",\"url\":\"\\/assetserver\\/7382126079d5fc156dbd91620549bb882d4d1562-bulma_confined.min.css\"}],\"type\":\"async_block\"},\"id\":\"18268085208586507600\",\"handlers\":{\"changes\":[\"(function (val){return (val!=this.model[\\\"changes\\\"]()) ? (this.valueFromJulia[\\\"changes\\\"]=true, this.model[\\\"changes\\\"](val)) : undefined})\"],\"index\":[\"(function (val){return (val!=this.model[\\\"index\\\"]()) ? (this.valueFromJulia[\\\"index\\\"]=true, this.model[\\\"index\\\"](val)) : undefined})\"]},\"systemjs_options\":null,\"mount_callbacks\":[\"function () {\\n    var handler = (function (ko, koPunches) {\\n    ko.punches.enableAll();\\n    ko.bindingHandlers.numericValue = {\\n        init: function(element, valueAccessor, allBindings, data, context) {\\n            var stringified = ko.observable(ko.unwrap(valueAccessor()));\\n            stringified.subscribe(function(value) {\\n                var val = parseFloat(value);\\n                if (!isNaN(val)) {\\n                    valueAccessor()(val);\\n                }\\n            });\\n            valueAccessor().subscribe(function(value) {\\n                var str = JSON.stringify(value);\\n                if ((str == \\\"0\\\") && ([\\\"-0\\\", \\\"-0.\\\"].indexOf(stringified()) >= 0))\\n                     return;\\n                 if ([\\\"null\\\", \\\"\\\"].indexOf(str) >= 0)\\n                     return;\\n                stringified(str);\\n            });\\n            ko.applyBindingsToNode(\\n                element,\\n                {\\n                    value: stringified,\\n                    valueUpdate: allBindings.get('valueUpdate'),\\n                },\\n                context,\\n            );\\n        }\\n    };\\n    var json_data = {\\\"formatted_vals\\\":[\\\"1\\\",\\\"2\\\",\\\"3\\\",\\\"4\\\",\\\"5\\\",\\\"6\\\",\\\"7\\\",\\\"8\\\",\\\"9\\\",\\\"10\\\",\\\"11\\\",\\\"12\\\",\\\"13\\\",\\\"14\\\",\\\"15\\\",\\\"16\\\",\\\"17\\\",\\\"18\\\",\\\"19\\\",\\\"20\\\"],\\\"changes\\\":WebIO.getval({\\\"name\\\":\\\"changes\\\",\\\"scope\\\":\\\"18268085208586507600\\\",\\\"id\\\":\\\"6813937681299529679\\\",\\\"type\\\":\\\"observable\\\"}),\\\"index\\\":WebIO.getval({\\\"name\\\":\\\"index\\\",\\\"scope\\\":\\\"18268085208586507600\\\",\\\"id\\\":\\\"9578402013394015174\\\",\\\"type\\\":\\\"observable\\\"})};\\n    var self = this;\\n    function AppViewModel() {\\n        for (var key in json_data) {\\n            var el = json_data[key];\\n            this[key] = Array.isArray(el) ? ko.observableArray(el) : ko.observable(el);\\n        }\\n        \\n        [this[\\\"formatted_val\\\"]=ko.computed(    function(){\\n        return this.formatted_vals()[parseInt(this.index())-(1)];\\n    }\\n,this)]\\n        [this[\\\"changes\\\"].subscribe((function (val){!(this.valueFromJulia[\\\"changes\\\"]) ? (WebIO.setval({\\\"name\\\":\\\"changes\\\",\\\"scope\\\":\\\"18268085208586507600\\\",\\\"id\\\":\\\"6813937681299529679\\\",\\\"type\\\":\\\"observable\\\"},val)) : undefined; return this.valueFromJulia[\\\"changes\\\"]=false}),self),this[\\\"index\\\"].subscribe((function (val){!(this.valueFromJulia[\\\"index\\\"]) ? (WebIO.setval({\\\"name\\\":\\\"index\\\",\\\"scope\\\":\\\"18268085208586507600\\\",\\\"id\\\":\\\"9578402013394015174\\\",\\\"type\\\":\\\"observable\\\"},val)) : undefined; return this.valueFromJulia[\\\"index\\\"]=false}),self)]\\n        \\n    }\\n    self.model = new AppViewModel();\\n    self.valueFromJulia = {};\\n    for (var key in json_data) {\\n        self.valueFromJulia[key] = false;\\n    }\\n    ko.applyBindings(self.model, self.dom);\\n}\\n);\\n    (WebIO.importBlock({\\\"data\\\":[{\\\"name\\\":\\\"knockout\\\",\\\"type\\\":\\\"js\\\",\\\"url\\\":\\\"\\/assetserver\\/ed00ed28984fd6f31ca204c39b41264a30b47b3c-knockout.js\\\"},{\\\"name\\\":\\\"knockout_punches\\\",\\\"type\\\":\\\"js\\\",\\\"url\\\":\\\"\\/assetserver\\/c11b402f27e4ffed9d363d08abde93165eec9bbd-knockout_punches.js\\\"}],\\\"type\\\":\\\"async_block\\\"})).then((imports) => handler.apply(this, imports));\\n}\\n\"],\"observables\":{\"changes\":{\"sync\":false,\"id\":\"6813937681299529679\",\"value\":0},\"index\":{\"sync\":true,\"id\":\"9578402013394015174\",\"value\":10}}},\"children\":[{\"props\":{\"className\":\"interact-flex-row interact-widget\"},\"nodeType\":\"DOM\",\"type\":\"node\",\"instanceArgs\":{\"namespace\":\"html\",\"tag\":\"div\"},\"children\":[{\"props\":{\"className\":\"interact-flex-row-left\"},\"nodeType\":\"DOM\",\"type\":\"node\",\"instanceArgs\":{\"namespace\":\"html\",\"tag\":\"div\"},\"children\":[{\"props\":{\"className\":\"interact \",\"style\":{\"padding\":\"5px 10px 0px 10px\"}},\"nodeType\":\"DOM\",\"type\":\"node\",\"instanceArgs\":{\"namespace\":\"html\",\"tag\":\"label\"},\"children\":[\"n\"]}]},{\"props\":{\"className\":\"interact-flex-row-center\"},\"nodeType\":\"DOM\",\"type\":\"node\",\"instanceArgs\":{\"namespace\":\"html\",\"tag\":\"div\"},\"children\":[{\"props\":{\"max\":20,\"min\":1,\"attributes\":{\"type\":\"range\",\"data-bind\":\"numericValue: index, valueUpdate: 'input', event: {change: function (){this.changes(this.changes()+1)}}\",\"orient\":\"horizontal\"},\"step\":1,\"className\":\"slider slider is-fullwidth\",\"style\":{}},\"nodeType\":\"DOM\",\"type\":\"node\",\"instanceArgs\":{\"namespace\":\"html\",\"tag\":\"input\"},\"children\":[]}]},{\"props\":{\"className\":\"interact-flex-row-right\"},\"nodeType\":\"DOM\",\"type\":\"node\",\"instanceArgs\":{\"namespace\":\"html\",\"tag\":\"div\"},\"children\":[{\"props\":{\"attributes\":{\"data-bind\":\"text: formatted_val\"}},\"nodeType\":\"DOM\",\"type\":\"node\",\"instanceArgs\":{\"namespace\":\"html\",\"tag\":\"p\"},\"children\":[]}]}]}]}]},{\"props\":{},\"nodeType\":\"Scope\",\"type\":\"node\",\"instanceArgs\":{\"imports\":{\"data\":[],\"type\":\"async_block\"},\"id\":\"8134130534230903182\",\"handlers\":{},\"systemjs_options\":null,\"mount_callbacks\":[],\"observables\":{\"obs-node\":{\"sync\":false,\"id\":\"15363153058414698659\",\"value\":{\"props\":{\"className\":\"interact-flex-row interact-widget\"},\"nodeType\":\"DOM\",\"type\":\"node\",\"instanceArgs\":{\"namespace\":\"html\",\"tag\":\"div\"},\"children\":[{\"props\":{\"setInnerHtml\":\"<pre>10×10 Array{Int64,2}:\\n  1   2   3   4   5   6   7   8   9   10\\n  2   4   6   8  10  12  14  16  18   20\\n  3   6   9  12  15  18  21  24  27   30\\n  4   8  12  16  20  24  28  32  36   40\\n  5  10  15  20  25  30  35  40  45   50\\n  6  12  18  24  30  36  42  48  54   60\\n  7  14  21  28  35  42  49  56  63   70\\n  8  16  24  32  40  48  56  64  72   80\\n  9  18  27  36  45  54  63  72  81   90\\n 10  20  30  40  50  60  70  80  90  100<\\/pre>\"},\"nodeType\":\"DOM\",\"type\":\"node\",\"instanceArgs\":{\"namespace\":\"html\",\"tag\":\"div\"},\"children\":[]}]}}}},\"children\":[{\"props\":{},\"nodeType\":\"ObservableNode\",\"type\":\"node\",\"instanceArgs\":{\"id\":\"15363153058414698659\",\"name\":\"obs-node\"},\"children\":[]}]}]},\n",
       "            window,\n",
       "        );\n",
       "    } else {\n",
       "        document\n",
       "            .querySelector('[data-webio-mountpoint=\"14624738556764318810\"]')\n",
       "            .innerHTML = (\n",
       "                '<div style=\"padding: 1em; background-color: #f8d6da; border: 1px solid #f5c6cb\">' +\n",
       "                '<p><strong>WebIO not detected.</strong></p>' +\n",
       "                '<p>Please read ' +\n",
       "                '<a href=\"https://juliagizmos.github.io/WebIO.jl/latest/troubleshooting/not-detected/\" target=\"_blank\">the troubleshooting guide</a> ' +\n",
       "                'for more information on how to resolve this issue.</p>' +\n",
       "                '<p><a href=\"https://juliagizmos.github.io/WebIO.jl/latest/troubleshooting/not-detected/\" target=\"_blank\">https://juliagizmos.github.io/WebIO.jl/latest/troubleshooting/not-detected/</a></p>' +\n",
       "                '</div>'\n",
       "            );\n",
       "    }\n",
       "    </script>\n",
       "</div>\n"
      ],
      "text/plain": [
       "Node{WebIO.DOM}(WebIO.DOM(:html, :div), Any[Node{WebIO.DOM}(WebIO.DOM(:html, :div), Any[Scope(Node{WebIO.DOM}(WebIO.DOM(:html, :div), Any[Node{WebIO.DOM}(WebIO.DOM(:html, :div), Any[Node{WebIO.DOM}(WebIO.DOM(:html, :label), Any[\"n\"], Dict{Symbol,Any}(:className => \"interact \",:style => Dict{Any,Any}(:padding => \"5px 10px 0px 10px\")))], Dict{Symbol,Any}(:className => \"interact-flex-row-left\")), Node{WebIO.DOM}(WebIO.DOM(:html, :div), Any[Node{WebIO.DOM}(WebIO.DOM(:html, :input), Any[], Dict{Symbol,Any}(:max => 20,:min => 1,:attributes => Dict{Any,Any}(:type => \"range\",Symbol(\"data-bind\") => \"numericValue: index, valueUpdate: 'input', event: {change: function (){this.changes(this.changes()+1)}}\",\"orient\" => \"horizontal\"),:step => 1,:className => \"slider slider is-fullwidth\",:style => Dict{Any,Any}()))], Dict{Symbol,Any}(:className => \"interact-flex-row-center\")), Node{WebIO.DOM}(WebIO.DOM(:html, :div), Any[Node{WebIO.DOM}(WebIO.DOM(:html, :p), Any[], Dict{Symbol,Any}(:attributes => Dict(\"data-bind\" => \"text: formatted_val\")))], Dict{Symbol,Any}(:className => \"interact-flex-row-right\"))], Dict{Symbol,Any}(:className => \"interact-flex-row interact-widget\")), Dict{String,Tuple{Observables.AbstractObservable,Union{Nothing, Bool}}}(\"changes\" => (Observable{Int64} with 1 listeners. Value:\n",
       "0, nothing),\"index\" => (Observable{Int64} with 2 listeners. Value:\n",
       "10, nothing)), Set{String}(), nothing, Asset[Asset(\"js\", \"knockout\", \"/Users/crstnbr/.julia/packages/Knockout/IP1uR/src/../assets/knockout.js\"), Asset(\"js\", \"knockout_punches\", \"/Users/crstnbr/.julia/packages/Knockout/IP1uR/src/../assets/knockout_punches.js\"), Asset(\"js\", nothing, \"/Users/crstnbr/.julia/packages/InteractBase/sOe2Z/src/../assets/all.js\"), Asset(\"css\", nothing, \"/Users/crstnbr/.julia/packages/InteractBase/sOe2Z/src/../assets/style.css\"), Asset(\"css\", nothing, \"/Users/crstnbr/.julia/packages/Interact/SbgIk/src/../assets/bulma_confined.min.css\")], Dict{Any,Any}(\"changes\" => Any[WebIO.JSString(\"(function (val){return (val!=this.model[\\\"changes\\\"]()) ? (this.valueFromJulia[\\\"changes\\\"]=true, this.model[\\\"changes\\\"](val)) : undefined})\")],\"index\" => Any[WebIO.JSString(\"(function (val){return (val!=this.model[\\\"index\\\"]()) ? (this.valueFromJulia[\\\"index\\\"]=true, this.model[\\\"index\\\"](val)) : undefined})\")]), WebIO.ConnectionPool(Channel{Any}(sz_max:32,sz_curr:0), Set{AbstractConnection}(), Base.GenericCondition{Base.AlwaysLockedST}(Base.InvasiveLinkedList{Task}(Task (runnable) @0x000000011bca73d0, Task (runnable) @0x000000011bca73d0), Base.AlwaysLockedST(1))), WebIO.JSString[WebIO.JSString(\"function () {\\n    var handler = (function (ko, koPunches) {\\n    ko.punches.enableAll();\\n    ko.bindingHandlers.numericValue = {\\n        init: function(element, valueAccessor, allBindings, data, context) {\\n            var stringified = ko.observable(ko.unwrap(valueAccessor()));\\n            stringified.subscribe(function(value) {\\n                var val = parseFloat(value);\\n                if (!isNaN(val)) {\\n                    valueAccessor()(val);\\n                }\\n            });\\n            valueAccessor().subscribe(function(value) {\\n                var str = JSON.stringify(value);\\n                if ((str == \\\"0\\\") && ([\\\"-0\\\", \\\"-0.\\\"].indexOf(stringified()) >= 0))\\n                     return;\\n                 if ([\\\"null\\\", \\\"\\\"].indexOf(str) >= 0)\\n                     return;\\n                stringified(str);\\n            });\\n            ko.applyBindingsToNode(\\n                element,\\n                {\\n                    value: stringified,\\n                    valueUpdate: allBindings.get('valueUpdate'),\\n                },\\n                context,\\n            );\\n        }\\n    };\\n    var json_data = {\\\"formatted_vals\\\":[\\\"1\\\",\\\"2\\\",\\\"3\\\",\\\"4\\\",\\\"5\\\",\\\"6\\\",\\\"7\\\",\\\"8\\\",\\\"9\\\",\\\"10\\\",\\\"11\\\",\\\"12\\\",\\\"13\\\",\\\"14\\\",\\\"15\\\",\\\"16\\\",\\\"17\\\",\\\"18\\\",\\\"19\\\",\\\"20\\\"],\\\"changes\\\":WebIO.getval({\\\"name\\\":\\\"changes\\\",\\\"scope\\\":\\\"18268085208586507600\\\",\\\"id\\\":\\\"6813937681299529679\\\",\\\"type\\\":\\\"observable\\\"}),\\\"index\\\":WebIO.getval({\\\"name\\\":\\\"index\\\",\\\"scope\\\":\\\"18268085208586507600\\\",\\\"id\\\":\\\"9578402013394015174\\\",\\\"type\\\":\\\"observable\\\"})};\\n    var self = this;\\n    function AppViewModel() {\\n        for (var key in json_data) {\\n            var el = json_data[key];\\n            this[key] = Array.isArray(el) ? ko.observableArray(el) : ko.observable(el);\\n        }\\n        \\n        [this[\\\"formatted_val\\\"]=ko.computed(    function(){\\n        return this.formatted_vals()[parseInt(this.index())-(1)];\\n    }\\n,this)]\\n        [this[\\\"changes\\\"].subscribe((function (val){!(this.valueFromJulia[\\\"changes\\\"]) ? (WebIO.setval({\\\"name\\\":\\\"changes\\\",\\\"scope\\\":\\\"18268085208586507600\\\",\\\"id\\\":\\\"6813937681299529679\\\",\\\"type\\\":\\\"observable\\\"},val)) : undefined; return this.valueFromJulia[\\\"changes\\\"]=false}),self),this[\\\"index\\\"].subscribe((function (val){!(this.valueFromJulia[\\\"index\\\"]) ? (WebIO.setval({\\\"name\\\":\\\"index\\\",\\\"scope\\\":\\\"18268085208586507600\\\",\\\"id\\\":\\\"9578402013394015174\\\",\\\"type\\\":\\\"observable\\\"},val)) : undefined; return this.valueFromJulia[\\\"index\\\"]=false}),self)]\\n        \\n    }\\n    self.model = new AppViewModel();\\n    self.valueFromJulia = {};\\n    for (var key in json_data) {\\n        self.valueFromJulia[key] = false;\\n    }\\n    ko.applyBindings(self.model, self.dom);\\n}\\n);\\n    (WebIO.importBlock({\\\"data\\\":[{\\\"name\\\":\\\"knockout\\\",\\\"type\\\":\\\"js\\\",\\\"url\\\":\\\"/assetserver/ed00ed28984fd6f31ca204c39b41264a30b47b3c-knockout.js\\\"},{\\\"name\\\":\\\"knockout_punches\\\",\\\"type\\\":\\\"js\\\",\\\"url\\\":\\\"/assetserver/c11b402f27e4ffed9d363d08abde93165eec9bbd-knockout_punches.js\\\"}],\\\"type\\\":\\\"async_block\\\"})).then((imports) => handler.apply(this, imports));\\n}\\n\")])], Dict{Symbol,Any}(:className => \"field interact-widget\")), Observable{Any} with 0 listeners. Value:\n",
       "Node{WebIO.DOM}(WebIO.DOM(:html, :div), Any[[1 2 … 9 10; 2 4 … 18 20; … ; 9 18 … 81 90; 10 20 … 90 100]], Dict{Symbol,Any}(:className => \"interact-flex-row interact-widget\"))], Dict{Symbol,Any}())"
      ]
     },
     "execution_count": 5,
     "metadata": {
      "application/vnd.webio.node+json": {
       "kernelId": "4f005b8b-b806-4ef5-849e-f26ceb7e087e"
      }
     },
     "output_type": "execute_result"
    }
   ],
   "source": [
    "@manipulate for n in 1:20\n",
    "    [i*j for i in 1:n, j in 1:n]\n",
    "end"
   ]
  },
  {
   "cell_type": "code",
   "execution_count": 6,
   "metadata": {},
   "outputs": [
    {
     "data": {
      "text/plain": [
       "insert_block (generic function with 2 methods)"
      ]
     },
     "execution_count": 6,
     "metadata": {},
     "output_type": "execute_result"
    }
   ],
   "source": [
    "function insert_block(A::AbstractMatrix, i, j, what=7)\n",
    "    B = copy(A)\n",
    "    B[i:i+2, j:j+2] .= what\n",
    "    B\n",
    "end"
   ]
  },
  {
   "cell_type": "code",
   "execution_count": 7,
   "metadata": {},
   "outputs": [
    {
     "data": {
      "text/plain": [
       "9×9 Array{Int64,2}:\n",
       " 0  0  0  0  0  0  0  0  0\n",
       " 0  0  0  0  0  0  0  0  0\n",
       " 0  0  0  0  7  7  7  0  0\n",
       " 0  0  0  0  7  7  7  0  0\n",
       " 0  0  0  0  7  7  7  0  0\n",
       " 0  0  0  0  0  0  0  0  0\n",
       " 0  0  0  0  0  0  0  0  0\n",
       " 0  0  0  0  0  0  0  0  0\n",
       " 0  0  0  0  0  0  0  0  0"
      ]
     },
     "execution_count": 7,
     "metadata": {},
     "output_type": "execute_result"
    }
   ],
   "source": [
    "A = fill(0, 9, 9)\n",
    "insert_block(A, 3, 5)  # this returns the new matrix"
   ]
  },
  {
   "cell_type": "code",
   "execution_count": 8,
   "metadata": {},
   "outputs": [
    {
     "data": {
      "application/vnd.webio.node+json": {
       "children": [
        {
         "children": [
          {
           "children": [
            {
             "children": [
              {
               "children": [
                {
                 "children": [
                  "i"
                 ],
                 "instanceArgs": {
                  "namespace": "html",
                  "tag": "label"
                 },
                 "nodeType": "DOM",
                 "props": {
                  "className": "interact ",
                  "style": {
                   "padding": "5px 10px 0px 10px"
                  }
                 },
                 "type": "node"
                }
               ],
               "instanceArgs": {
                "namespace": "html",
                "tag": "div"
               },
               "nodeType": "DOM",
               "props": {
                "className": "interact-flex-row-left"
               },
               "type": "node"
              },
              {
               "children": [
                {
                 "children": [],
                 "instanceArgs": {
                  "namespace": "html",
                  "tag": "input"
                 },
                 "nodeType": "DOM",
                 "props": {
                  "attributes": {
                   "data-bind": "numericValue: index, valueUpdate: 'input', event: {change: function (){this.changes(this.changes()+1)}}",
                   "orient": "horizontal",
                   "type": "range"
                  },
                  "className": "slider slider is-fullwidth",
                  "max": 8,
                  "min": 1,
                  "step": 1,
                  "style": {}
                 },
                 "type": "node"
                }
               ],
               "instanceArgs": {
                "namespace": "html",
                "tag": "div"
               },
               "nodeType": "DOM",
               "props": {
                "className": "interact-flex-row-center"
               },
               "type": "node"
              },
              {
               "children": [
                {
                 "children": [],
                 "instanceArgs": {
                  "namespace": "html",
                  "tag": "p"
                 },
                 "nodeType": "DOM",
                 "props": {
                  "attributes": {
                   "data-bind": "text: formatted_val"
                  }
                 },
                 "type": "node"
                }
               ],
               "instanceArgs": {
                "namespace": "html",
                "tag": "div"
               },
               "nodeType": "DOM",
               "props": {
                "className": "interact-flex-row-right"
               },
               "type": "node"
              }
             ],
             "instanceArgs": {
              "namespace": "html",
              "tag": "div"
             },
             "nodeType": "DOM",
             "props": {
              "className": "interact-flex-row interact-widget"
             },
             "type": "node"
            }
           ],
           "instanceArgs": {
            "handlers": {
             "changes": [
              "(function (val){return (val!=this.model[\"changes\"]()) ? (this.valueFromJulia[\"changes\"]=true, this.model[\"changes\"](val)) : undefined})"
             ],
             "index": [
              "(function (val){return (val!=this.model[\"index\"]()) ? (this.valueFromJulia[\"index\"]=true, this.model[\"index\"](val)) : undefined})"
             ]
            },
            "id": "15258182498443507158",
            "imports": {
             "data": [
              {
               "name": "knockout",
               "type": "js",
               "url": "/assetserver/ed00ed28984fd6f31ca204c39b41264a30b47b3c-knockout.js"
              },
              {
               "name": "knockout_punches",
               "type": "js",
               "url": "/assetserver/c11b402f27e4ffed9d363d08abde93165eec9bbd-knockout_punches.js"
              },
              {
               "name": null,
               "type": "js",
               "url": "/assetserver/9f59a791c13c961542687c1e74ae4273b6401968-all.js"
              },
              {
               "name": null,
               "type": "css",
               "url": "/assetserver/688b43c7218d52f5c887e9ae903e0f50f2da1f5a-style.css"
              },
              {
               "name": null,
               "type": "css",
               "url": "/assetserver/7382126079d5fc156dbd91620549bb882d4d1562-bulma_confined.min.css"
              }
             ],
             "type": "async_block"
            },
            "mount_callbacks": [
             "function () {\n    var handler = (function (ko, koPunches) {\n    ko.punches.enableAll();\n    ko.bindingHandlers.numericValue = {\n        init: function(element, valueAccessor, allBindings, data, context) {\n            var stringified = ko.observable(ko.unwrap(valueAccessor()));\n            stringified.subscribe(function(value) {\n                var val = parseFloat(value);\n                if (!isNaN(val)) {\n                    valueAccessor()(val);\n                }\n            });\n            valueAccessor().subscribe(function(value) {\n                var str = JSON.stringify(value);\n                if ((str == \"0\") && ([\"-0\", \"-0.\"].indexOf(stringified()) >= 0))\n                     return;\n                 if ([\"null\", \"\"].indexOf(str) >= 0)\n                     return;\n                stringified(str);\n            });\n            ko.applyBindingsToNode(\n                element,\n                {\n                    value: stringified,\n                    valueUpdate: allBindings.get('valueUpdate'),\n                },\n                context,\n            );\n        }\n    };\n    var json_data = {\"formatted_vals\":[\"1\",\"2\",\"3\",\"4\",\"5\",\"6\",\"7\",\"8\"],\"changes\":WebIO.getval({\"name\":\"changes\",\"scope\":\"15258182498443507158\",\"id\":\"13263451734234020658\",\"type\":\"observable\"}),\"index\":WebIO.getval({\"name\":\"index\",\"scope\":\"15258182498443507158\",\"id\":\"12457297629508708584\",\"type\":\"observable\"})};\n    var self = this;\n    function AppViewModel() {\n        for (var key in json_data) {\n            var el = json_data[key];\n            this[key] = Array.isArray(el) ? ko.observableArray(el) : ko.observable(el);\n        }\n        \n        [this[\"formatted_val\"]=ko.computed(    function(){\n        return this.formatted_vals()[parseInt(this.index())-(1)];\n    }\n,this)]\n        [this[\"changes\"].subscribe((function (val){!(this.valueFromJulia[\"changes\"]) ? (WebIO.setval({\"name\":\"changes\",\"scope\":\"15258182498443507158\",\"id\":\"13263451734234020658\",\"type\":\"observable\"},val)) : undefined; return this.valueFromJulia[\"changes\"]=false}),self),this[\"index\"].subscribe((function (val){!(this.valueFromJulia[\"index\"]) ? (WebIO.setval({\"name\":\"index\",\"scope\":\"15258182498443507158\",\"id\":\"12457297629508708584\",\"type\":\"observable\"},val)) : undefined; return this.valueFromJulia[\"index\"]=false}),self)]\n        \n    }\n    self.model = new AppViewModel();\n    self.valueFromJulia = {};\n    for (var key in json_data) {\n        self.valueFromJulia[key] = false;\n    }\n    ko.applyBindings(self.model, self.dom);\n}\n);\n    (WebIO.importBlock({\"data\":[{\"name\":\"knockout\",\"type\":\"js\",\"url\":\"/assetserver/ed00ed28984fd6f31ca204c39b41264a30b47b3c-knockout.js\"},{\"name\":\"knockout_punches\",\"type\":\"js\",\"url\":\"/assetserver/c11b402f27e4ffed9d363d08abde93165eec9bbd-knockout_punches.js\"}],\"type\":\"async_block\"})).then((imports) => handler.apply(this, imports));\n}\n"
            ],
            "observables": {
             "changes": {
              "id": "13263451734234020658",
              "sync": false,
              "value": 0
             },
             "index": {
              "id": "12457297629508708584",
              "sync": true,
              "value": 4
             }
            },
            "systemjs_options": null
           },
           "nodeType": "Scope",
           "props": {},
           "type": "node"
          }
         ],
         "instanceArgs": {
          "namespace": "html",
          "tag": "div"
         },
         "nodeType": "DOM",
         "props": {
          "className": "field interact-widget"
         },
         "type": "node"
        },
        {
         "children": [
          {
           "children": [
            {
             "children": [
              {
               "children": [
                {
                 "children": [
                  "j"
                 ],
                 "instanceArgs": {
                  "namespace": "html",
                  "tag": "label"
                 },
                 "nodeType": "DOM",
                 "props": {
                  "className": "interact ",
                  "style": {
                   "padding": "5px 10px 0px 10px"
                  }
                 },
                 "type": "node"
                }
               ],
               "instanceArgs": {
                "namespace": "html",
                "tag": "div"
               },
               "nodeType": "DOM",
               "props": {
                "className": "interact-flex-row-left"
               },
               "type": "node"
              },
              {
               "children": [
                {
                 "children": [],
                 "instanceArgs": {
                  "namespace": "html",
                  "tag": "input"
                 },
                 "nodeType": "DOM",
                 "props": {
                  "attributes": {
                   "data-bind": "numericValue: index, valueUpdate: 'input', event: {change: function (){this.changes(this.changes()+1)}}",
                   "orient": "horizontal",
                   "type": "range"
                  },
                  "className": "slider slider is-fullwidth",
                  "max": 8,
                  "min": 1,
                  "step": 1,
                  "style": {}
                 },
                 "type": "node"
                }
               ],
               "instanceArgs": {
                "namespace": "html",
                "tag": "div"
               },
               "nodeType": "DOM",
               "props": {
                "className": "interact-flex-row-center"
               },
               "type": "node"
              },
              {
               "children": [
                {
                 "children": [],
                 "instanceArgs": {
                  "namespace": "html",
                  "tag": "p"
                 },
                 "nodeType": "DOM",
                 "props": {
                  "attributes": {
                   "data-bind": "text: formatted_val"
                  }
                 },
                 "type": "node"
                }
               ],
               "instanceArgs": {
                "namespace": "html",
                "tag": "div"
               },
               "nodeType": "DOM",
               "props": {
                "className": "interact-flex-row-right"
               },
               "type": "node"
              }
             ],
             "instanceArgs": {
              "namespace": "html",
              "tag": "div"
             },
             "nodeType": "DOM",
             "props": {
              "className": "interact-flex-row interact-widget"
             },
             "type": "node"
            }
           ],
           "instanceArgs": {
            "handlers": {
             "changes": [
              "(function (val){return (val!=this.model[\"changes\"]()) ? (this.valueFromJulia[\"changes\"]=true, this.model[\"changes\"](val)) : undefined})"
             ],
             "index": [
              "(function (val){return (val!=this.model[\"index\"]()) ? (this.valueFromJulia[\"index\"]=true, this.model[\"index\"](val)) : undefined})"
             ]
            },
            "id": "8957734328638311162",
            "imports": {
             "data": [
              {
               "name": "knockout",
               "type": "js",
               "url": "/assetserver/ed00ed28984fd6f31ca204c39b41264a30b47b3c-knockout.js"
              },
              {
               "name": "knockout_punches",
               "type": "js",
               "url": "/assetserver/c11b402f27e4ffed9d363d08abde93165eec9bbd-knockout_punches.js"
              },
              {
               "name": null,
               "type": "js",
               "url": "/assetserver/9f59a791c13c961542687c1e74ae4273b6401968-all.js"
              },
              {
               "name": null,
               "type": "css",
               "url": "/assetserver/688b43c7218d52f5c887e9ae903e0f50f2da1f5a-style.css"
              },
              {
               "name": null,
               "type": "css",
               "url": "/assetserver/7382126079d5fc156dbd91620549bb882d4d1562-bulma_confined.min.css"
              }
             ],
             "type": "async_block"
            },
            "mount_callbacks": [
             "function () {\n    var handler = (function (ko, koPunches) {\n    ko.punches.enableAll();\n    ko.bindingHandlers.numericValue = {\n        init: function(element, valueAccessor, allBindings, data, context) {\n            var stringified = ko.observable(ko.unwrap(valueAccessor()));\n            stringified.subscribe(function(value) {\n                var val = parseFloat(value);\n                if (!isNaN(val)) {\n                    valueAccessor()(val);\n                }\n            });\n            valueAccessor().subscribe(function(value) {\n                var str = JSON.stringify(value);\n                if ((str == \"0\") && ([\"-0\", \"-0.\"].indexOf(stringified()) >= 0))\n                     return;\n                 if ([\"null\", \"\"].indexOf(str) >= 0)\n                     return;\n                stringified(str);\n            });\n            ko.applyBindingsToNode(\n                element,\n                {\n                    value: stringified,\n                    valueUpdate: allBindings.get('valueUpdate'),\n                },\n                context,\n            );\n        }\n    };\n    var json_data = {\"formatted_vals\":[\"1\",\"2\",\"3\",\"4\",\"5\",\"6\",\"7\",\"8\"],\"changes\":WebIO.getval({\"name\":\"changes\",\"scope\":\"8957734328638311162\",\"id\":\"17845799093041414067\",\"type\":\"observable\"}),\"index\":WebIO.getval({\"name\":\"index\",\"scope\":\"8957734328638311162\",\"id\":\"4061483651876080109\",\"type\":\"observable\"})};\n    var self = this;\n    function AppViewModel() {\n        for (var key in json_data) {\n            var el = json_data[key];\n            this[key] = Array.isArray(el) ? ko.observableArray(el) : ko.observable(el);\n        }\n        \n        [this[\"formatted_val\"]=ko.computed(    function(){\n        return this.formatted_vals()[parseInt(this.index())-(1)];\n    }\n,this)]\n        [this[\"changes\"].subscribe((function (val){!(this.valueFromJulia[\"changes\"]) ? (WebIO.setval({\"name\":\"changes\",\"scope\":\"8957734328638311162\",\"id\":\"17845799093041414067\",\"type\":\"observable\"},val)) : undefined; return this.valueFromJulia[\"changes\"]=false}),self),this[\"index\"].subscribe((function (val){!(this.valueFromJulia[\"index\"]) ? (WebIO.setval({\"name\":\"index\",\"scope\":\"8957734328638311162\",\"id\":\"4061483651876080109\",\"type\":\"observable\"},val)) : undefined; return this.valueFromJulia[\"index\"]=false}),self)]\n        \n    }\n    self.model = new AppViewModel();\n    self.valueFromJulia = {};\n    for (var key in json_data) {\n        self.valueFromJulia[key] = false;\n    }\n    ko.applyBindings(self.model, self.dom);\n}\n);\n    (WebIO.importBlock({\"data\":[{\"name\":\"knockout\",\"type\":\"js\",\"url\":\"/assetserver/ed00ed28984fd6f31ca204c39b41264a30b47b3c-knockout.js\"},{\"name\":\"knockout_punches\",\"type\":\"js\",\"url\":\"/assetserver/c11b402f27e4ffed9d363d08abde93165eec9bbd-knockout_punches.js\"}],\"type\":\"async_block\"})).then((imports) => handler.apply(this, imports));\n}\n"
            ],
            "observables": {
             "changes": {
              "id": "17845799093041414067",
              "sync": false,
              "value": 0
             },
             "index": {
              "id": "4061483651876080109",
              "sync": true,
              "value": 4
             }
            },
            "systemjs_options": null
           },
           "nodeType": "Scope",
           "props": {},
           "type": "node"
          }
         ],
         "instanceArgs": {
          "namespace": "html",
          "tag": "div"
         },
         "nodeType": "DOM",
         "props": {
          "className": "field interact-widget"
         },
         "type": "node"
        },
        {
         "children": [
          {
           "children": [],
           "instanceArgs": {
            "id": "3128364275179343939",
            "name": "obs-node"
           },
           "nodeType": "ObservableNode",
           "props": {},
           "type": "node"
          }
         ],
         "instanceArgs": {
          "handlers": {},
          "id": "6436228275669664828",
          "imports": {
           "data": [],
           "type": "async_block"
          },
          "mount_callbacks": [],
          "observables": {
           "obs-node": {
            "id": "3128364275179343939",
            "sync": false,
            "value": {
             "children": [
              {
               "children": [],
               "instanceArgs": {
                "namespace": "html",
                "tag": "div"
               },
               "nodeType": "DOM",
               "props": {
                "setInnerHtml": "<pre>10×10 Array{Int64,2}:\n 0  0  0  0  0  0  0  0  0  0\n 0  0  0  0  0  0  0  0  0  0\n 0  0  0  0  0  0  0  0  0  0\n 0  0  0  7  7  7  0  0  0  0\n 0  0  0  7  7  7  0  0  0  0\n 0  0  0  7  7  7  0  0  0  0\n 0  0  0  0  0  0  0  0  0  0\n 0  0  0  0  0  0  0  0  0  0\n 0  0  0  0  0  0  0  0  0  0\n 0  0  0  0  0  0  0  0  0  0</pre>"
               },
               "type": "node"
              }
             ],
             "instanceArgs": {
              "namespace": "html",
              "tag": "div"
             },
             "nodeType": "DOM",
             "props": {
              "className": "interact-flex-row interact-widget"
             },
             "type": "node"
            }
           }
          },
          "systemjs_options": null
         },
         "nodeType": "Scope",
         "props": {},
         "type": "node"
        }
       ],
       "instanceArgs": {
        "namespace": "html",
        "tag": "div"
       },
       "nodeType": "DOM",
       "props": {},
       "type": "node"
      },
      "text/html": [
       "<div\n",
       "    class=\"webio-mountpoint\"\n",
       "    data-webio-mountpoint=\"13159425354811315926\"\n",
       ">\n",
       "    <script>\n",
       "    if (window.require && require.defined && require.defined(\"nbextensions/webio-jupyter-notebook\")) {\n",
       "        console.log(\"Jupyter WebIO extension detected, not mounting.\");\n",
       "    } else if (window.WebIO) {\n",
       "        WebIO.mount(\n",
       "            document.querySelector('[data-webio-mountpoint=\"13159425354811315926\"]'),\n",
       "            {\"props\":{},\"nodeType\":\"DOM\",\"type\":\"node\",\"instanceArgs\":{\"namespace\":\"html\",\"tag\":\"div\"},\"children\":[{\"props\":{\"className\":\"field interact-widget\"},\"nodeType\":\"DOM\",\"type\":\"node\",\"instanceArgs\":{\"namespace\":\"html\",\"tag\":\"div\"},\"children\":[{\"props\":{},\"nodeType\":\"Scope\",\"type\":\"node\",\"instanceArgs\":{\"imports\":{\"data\":[{\"name\":\"knockout\",\"type\":\"js\",\"url\":\"\\/assetserver\\/ed00ed28984fd6f31ca204c39b41264a30b47b3c-knockout.js\"},{\"name\":\"knockout_punches\",\"type\":\"js\",\"url\":\"\\/assetserver\\/c11b402f27e4ffed9d363d08abde93165eec9bbd-knockout_punches.js\"},{\"name\":null,\"type\":\"js\",\"url\":\"\\/assetserver\\/9f59a791c13c961542687c1e74ae4273b6401968-all.js\"},{\"name\":null,\"type\":\"css\",\"url\":\"\\/assetserver\\/688b43c7218d52f5c887e9ae903e0f50f2da1f5a-style.css\"},{\"name\":null,\"type\":\"css\",\"url\":\"\\/assetserver\\/7382126079d5fc156dbd91620549bb882d4d1562-bulma_confined.min.css\"}],\"type\":\"async_block\"},\"id\":\"15258182498443507158\",\"handlers\":{\"changes\":[\"(function (val){return (val!=this.model[\\\"changes\\\"]()) ? (this.valueFromJulia[\\\"changes\\\"]=true, this.model[\\\"changes\\\"](val)) : undefined})\"],\"index\":[\"(function (val){return (val!=this.model[\\\"index\\\"]()) ? (this.valueFromJulia[\\\"index\\\"]=true, this.model[\\\"index\\\"](val)) : undefined})\"]},\"systemjs_options\":null,\"mount_callbacks\":[\"function () {\\n    var handler = (function (ko, koPunches) {\\n    ko.punches.enableAll();\\n    ko.bindingHandlers.numericValue = {\\n        init: function(element, valueAccessor, allBindings, data, context) {\\n            var stringified = ko.observable(ko.unwrap(valueAccessor()));\\n            stringified.subscribe(function(value) {\\n                var val = parseFloat(value);\\n                if (!isNaN(val)) {\\n                    valueAccessor()(val);\\n                }\\n            });\\n            valueAccessor().subscribe(function(value) {\\n                var str = JSON.stringify(value);\\n                if ((str == \\\"0\\\") && ([\\\"-0\\\", \\\"-0.\\\"].indexOf(stringified()) >= 0))\\n                     return;\\n                 if ([\\\"null\\\", \\\"\\\"].indexOf(str) >= 0)\\n                     return;\\n                stringified(str);\\n            });\\n            ko.applyBindingsToNode(\\n                element,\\n                {\\n                    value: stringified,\\n                    valueUpdate: allBindings.get('valueUpdate'),\\n                },\\n                context,\\n            );\\n        }\\n    };\\n    var json_data = {\\\"formatted_vals\\\":[\\\"1\\\",\\\"2\\\",\\\"3\\\",\\\"4\\\",\\\"5\\\",\\\"6\\\",\\\"7\\\",\\\"8\\\"],\\\"changes\\\":WebIO.getval({\\\"name\\\":\\\"changes\\\",\\\"scope\\\":\\\"15258182498443507158\\\",\\\"id\\\":\\\"13263451734234020658\\\",\\\"type\\\":\\\"observable\\\"}),\\\"index\\\":WebIO.getval({\\\"name\\\":\\\"index\\\",\\\"scope\\\":\\\"15258182498443507158\\\",\\\"id\\\":\\\"12457297629508708584\\\",\\\"type\\\":\\\"observable\\\"})};\\n    var self = this;\\n    function AppViewModel() {\\n        for (var key in json_data) {\\n            var el = json_data[key];\\n            this[key] = Array.isArray(el) ? ko.observableArray(el) : ko.observable(el);\\n        }\\n        \\n        [this[\\\"formatted_val\\\"]=ko.computed(    function(){\\n        return this.formatted_vals()[parseInt(this.index())-(1)];\\n    }\\n,this)]\\n        [this[\\\"changes\\\"].subscribe((function (val){!(this.valueFromJulia[\\\"changes\\\"]) ? (WebIO.setval({\\\"name\\\":\\\"changes\\\",\\\"scope\\\":\\\"15258182498443507158\\\",\\\"id\\\":\\\"13263451734234020658\\\",\\\"type\\\":\\\"observable\\\"},val)) : undefined; return this.valueFromJulia[\\\"changes\\\"]=false}),self),this[\\\"index\\\"].subscribe((function (val){!(this.valueFromJulia[\\\"index\\\"]) ? (WebIO.setval({\\\"name\\\":\\\"index\\\",\\\"scope\\\":\\\"15258182498443507158\\\",\\\"id\\\":\\\"12457297629508708584\\\",\\\"type\\\":\\\"observable\\\"},val)) : undefined; return this.valueFromJulia[\\\"index\\\"]=false}),self)]\\n        \\n    }\\n    self.model = new AppViewModel();\\n    self.valueFromJulia = {};\\n    for (var key in json_data) {\\n        self.valueFromJulia[key] = false;\\n    }\\n    ko.applyBindings(self.model, self.dom);\\n}\\n);\\n    (WebIO.importBlock({\\\"data\\\":[{\\\"name\\\":\\\"knockout\\\",\\\"type\\\":\\\"js\\\",\\\"url\\\":\\\"\\/assetserver\\/ed00ed28984fd6f31ca204c39b41264a30b47b3c-knockout.js\\\"},{\\\"name\\\":\\\"knockout_punches\\\",\\\"type\\\":\\\"js\\\",\\\"url\\\":\\\"\\/assetserver\\/c11b402f27e4ffed9d363d08abde93165eec9bbd-knockout_punches.js\\\"}],\\\"type\\\":\\\"async_block\\\"})).then((imports) => handler.apply(this, imports));\\n}\\n\"],\"observables\":{\"changes\":{\"sync\":false,\"id\":\"13263451734234020658\",\"value\":0},\"index\":{\"sync\":true,\"id\":\"12457297629508708584\",\"value\":4}}},\"children\":[{\"props\":{\"className\":\"interact-flex-row interact-widget\"},\"nodeType\":\"DOM\",\"type\":\"node\",\"instanceArgs\":{\"namespace\":\"html\",\"tag\":\"div\"},\"children\":[{\"props\":{\"className\":\"interact-flex-row-left\"},\"nodeType\":\"DOM\",\"type\":\"node\",\"instanceArgs\":{\"namespace\":\"html\",\"tag\":\"div\"},\"children\":[{\"props\":{\"className\":\"interact \",\"style\":{\"padding\":\"5px 10px 0px 10px\"}},\"nodeType\":\"DOM\",\"type\":\"node\",\"instanceArgs\":{\"namespace\":\"html\",\"tag\":\"label\"},\"children\":[\"i\"]}]},{\"props\":{\"className\":\"interact-flex-row-center\"},\"nodeType\":\"DOM\",\"type\":\"node\",\"instanceArgs\":{\"namespace\":\"html\",\"tag\":\"div\"},\"children\":[{\"props\":{\"max\":8,\"min\":1,\"attributes\":{\"type\":\"range\",\"data-bind\":\"numericValue: index, valueUpdate: 'input', event: {change: function (){this.changes(this.changes()+1)}}\",\"orient\":\"horizontal\"},\"step\":1,\"className\":\"slider slider is-fullwidth\",\"style\":{}},\"nodeType\":\"DOM\",\"type\":\"node\",\"instanceArgs\":{\"namespace\":\"html\",\"tag\":\"input\"},\"children\":[]}]},{\"props\":{\"className\":\"interact-flex-row-right\"},\"nodeType\":\"DOM\",\"type\":\"node\",\"instanceArgs\":{\"namespace\":\"html\",\"tag\":\"div\"},\"children\":[{\"props\":{\"attributes\":{\"data-bind\":\"text: formatted_val\"}},\"nodeType\":\"DOM\",\"type\":\"node\",\"instanceArgs\":{\"namespace\":\"html\",\"tag\":\"p\"},\"children\":[]}]}]}]}]},{\"props\":{\"className\":\"field interact-widget\"},\"nodeType\":\"DOM\",\"type\":\"node\",\"instanceArgs\":{\"namespace\":\"html\",\"tag\":\"div\"},\"children\":[{\"props\":{},\"nodeType\":\"Scope\",\"type\":\"node\",\"instanceArgs\":{\"imports\":{\"data\":[{\"name\":\"knockout\",\"type\":\"js\",\"url\":\"\\/assetserver\\/ed00ed28984fd6f31ca204c39b41264a30b47b3c-knockout.js\"},{\"name\":\"knockout_punches\",\"type\":\"js\",\"url\":\"\\/assetserver\\/c11b402f27e4ffed9d363d08abde93165eec9bbd-knockout_punches.js\"},{\"name\":null,\"type\":\"js\",\"url\":\"\\/assetserver\\/9f59a791c13c961542687c1e74ae4273b6401968-all.js\"},{\"name\":null,\"type\":\"css\",\"url\":\"\\/assetserver\\/688b43c7218d52f5c887e9ae903e0f50f2da1f5a-style.css\"},{\"name\":null,\"type\":\"css\",\"url\":\"\\/assetserver\\/7382126079d5fc156dbd91620549bb882d4d1562-bulma_confined.min.css\"}],\"type\":\"async_block\"},\"id\":\"8957734328638311162\",\"handlers\":{\"changes\":[\"(function (val){return (val!=this.model[\\\"changes\\\"]()) ? (this.valueFromJulia[\\\"changes\\\"]=true, this.model[\\\"changes\\\"](val)) : undefined})\"],\"index\":[\"(function (val){return (val!=this.model[\\\"index\\\"]()) ? (this.valueFromJulia[\\\"index\\\"]=true, this.model[\\\"index\\\"](val)) : undefined})\"]},\"systemjs_options\":null,\"mount_callbacks\":[\"function () {\\n    var handler = (function (ko, koPunches) {\\n    ko.punches.enableAll();\\n    ko.bindingHandlers.numericValue = {\\n        init: function(element, valueAccessor, allBindings, data, context) {\\n            var stringified = ko.observable(ko.unwrap(valueAccessor()));\\n            stringified.subscribe(function(value) {\\n                var val = parseFloat(value);\\n                if (!isNaN(val)) {\\n                    valueAccessor()(val);\\n                }\\n            });\\n            valueAccessor().subscribe(function(value) {\\n                var str = JSON.stringify(value);\\n                if ((str == \\\"0\\\") && ([\\\"-0\\\", \\\"-0.\\\"].indexOf(stringified()) >= 0))\\n                     return;\\n                 if ([\\\"null\\\", \\\"\\\"].indexOf(str) >= 0)\\n                     return;\\n                stringified(str);\\n            });\\n            ko.applyBindingsToNode(\\n                element,\\n                {\\n                    value: stringified,\\n                    valueUpdate: allBindings.get('valueUpdate'),\\n                },\\n                context,\\n            );\\n        }\\n    };\\n    var json_data = {\\\"formatted_vals\\\":[\\\"1\\\",\\\"2\\\",\\\"3\\\",\\\"4\\\",\\\"5\\\",\\\"6\\\",\\\"7\\\",\\\"8\\\"],\\\"changes\\\":WebIO.getval({\\\"name\\\":\\\"changes\\\",\\\"scope\\\":\\\"8957734328638311162\\\",\\\"id\\\":\\\"17845799093041414067\\\",\\\"type\\\":\\\"observable\\\"}),\\\"index\\\":WebIO.getval({\\\"name\\\":\\\"index\\\",\\\"scope\\\":\\\"8957734328638311162\\\",\\\"id\\\":\\\"4061483651876080109\\\",\\\"type\\\":\\\"observable\\\"})};\\n    var self = this;\\n    function AppViewModel() {\\n        for (var key in json_data) {\\n            var el = json_data[key];\\n            this[key] = Array.isArray(el) ? ko.observableArray(el) : ko.observable(el);\\n        }\\n        \\n        [this[\\\"formatted_val\\\"]=ko.computed(    function(){\\n        return this.formatted_vals()[parseInt(this.index())-(1)];\\n    }\\n,this)]\\n        [this[\\\"changes\\\"].subscribe((function (val){!(this.valueFromJulia[\\\"changes\\\"]) ? (WebIO.setval({\\\"name\\\":\\\"changes\\\",\\\"scope\\\":\\\"8957734328638311162\\\",\\\"id\\\":\\\"17845799093041414067\\\",\\\"type\\\":\\\"observable\\\"},val)) : undefined; return this.valueFromJulia[\\\"changes\\\"]=false}),self),this[\\\"index\\\"].subscribe((function (val){!(this.valueFromJulia[\\\"index\\\"]) ? (WebIO.setval({\\\"name\\\":\\\"index\\\",\\\"scope\\\":\\\"8957734328638311162\\\",\\\"id\\\":\\\"4061483651876080109\\\",\\\"type\\\":\\\"observable\\\"},val)) : undefined; return this.valueFromJulia[\\\"index\\\"]=false}),self)]\\n        \\n    }\\n    self.model = new AppViewModel();\\n    self.valueFromJulia = {};\\n    for (var key in json_data) {\\n        self.valueFromJulia[key] = false;\\n    }\\n    ko.applyBindings(self.model, self.dom);\\n}\\n);\\n    (WebIO.importBlock({\\\"data\\\":[{\\\"name\\\":\\\"knockout\\\",\\\"type\\\":\\\"js\\\",\\\"url\\\":\\\"\\/assetserver\\/ed00ed28984fd6f31ca204c39b41264a30b47b3c-knockout.js\\\"},{\\\"name\\\":\\\"knockout_punches\\\",\\\"type\\\":\\\"js\\\",\\\"url\\\":\\\"\\/assetserver\\/c11b402f27e4ffed9d363d08abde93165eec9bbd-knockout_punches.js\\\"}],\\\"type\\\":\\\"async_block\\\"})).then((imports) => handler.apply(this, imports));\\n}\\n\"],\"observables\":{\"changes\":{\"sync\":false,\"id\":\"17845799093041414067\",\"value\":0},\"index\":{\"sync\":true,\"id\":\"4061483651876080109\",\"value\":4}}},\"children\":[{\"props\":{\"className\":\"interact-flex-row interact-widget\"},\"nodeType\":\"DOM\",\"type\":\"node\",\"instanceArgs\":{\"namespace\":\"html\",\"tag\":\"div\"},\"children\":[{\"props\":{\"className\":\"interact-flex-row-left\"},\"nodeType\":\"DOM\",\"type\":\"node\",\"instanceArgs\":{\"namespace\":\"html\",\"tag\":\"div\"},\"children\":[{\"props\":{\"className\":\"interact \",\"style\":{\"padding\":\"5px 10px 0px 10px\"}},\"nodeType\":\"DOM\",\"type\":\"node\",\"instanceArgs\":{\"namespace\":\"html\",\"tag\":\"label\"},\"children\":[\"j\"]}]},{\"props\":{\"className\":\"interact-flex-row-center\"},\"nodeType\":\"DOM\",\"type\":\"node\",\"instanceArgs\":{\"namespace\":\"html\",\"tag\":\"div\"},\"children\":[{\"props\":{\"max\":8,\"min\":1,\"attributes\":{\"type\":\"range\",\"data-bind\":\"numericValue: index, valueUpdate: 'input', event: {change: function (){this.changes(this.changes()+1)}}\",\"orient\":\"horizontal\"},\"step\":1,\"className\":\"slider slider is-fullwidth\",\"style\":{}},\"nodeType\":\"DOM\",\"type\":\"node\",\"instanceArgs\":{\"namespace\":\"html\",\"tag\":\"input\"},\"children\":[]}]},{\"props\":{\"className\":\"interact-flex-row-right\"},\"nodeType\":\"DOM\",\"type\":\"node\",\"instanceArgs\":{\"namespace\":\"html\",\"tag\":\"div\"},\"children\":[{\"props\":{\"attributes\":{\"data-bind\":\"text: formatted_val\"}},\"nodeType\":\"DOM\",\"type\":\"node\",\"instanceArgs\":{\"namespace\":\"html\",\"tag\":\"p\"},\"children\":[]}]}]}]}]},{\"props\":{},\"nodeType\":\"Scope\",\"type\":\"node\",\"instanceArgs\":{\"imports\":{\"data\":[],\"type\":\"async_block\"},\"id\":\"4665179874474618198\",\"handlers\":{},\"systemjs_options\":null,\"mount_callbacks\":[],\"observables\":{\"obs-node\":{\"sync\":false,\"id\":\"8791163614817953808\",\"value\":{\"props\":{\"className\":\"interact-flex-row interact-widget\"},\"nodeType\":\"DOM\",\"type\":\"node\",\"instanceArgs\":{\"namespace\":\"html\",\"tag\":\"div\"},\"children\":[{\"props\":{\"setInnerHtml\":\"<pre>10×10 Array{Int64,2}:\\n 0  0  0  0  0  0  0  0  0  0\\n 0  0  0  0  0  0  0  0  0  0\\n 0  0  0  0  0  0  0  0  0  0\\n 0  0  0  7  7  7  0  0  0  0\\n 0  0  0  7  7  7  0  0  0  0\\n 0  0  0  7  7  7  0  0  0  0\\n 0  0  0  0  0  0  0  0  0  0\\n 0  0  0  0  0  0  0  0  0  0\\n 0  0  0  0  0  0  0  0  0  0\\n 0  0  0  0  0  0  0  0  0  0<\\/pre>\"},\"nodeType\":\"DOM\",\"type\":\"node\",\"instanceArgs\":{\"namespace\":\"html\",\"tag\":\"div\"},\"children\":[]}]}}}},\"children\":[{\"props\":{},\"nodeType\":\"ObservableNode\",\"type\":\"node\",\"instanceArgs\":{\"id\":\"8791163614817953808\",\"name\":\"obs-node\"},\"children\":[]}]}]},\n",
       "            window,\n",
       "        );\n",
       "    } else {\n",
       "        document\n",
       "            .querySelector('[data-webio-mountpoint=\"13159425354811315926\"]')\n",
       "            .innerHTML = (\n",
       "                '<div style=\"padding: 1em; background-color: #f8d6da; border: 1px solid #f5c6cb\">' +\n",
       "                '<p><strong>WebIO not detected.</strong></p>' +\n",
       "                '<p>Please read ' +\n",
       "                '<a href=\"https://juliagizmos.github.io/WebIO.jl/latest/troubleshooting/not-detected/\" target=\"_blank\">the troubleshooting guide</a> ' +\n",
       "                'for more information on how to resolve this issue.</p>' +\n",
       "                '<p><a href=\"https://juliagizmos.github.io/WebIO.jl/latest/troubleshooting/not-detected/\" target=\"_blank\">https://juliagizmos.github.io/WebIO.jl/latest/troubleshooting/not-detected/</a></p>' +\n",
       "                '</div>'\n",
       "            );\n",
       "    }\n",
       "    </script>\n",
       "</div>\n"
      ],
      "text/plain": [
       "Node{WebIO.DOM}(WebIO.DOM(:html, :div), Any[Node{WebIO.DOM}(WebIO.DOM(:html, :div), Any[Scope(Node{WebIO.DOM}(WebIO.DOM(:html, :div), Any[Node{WebIO.DOM}(WebIO.DOM(:html, :div), Any[Node{WebIO.DOM}(WebIO.DOM(:html, :label), Any[\"i\"], Dict{Symbol,Any}(:className => \"interact \",:style => Dict{Any,Any}(:padding => \"5px 10px 0px 10px\")))], Dict{Symbol,Any}(:className => \"interact-flex-row-left\")), Node{WebIO.DOM}(WebIO.DOM(:html, :div), Any[Node{WebIO.DOM}(WebIO.DOM(:html, :input), Any[], Dict{Symbol,Any}(:max => 8,:min => 1,:attributes => Dict{Any,Any}(:type => \"range\",Symbol(\"data-bind\") => \"numericValue: index, valueUpdate: 'input', event: {change: function (){this.changes(this.changes()+1)}}\",\"orient\" => \"horizontal\"),:step => 1,:className => \"slider slider is-fullwidth\",:style => Dict{Any,Any}()))], Dict{Symbol,Any}(:className => \"interact-flex-row-center\")), Node{WebIO.DOM}(WebIO.DOM(:html, :div), Any[Node{WebIO.DOM}(WebIO.DOM(:html, :p), Any[], Dict{Symbol,Any}(:attributes => Dict(\"data-bind\" => \"text: formatted_val\")))], Dict{Symbol,Any}(:className => \"interact-flex-row-right\"))], Dict{Symbol,Any}(:className => \"interact-flex-row interact-widget\")), Dict{String,Tuple{Observables.AbstractObservable,Union{Nothing, Bool}}}(\"changes\" => (Observable{Int64} with 1 listeners. Value:\n",
       "0, nothing),\"index\" => (Observable{Int64} with 2 listeners. Value:\n",
       "4, nothing)), Set{String}(), nothing, Asset[Asset(\"js\", \"knockout\", \"/Users/crstnbr/.julia/packages/Knockout/IP1uR/src/../assets/knockout.js\"), Asset(\"js\", \"knockout_punches\", \"/Users/crstnbr/.julia/packages/Knockout/IP1uR/src/../assets/knockout_punches.js\"), Asset(\"js\", nothing, \"/Users/crstnbr/.julia/packages/InteractBase/sOe2Z/src/../assets/all.js\"), Asset(\"css\", nothing, \"/Users/crstnbr/.julia/packages/InteractBase/sOe2Z/src/../assets/style.css\"), Asset(\"css\", nothing, \"/Users/crstnbr/.julia/packages/Interact/SbgIk/src/../assets/bulma_confined.min.css\")], Dict{Any,Any}(\"changes\" => Any[WebIO.JSString(\"(function (val){return (val!=this.model[\\\"changes\\\"]()) ? (this.valueFromJulia[\\\"changes\\\"]=true, this.model[\\\"changes\\\"](val)) : undefined})\")],\"index\" => Any[WebIO.JSString(\"(function (val){return (val!=this.model[\\\"index\\\"]()) ? (this.valueFromJulia[\\\"index\\\"]=true, this.model[\\\"index\\\"](val)) : undefined})\")]), WebIO.ConnectionPool(Channel{Any}(sz_max:32,sz_curr:0), Set{AbstractConnection}(), Base.GenericCondition{Base.AlwaysLockedST}(Base.InvasiveLinkedList{Task}(Task (runnable) @0x000000011b6dead0, Task (runnable) @0x000000011b6dead0), Base.AlwaysLockedST(1))), WebIO.JSString[WebIO.JSString(\"function () {\\n    var handler = (function (ko, koPunches) {\\n    ko.punches.enableAll();\\n    ko.bindingHandlers.numericValue = {\\n        init: function(element, valueAccessor, allBindings, data, context) {\\n            var stringified = ko.observable(ko.unwrap(valueAccessor()));\\n            stringified.subscribe(function(value) {\\n                var val = parseFloat(value);\\n                if (!isNaN(val)) {\\n                    valueAccessor()(val);\\n                }\\n            });\\n            valueAccessor().subscribe(function(value) {\\n                var str = JSON.stringify(value);\\n                if ((str == \\\"0\\\") && ([\\\"-0\\\", \\\"-0.\\\"].indexOf(stringified()) >= 0))\\n                     return;\\n                 if ([\\\"null\\\", \\\"\\\"].indexOf(str) >= 0)\\n                     return;\\n                stringified(str);\\n            });\\n            ko.applyBindingsToNode(\\n                element,\\n                {\\n                    value: stringified,\\n                    valueUpdate: allBindings.get('valueUpdate'),\\n                },\\n                context,\\n            );\\n        }\\n    };\\n    var json_data = {\\\"formatted_vals\\\":[\\\"1\\\",\\\"2\\\",\\\"3\\\",\\\"4\\\",\\\"5\\\",\\\"6\\\",\\\"7\\\",\\\"8\\\"],\\\"changes\\\":WebIO.getval({\\\"name\\\":\\\"changes\\\",\\\"scope\\\":\\\"15258182498443507158\\\",\\\"id\\\":\\\"13263451734234020658\\\",\\\"type\\\":\\\"observable\\\"}),\\\"index\\\":WebIO.getval({\\\"name\\\":\\\"index\\\",\\\"scope\\\":\\\"15258182498443507158\\\",\\\"id\\\":\\\"12457297629508708584\\\",\\\"type\\\":\\\"observable\\\"})};\\n    var self = this;\\n    function AppViewModel() {\\n        for (var key in json_data) {\\n            var el = json_data[key];\\n            this[key] = Array.isArray(el) ? ko.observableArray(el) : ko.observable(el);\\n        }\\n        \\n        [this[\\\"formatted_val\\\"]=ko.computed(    function(){\\n        return this.formatted_vals()[parseInt(this.index())-(1)];\\n    }\\n,this)]\\n        [this[\\\"changes\\\"].subscribe((function (val){!(this.valueFromJulia[\\\"changes\\\"]) ? (WebIO.setval({\\\"name\\\":\\\"changes\\\",\\\"scope\\\":\\\"15258182498443507158\\\",\\\"id\\\":\\\"13263451734234020658\\\",\\\"type\\\":\\\"observable\\\"},val)) : undefined; return this.valueFromJulia[\\\"changes\\\"]=false}),self),this[\\\"index\\\"].subscribe((function (val){!(this.valueFromJulia[\\\"index\\\"]) ? (WebIO.setval({\\\"name\\\":\\\"index\\\",\\\"scope\\\":\\\"15258182498443507158\\\",\\\"id\\\":\\\"12457297629508708584\\\",\\\"type\\\":\\\"observable\\\"},val)) : undefined; return this.valueFromJulia[\\\"index\\\"]=false}),self)]\\n        \\n    }\\n    self.model = new AppViewModel();\\n    self.valueFromJulia = {};\\n    for (var key in json_data) {\\n        self.valueFromJulia[key] = false;\\n    }\\n    ko.applyBindings(self.model, self.dom);\\n}\\n);\\n    (WebIO.importBlock({\\\"data\\\":[{\\\"name\\\":\\\"knockout\\\",\\\"type\\\":\\\"js\\\",\\\"url\\\":\\\"/assetserver/ed00ed28984fd6f31ca204c39b41264a30b47b3c-knockout.js\\\"},{\\\"name\\\":\\\"knockout_punches\\\",\\\"type\\\":\\\"js\\\",\\\"url\\\":\\\"/assetserver/c11b402f27e4ffed9d363d08abde93165eec9bbd-knockout_punches.js\\\"}],\\\"type\\\":\\\"async_block\\\"})).then((imports) => handler.apply(this, imports));\\n}\\n\")])], Dict{Symbol,Any}(:className => \"field interact-widget\")), Node{WebIO.DOM}(WebIO.DOM(:html, :div), Any[Scope(Node{WebIO.DOM}(WebIO.DOM(:html, :div), Any[Node{WebIO.DOM}(WebIO.DOM(:html, :div), Any[Node{WebIO.DOM}(WebIO.DOM(:html, :label), Any[\"j\"], Dict{Symbol,Any}(:className => \"interact \",:style => Dict{Any,Any}(:padding => \"5px 10px 0px 10px\")))], Dict{Symbol,Any}(:className => \"interact-flex-row-left\")), Node{WebIO.DOM}(WebIO.DOM(:html, :div), Any[Node{WebIO.DOM}(WebIO.DOM(:html, :input), Any[], Dict{Symbol,Any}(:max => 8,:min => 1,:attributes => Dict{Any,Any}(:type => \"range\",Symbol(\"data-bind\") => \"numericValue: index, valueUpdate: 'input', event: {change: function (){this.changes(this.changes()+1)}}\",\"orient\" => \"horizontal\"),:step => 1,:className => \"slider slider is-fullwidth\",:style => Dict{Any,Any}()))], Dict{Symbol,Any}(:className => \"interact-flex-row-center\")), Node{WebIO.DOM}(WebIO.DOM(:html, :div), Any[Node{WebIO.DOM}(WebIO.DOM(:html, :p), Any[], Dict{Symbol,Any}(:attributes => Dict(\"data-bind\" => \"text: formatted_val\")))], Dict{Symbol,Any}(:className => \"interact-flex-row-right\"))], Dict{Symbol,Any}(:className => \"interact-flex-row interact-widget\")), Dict{String,Tuple{Observables.AbstractObservable,Union{Nothing, Bool}}}(\"changes\" => (Observable{Int64} with 1 listeners. Value:\n",
       "0, nothing),\"index\" => (Observable{Int64} with 2 listeners. Value:\n",
       "4, nothing)), Set{String}(), nothing, Asset[Asset(\"js\", \"knockout\", \"/Users/crstnbr/.julia/packages/Knockout/IP1uR/src/../assets/knockout.js\"), Asset(\"js\", \"knockout_punches\", \"/Users/crstnbr/.julia/packages/Knockout/IP1uR/src/../assets/knockout_punches.js\"), Asset(\"js\", nothing, \"/Users/crstnbr/.julia/packages/InteractBase/sOe2Z/src/../assets/all.js\"), Asset(\"css\", nothing, \"/Users/crstnbr/.julia/packages/InteractBase/sOe2Z/src/../assets/style.css\"), Asset(\"css\", nothing, \"/Users/crstnbr/.julia/packages/Interact/SbgIk/src/../assets/bulma_confined.min.css\")], Dict{Any,Any}(\"changes\" => Any[WebIO.JSString(\"(function (val){return (val!=this.model[\\\"changes\\\"]()) ? (this.valueFromJulia[\\\"changes\\\"]=true, this.model[\\\"changes\\\"](val)) : undefined})\")],\"index\" => Any[WebIO.JSString(\"(function (val){return (val!=this.model[\\\"index\\\"]()) ? (this.valueFromJulia[\\\"index\\\"]=true, this.model[\\\"index\\\"](val)) : undefined})\")]), WebIO.ConnectionPool(Channel{Any}(sz_max:32,sz_curr:0), Set{AbstractConnection}(), Base.GenericCondition{Base.AlwaysLockedST}(Base.InvasiveLinkedList{Task}(Task (runnable) @0x000000011b6def50, Task (runnable) @0x000000011b6def50), Base.AlwaysLockedST(1))), WebIO.JSString[WebIO.JSString(\"function () {\\n    var handler = (function (ko, koPunches) {\\n    ko.punches.enableAll();\\n    ko.bindingHandlers.numericValue = {\\n        init: function(element, valueAccessor, allBindings, data, context) {\\n            var stringified = ko.observable(ko.unwrap(valueAccessor()));\\n            stringified.subscribe(function(value) {\\n                var val = parseFloat(value);\\n                if (!isNaN(val)) {\\n                    valueAccessor()(val);\\n                }\\n            });\\n            valueAccessor().subscribe(function(value) {\\n                var str = JSON.stringify(value);\\n                if ((str == \\\"0\\\") && ([\\\"-0\\\", \\\"-0.\\\"].indexOf(stringified()) >= 0))\\n                     return;\\n                 if ([\\\"null\\\", \\\"\\\"].indexOf(str) >= 0)\\n                     return;\\n                stringified(str);\\n            });\\n            ko.applyBindingsToNode(\\n                element,\\n                {\\n                    value: stringified,\\n                    valueUpdate: allBindings.get('valueUpdate'),\\n                },\\n                context,\\n            );\\n        }\\n    };\\n    var json_data = {\\\"formatted_vals\\\":[\\\"1\\\",\\\"2\\\",\\\"3\\\",\\\"4\\\",\\\"5\\\",\\\"6\\\",\\\"7\\\",\\\"8\\\"],\\\"changes\\\":WebIO.getval({\\\"name\\\":\\\"changes\\\",\\\"scope\\\":\\\"8957734328638311162\\\",\\\"id\\\":\\\"17845799093041414067\\\",\\\"type\\\":\\\"observable\\\"}),\\\"index\\\":WebIO.getval({\\\"name\\\":\\\"index\\\",\\\"scope\\\":\\\"8957734328638311162\\\",\\\"id\\\":\\\"4061483651876080109\\\",\\\"type\\\":\\\"observable\\\"})};\\n    var self = this;\\n    function AppViewModel() {\\n        for (var key in json_data) {\\n            var el = json_data[key];\\n            this[key] = Array.isArray(el) ? ko.observableArray(el) : ko.observable(el);\\n        }\\n        \\n        [this[\\\"formatted_val\\\"]=ko.computed(    function(){\\n        return this.formatted_vals()[parseInt(this.index())-(1)];\\n    }\\n,this)]\\n        [this[\\\"changes\\\"].subscribe((function (val){!(this.valueFromJulia[\\\"changes\\\"]) ? (WebIO.setval({\\\"name\\\":\\\"changes\\\",\\\"scope\\\":\\\"8957734328638311162\\\",\\\"id\\\":\\\"17845799093041414067\\\",\\\"type\\\":\\\"observable\\\"},val)) : undefined; return this.valueFromJulia[\\\"changes\\\"]=false}),self),this[\\\"index\\\"].subscribe((function (val){!(this.valueFromJulia[\\\"index\\\"]) ? (WebIO.setval({\\\"name\\\":\\\"index\\\",\\\"scope\\\":\\\"8957734328638311162\\\",\\\"id\\\":\\\"4061483651876080109\\\",\\\"type\\\":\\\"observable\\\"},val)) : undefined; return this.valueFromJulia[\\\"index\\\"]=false}),self)]\\n        \\n    }\\n    self.model = new AppViewModel();\\n    self.valueFromJulia = {};\\n    for (var key in json_data) {\\n        self.valueFromJulia[key] = false;\\n    }\\n    ko.applyBindings(self.model, self.dom);\\n}\\n);\\n    (WebIO.importBlock({\\\"data\\\":[{\\\"name\\\":\\\"knockout\\\",\\\"type\\\":\\\"js\\\",\\\"url\\\":\\\"/assetserver/ed00ed28984fd6f31ca204c39b41264a30b47b3c-knockout.js\\\"},{\\\"name\\\":\\\"knockout_punches\\\",\\\"type\\\":\\\"js\\\",\\\"url\\\":\\\"/assetserver/c11b402f27e4ffed9d363d08abde93165eec9bbd-knockout_punches.js\\\"}],\\\"type\\\":\\\"async_block\\\"})).then((imports) => handler.apply(this, imports));\\n}\\n\")])], Dict{Symbol,Any}(:className => \"field interact-widget\")), Observable{Any} with 0 listeners. Value:\n",
       "Node{WebIO.DOM}(WebIO.DOM(:html, :div), Any[[0 0 … 0 0; 0 0 … 0 0; … ; 0 0 … 0 0; 0 0 … 0 0]], Dict{Symbol,Any}(:className => \"interact-flex-row interact-widget\"))], Dict{Symbol,Any}())"
      ]
     },
     "execution_count": 8,
     "metadata": {
      "application/vnd.webio.node+json": {
       "kernelId": "4f005b8b-b806-4ef5-849e-f26ceb7e087e"
      }
     },
     "output_type": "execute_result"
    }
   ],
   "source": [
    "A = fill(0, 10, 10)\n",
    "n = size(A, 1)\n",
    "\n",
    "@manipulate for i in 1:n-2, j in 1:n-2\n",
    "    insert_block(A, i, j)\n",
    "end"
   ]
  },
  {
   "cell_type": "markdown",
   "metadata": {},
   "source": [
    "### Let's add some color!"
   ]
  },
  {
   "cell_type": "markdown",
   "metadata": {},
   "source": [
    "Our function `insert_block` is generic. Since the first argument `A isa AbstractArray`, we can index into it and set new values. Pretty much every value type is fine!"
   ]
  },
  {
   "cell_type": "code",
   "execution_count": 9,
   "metadata": {},
   "outputs": [],
   "source": [
    "using Colors"
   ]
  },
  {
   "cell_type": "code",
   "execution_count": 10,
   "metadata": {},
   "outputs": [
    {
     "data": {
      "application/vnd.webio.node+json": {
       "children": [
        {
         "children": [
          {
           "children": [
            {
             "children": [
              {
               "children": [
                {
                 "children": [
                  "n"
                 ],
                 "instanceArgs": {
                  "namespace": "html",
                  "tag": "label"
                 },
                 "nodeType": "DOM",
                 "props": {
                  "className": "interact ",
                  "style": {
                   "padding": "5px 10px 0px 10px"
                  }
                 },
                 "type": "node"
                }
               ],
               "instanceArgs": {
                "namespace": "html",
                "tag": "div"
               },
               "nodeType": "DOM",
               "props": {
                "className": "interact-flex-row-left"
               },
               "type": "node"
              },
              {
               "children": [
                {
                 "children": [],
                 "instanceArgs": {
                  "namespace": "html",
                  "tag": "input"
                 },
                 "nodeType": "DOM",
                 "props": {
                  "attributes": {
                   "data-bind": "numericValue: index, valueUpdate: 'input', event: {change: function (){this.changes(this.changes()+1)}}",
                   "orient": "horizontal",
                   "type": "range"
                  },
                  "className": "slider slider is-fullwidth",
                  "max": 80,
                  "min": 1,
                  "step": 1,
                  "style": {}
                 },
                 "type": "node"
                }
               ],
               "instanceArgs": {
                "namespace": "html",
                "tag": "div"
               },
               "nodeType": "DOM",
               "props": {
                "className": "interact-flex-row-center"
               },
               "type": "node"
              },
              {
               "children": [
                {
                 "children": [],
                 "instanceArgs": {
                  "namespace": "html",
                  "tag": "p"
                 },
                 "nodeType": "DOM",
                 "props": {
                  "attributes": {
                   "data-bind": "text: formatted_val"
                  }
                 },
                 "type": "node"
                }
               ],
               "instanceArgs": {
                "namespace": "html",
                "tag": "div"
               },
               "nodeType": "DOM",
               "props": {
                "className": "interact-flex-row-right"
               },
               "type": "node"
              }
             ],
             "instanceArgs": {
              "namespace": "html",
              "tag": "div"
             },
             "nodeType": "DOM",
             "props": {
              "className": "interact-flex-row interact-widget"
             },
             "type": "node"
            }
           ],
           "instanceArgs": {
            "handlers": {
             "changes": [
              "(function (val){return (val!=this.model[\"changes\"]()) ? (this.valueFromJulia[\"changes\"]=true, this.model[\"changes\"](val)) : undefined})"
             ],
             "index": [
              "(function (val){return (val!=this.model[\"index\"]()) ? (this.valueFromJulia[\"index\"]=true, this.model[\"index\"](val)) : undefined})"
             ]
            },
            "id": "18193748863642422398",
            "imports": {
             "data": [
              {
               "name": "knockout",
               "type": "js",
               "url": "/assetserver/ed00ed28984fd6f31ca204c39b41264a30b47b3c-knockout.js"
              },
              {
               "name": "knockout_punches",
               "type": "js",
               "url": "/assetserver/c11b402f27e4ffed9d363d08abde93165eec9bbd-knockout_punches.js"
              },
              {
               "name": null,
               "type": "js",
               "url": "/assetserver/9f59a791c13c961542687c1e74ae4273b6401968-all.js"
              },
              {
               "name": null,
               "type": "css",
               "url": "/assetserver/688b43c7218d52f5c887e9ae903e0f50f2da1f5a-style.css"
              },
              {
               "name": null,
               "type": "css",
               "url": "/assetserver/7382126079d5fc156dbd91620549bb882d4d1562-bulma_confined.min.css"
              }
             ],
             "type": "async_block"
            },
            "mount_callbacks": [
             "function () {\n    var handler = (function (ko, koPunches) {\n    ko.punches.enableAll();\n    ko.bindingHandlers.numericValue = {\n        init: function(element, valueAccessor, allBindings, data, context) {\n            var stringified = ko.observable(ko.unwrap(valueAccessor()));\n            stringified.subscribe(function(value) {\n                var val = parseFloat(value);\n                if (!isNaN(val)) {\n                    valueAccessor()(val);\n                }\n            });\n            valueAccessor().subscribe(function(value) {\n                var str = JSON.stringify(value);\n                if ((str == \"0\") && ([\"-0\", \"-0.\"].indexOf(stringified()) >= 0))\n                     return;\n                 if ([\"null\", \"\"].indexOf(str) >= 0)\n                     return;\n                stringified(str);\n            });\n            ko.applyBindingsToNode(\n                element,\n                {\n                    value: stringified,\n                    valueUpdate: allBindings.get('valueUpdate'),\n                },\n                context,\n            );\n        }\n    };\n    var json_data = {\"formatted_vals\":[\"1\",\"2\",\"3\",\"4\",\"5\",\"6\",\"7\",\"8\",\"9\",\"10\",\"11\",\"12\",\"13\",\"14\",\"15\",\"16\",\"17\",\"18\",\"19\",\"20\",\"21\",\"22\",\"23\",\"24\",\"25\",\"26\",\"27\",\"28\",\"29\",\"30\",\"31\",\"32\",\"33\",\"34\",\"35\",\"36\",\"37\",\"38\",\"39\",\"40\",\"41\",\"42\",\"43\",\"44\",\"45\",\"46\",\"47\",\"48\",\"49\",\"50\",\"51\",\"52\",\"53\",\"54\",\"55\",\"56\",\"57\",\"58\",\"59\",\"60\",\"61\",\"62\",\"63\",\"64\",\"65\",\"66\",\"67\",\"68\",\"69\",\"70\",\"71\",\"72\",\"73\",\"74\",\"75\",\"76\",\"77\",\"78\",\"79\",\"80\"],\"changes\":WebIO.getval({\"name\":\"changes\",\"scope\":\"18193748863642422398\",\"id\":\"13183213868273818635\",\"type\":\"observable\"}),\"index\":WebIO.getval({\"name\":\"index\",\"scope\":\"18193748863642422398\",\"id\":\"11712976595003651082\",\"type\":\"observable\"})};\n    var self = this;\n    function AppViewModel() {\n        for (var key in json_data) {\n            var el = json_data[key];\n            this[key] = Array.isArray(el) ? ko.observableArray(el) : ko.observable(el);\n        }\n        \n        [this[\"formatted_val\"]=ko.computed(    function(){\n        return this.formatted_vals()[parseInt(this.index())-(1)];\n    }\n,this)]\n        [this[\"changes\"].subscribe((function (val){!(this.valueFromJulia[\"changes\"]) ? (WebIO.setval({\"name\":\"changes\",\"scope\":\"18193748863642422398\",\"id\":\"13183213868273818635\",\"type\":\"observable\"},val)) : undefined; return this.valueFromJulia[\"changes\"]=false}),self),this[\"index\"].subscribe((function (val){!(this.valueFromJulia[\"index\"]) ? (WebIO.setval({\"name\":\"index\",\"scope\":\"18193748863642422398\",\"id\":\"11712976595003651082\",\"type\":\"observable\"},val)) : undefined; return this.valueFromJulia[\"index\"]=false}),self)]\n        \n    }\n    self.model = new AppViewModel();\n    self.valueFromJulia = {};\n    for (var key in json_data) {\n        self.valueFromJulia[key] = false;\n    }\n    ko.applyBindings(self.model, self.dom);\n}\n);\n    (WebIO.importBlock({\"data\":[{\"name\":\"knockout\",\"type\":\"js\",\"url\":\"/assetserver/ed00ed28984fd6f31ca204c39b41264a30b47b3c-knockout.js\"},{\"name\":\"knockout_punches\",\"type\":\"js\",\"url\":\"/assetserver/c11b402f27e4ffed9d363d08abde93165eec9bbd-knockout_punches.js\"}],\"type\":\"async_block\"})).then((imports) => handler.apply(this, imports));\n}\n"
            ],
            "observables": {
             "changes": {
              "id": "13183213868273818635",
              "sync": false,
              "value": 0
             },
             "index": {
              "id": "11712976595003651082",
              "sync": true,
              "value": 40
             }
            },
            "systemjs_options": null
           },
           "nodeType": "Scope",
           "props": {},
           "type": "node"
          }
         ],
         "instanceArgs": {
          "namespace": "html",
          "tag": "div"
         },
         "nodeType": "DOM",
         "props": {
          "className": "field interact-widget"
         },
         "type": "node"
        },
        {
         "children": [
          {
           "children": [],
           "instanceArgs": {
            "id": "7144409675377116589",
            "name": "obs-node"
           },
           "nodeType": "ObservableNode",
           "props": {},
           "type": "node"
          }
         ],
         "instanceArgs": {
          "handlers": {},
          "id": "10610916685221303562",
          "imports": {
           "data": [],
           "type": "async_block"
          },
          "mount_callbacks": [],
          "observables": {
           "obs-node": {
            "id": "7144409675377116589",
            "sync": false,
            "value": {
             "children": [
              {
               "children": [],
               "instanceArgs": {
                "namespace": "html",
                "tag": "div"
               },
               "nodeType": "DOM",
               "props": {
                "setInnerHtml": "<?xml version=\"1.0\" encoding=\"UTF-8\"?>\n<!DOCTYPE svg PUBLIC \"-//W3C//DTD SVG 1.1//EN\"\n \"http://www.w3.org/Graphics/SVG/1.1/DTD/svg11.dtd\">\n<svg xmlns=\"http://www.w3.org/2000/svg\" version=\"1.1\"\n     width=\"180mm\" height=\"25mm\"\n     viewBox=\"0 0 40 1\" preserveAspectRatio=\"none\"\n     shape-rendering=\"crispEdges\" stroke=\"none\">\n<rect width=\".78\" height=\".96\" x=\"0\" y=\"0\" fill=\"#000000\" />\n<rect width=\".78\" height=\".96\" x=\"1\" y=\"0\" fill=\"#FFFF74\" />\n<rect width=\".78\" height=\".96\" x=\"2\" y=\"0\" fill=\"#FF9BFF\" />\n<rect width=\".78\" height=\".96\" x=\"3\" y=\"0\" fill=\"#00D3FF\" />\n<rect width=\".78\" height=\".96\" x=\"4\" y=\"0\" fill=\"#E2630D\" />\n<rect width=\".78\" height=\".96\" x=\"5\" y=\"0\" fill=\"#007E00\" />\n<rect width=\".78\" height=\".96\" x=\"6\" y=\"0\" fill=\"#0050E6\" />\n<rect width=\".78\" height=\".96\" x=\"7\" y=\"0\" fill=\"#AC0047\" />\n<rect width=\".78\" height=\".96\" x=\"8\" y=\"0\" fill=\"#00FFC8\" />\n<rect width=\".78\" height=\".96\" x=\"9\" y=\"0\" fill=\"#006468\" />\n<rect width=\".78\" height=\".96\" x=\"10\" y=\"0\" fill=\"#FFD5C4\" />\n<rect width=\".78\" height=\".96\" x=\"11\" y=\"0\" fill=\"#6C5200\" />\n<rect width=\".78\" height=\".96\" x=\"12\" y=\"0\" fill=\"#7A7581\" />\n<rect width=\".78\" height=\".96\" x=\"13\" y=\"0\" fill=\"#44005C\" />\n<rect width=\".78\" height=\".96\" x=\"14\" y=\"0\" fill=\"#9E9E77\" />\n<rect width=\".78\" height=\".96\" x=\"15\" y=\"0\" fill=\"#FF5C78\" />\n<rect width=\".78\" height=\".96\" x=\"16\" y=\"0\" fill=\"#8197F1\" />\n<rect width=\".78\" height=\".96\" x=\"17\" y=\"0\" fill=\"#003200\" />\n<rect width=\".78\" height=\".96\" x=\"18\" y=\"0\" fill=\"#C721DD\" />\n<rect width=\".78\" height=\".96\" x=\"19\" y=\"0\" fill=\"#FFAD07\" />\n<rect width=\".78\" height=\".96\" x=\"20\" y=\"0\" fill=\"#611C00\" />\n<rect width=\".78\" height=\".96\" x=\"21\" y=\"0\" fill=\"#F3FFFA\" />\n<rect width=\".78\" height=\".96\" x=\"22\" y=\"0\" fill=\"#009E88\" />\n<rect width=\".78\" height=\".96\" x=\"23\" y=\"0\" fill=\"#5EC700\" />\n<rect width=\".78\" height=\".96\" x=\"24\" y=\"0\" fill=\"#002D54\" />\n<rect width=\".78\" height=\".96\" x=\"25\" y=\"0\" fill=\"#553C4A\" />\n<rect width=\".78\" height=\".96\" x=\"26\" y=\"0\" fill=\"#444439\" />\n<rect width=\".78\" height=\".96\" x=\"27\" y=\"0\" fill=\"#008FB6\" />\n<rect width=\".78\" height=\".96\" x=\"28\" y=\"0\" fill=\"#CFD4FD\" />\n<rect width=\".78\" height=\".96\" x=\"29\" y=\"0\" fill=\"#C40000\" />\n<rect width=\".78\" height=\".96\" x=\"30\" y=\"0\" fill=\"#A4675C\" />\n<rect width=\".78\" height=\".96\" x=\"31\" y=\"0\" fill=\"#BB8FA8\" />\n<rect width=\".78\" height=\".96\" x=\"32\" y=\"0\" fill=\"#290001\" />\n<rect width=\".78\" height=\".96\" x=\"33\" y=\"0\" fill=\"#A78600\" />\n<rect width=\".78\" height=\".96\" x=\"34\" y=\"0\" fill=\"#002D30\" />\n<rect width=\".78\" height=\".96\" x=\"35\" y=\"0\" fill=\"#C7DEAA\" />\n<rect width=\".78\" height=\".96\" x=\"36\" y=\"0\" fill=\"#8D9FA3\" />\n<rect width=\".78\" height=\".96\" x=\"37\" y=\"0\" fill=\"#6F5B95\" />\n<rect width=\".78\" height=\".96\" x=\"38\" y=\"0\" fill=\"#A1FFFF\" />\n<rect width=\".78\" height=\".96\" x=\"39\" y=\"0\" fill=\"#B39688\" />\n</svg>"
               },
               "type": "node"
              }
             ],
             "instanceArgs": {
              "namespace": "html",
              "tag": "div"
             },
             "nodeType": "DOM",
             "props": {
              "className": "interact-flex-row interact-widget"
             },
             "type": "node"
            }
           }
          },
          "systemjs_options": null
         },
         "nodeType": "Scope",
         "props": {},
         "type": "node"
        }
       ],
       "instanceArgs": {
        "namespace": "html",
        "tag": "div"
       },
       "nodeType": "DOM",
       "props": {},
       "type": "node"
      },
      "text/html": [
       "<div\n",
       "    class=\"webio-mountpoint\"\n",
       "    data-webio-mountpoint=\"1507717762296069422\"\n",
       ">\n",
       "    <script>\n",
       "    if (window.require && require.defined && require.defined(\"nbextensions/webio-jupyter-notebook\")) {\n",
       "        console.log(\"Jupyter WebIO extension detected, not mounting.\");\n",
       "    } else if (window.WebIO) {\n",
       "        WebIO.mount(\n",
       "            document.querySelector('[data-webio-mountpoint=\"1507717762296069422\"]'),\n",
       "            {\"props\":{},\"nodeType\":\"DOM\",\"type\":\"node\",\"instanceArgs\":{\"namespace\":\"html\",\"tag\":\"div\"},\"children\":[{\"props\":{\"className\":\"field interact-widget\"},\"nodeType\":\"DOM\",\"type\":\"node\",\"instanceArgs\":{\"namespace\":\"html\",\"tag\":\"div\"},\"children\":[{\"props\":{},\"nodeType\":\"Scope\",\"type\":\"node\",\"instanceArgs\":{\"imports\":{\"data\":[{\"name\":\"knockout\",\"type\":\"js\",\"url\":\"\\/assetserver\\/ed00ed28984fd6f31ca204c39b41264a30b47b3c-knockout.js\"},{\"name\":\"knockout_punches\",\"type\":\"js\",\"url\":\"\\/assetserver\\/c11b402f27e4ffed9d363d08abde93165eec9bbd-knockout_punches.js\"},{\"name\":null,\"type\":\"js\",\"url\":\"\\/assetserver\\/9f59a791c13c961542687c1e74ae4273b6401968-all.js\"},{\"name\":null,\"type\":\"css\",\"url\":\"\\/assetserver\\/688b43c7218d52f5c887e9ae903e0f50f2da1f5a-style.css\"},{\"name\":null,\"type\":\"css\",\"url\":\"\\/assetserver\\/7382126079d5fc156dbd91620549bb882d4d1562-bulma_confined.min.css\"}],\"type\":\"async_block\"},\"id\":\"18193748863642422398\",\"handlers\":{\"changes\":[\"(function (val){return (val!=this.model[\\\"changes\\\"]()) ? (this.valueFromJulia[\\\"changes\\\"]=true, this.model[\\\"changes\\\"](val)) : undefined})\"],\"index\":[\"(function (val){return (val!=this.model[\\\"index\\\"]()) ? (this.valueFromJulia[\\\"index\\\"]=true, this.model[\\\"index\\\"](val)) : undefined})\"]},\"systemjs_options\":null,\"mount_callbacks\":[\"function () {\\n    var handler = (function (ko, koPunches) {\\n    ko.punches.enableAll();\\n    ko.bindingHandlers.numericValue = {\\n        init: function(element, valueAccessor, allBindings, data, context) {\\n            var stringified = ko.observable(ko.unwrap(valueAccessor()));\\n            stringified.subscribe(function(value) {\\n                var val = parseFloat(value);\\n                if (!isNaN(val)) {\\n                    valueAccessor()(val);\\n                }\\n            });\\n            valueAccessor().subscribe(function(value) {\\n                var str = JSON.stringify(value);\\n                if ((str == \\\"0\\\") && ([\\\"-0\\\", \\\"-0.\\\"].indexOf(stringified()) >= 0))\\n                     return;\\n                 if ([\\\"null\\\", \\\"\\\"].indexOf(str) >= 0)\\n                     return;\\n                stringified(str);\\n            });\\n            ko.applyBindingsToNode(\\n                element,\\n                {\\n                    value: stringified,\\n                    valueUpdate: allBindings.get('valueUpdate'),\\n                },\\n                context,\\n            );\\n        }\\n    };\\n    var json_data = {\\\"formatted_vals\\\":[\\\"1\\\",\\\"2\\\",\\\"3\\\",\\\"4\\\",\\\"5\\\",\\\"6\\\",\\\"7\\\",\\\"8\\\",\\\"9\\\",\\\"10\\\",\\\"11\\\",\\\"12\\\",\\\"13\\\",\\\"14\\\",\\\"15\\\",\\\"16\\\",\\\"17\\\",\\\"18\\\",\\\"19\\\",\\\"20\\\",\\\"21\\\",\\\"22\\\",\\\"23\\\",\\\"24\\\",\\\"25\\\",\\\"26\\\",\\\"27\\\",\\\"28\\\",\\\"29\\\",\\\"30\\\",\\\"31\\\",\\\"32\\\",\\\"33\\\",\\\"34\\\",\\\"35\\\",\\\"36\\\",\\\"37\\\",\\\"38\\\",\\\"39\\\",\\\"40\\\",\\\"41\\\",\\\"42\\\",\\\"43\\\",\\\"44\\\",\\\"45\\\",\\\"46\\\",\\\"47\\\",\\\"48\\\",\\\"49\\\",\\\"50\\\",\\\"51\\\",\\\"52\\\",\\\"53\\\",\\\"54\\\",\\\"55\\\",\\\"56\\\",\\\"57\\\",\\\"58\\\",\\\"59\\\",\\\"60\\\",\\\"61\\\",\\\"62\\\",\\\"63\\\",\\\"64\\\",\\\"65\\\",\\\"66\\\",\\\"67\\\",\\\"68\\\",\\\"69\\\",\\\"70\\\",\\\"71\\\",\\\"72\\\",\\\"73\\\",\\\"74\\\",\\\"75\\\",\\\"76\\\",\\\"77\\\",\\\"78\\\",\\\"79\\\",\\\"80\\\"],\\\"changes\\\":WebIO.getval({\\\"name\\\":\\\"changes\\\",\\\"scope\\\":\\\"18193748863642422398\\\",\\\"id\\\":\\\"13183213868273818635\\\",\\\"type\\\":\\\"observable\\\"}),\\\"index\\\":WebIO.getval({\\\"name\\\":\\\"index\\\",\\\"scope\\\":\\\"18193748863642422398\\\",\\\"id\\\":\\\"11712976595003651082\\\",\\\"type\\\":\\\"observable\\\"})};\\n    var self = this;\\n    function AppViewModel() {\\n        for (var key in json_data) {\\n            var el = json_data[key];\\n            this[key] = Array.isArray(el) ? ko.observableArray(el) : ko.observable(el);\\n        }\\n        \\n        [this[\\\"formatted_val\\\"]=ko.computed(    function(){\\n        return this.formatted_vals()[parseInt(this.index())-(1)];\\n    }\\n,this)]\\n        [this[\\\"changes\\\"].subscribe((function (val){!(this.valueFromJulia[\\\"changes\\\"]) ? (WebIO.setval({\\\"name\\\":\\\"changes\\\",\\\"scope\\\":\\\"18193748863642422398\\\",\\\"id\\\":\\\"13183213868273818635\\\",\\\"type\\\":\\\"observable\\\"},val)) : undefined; return this.valueFromJulia[\\\"changes\\\"]=false}),self),this[\\\"index\\\"].subscribe((function (val){!(this.valueFromJulia[\\\"index\\\"]) ? (WebIO.setval({\\\"name\\\":\\\"index\\\",\\\"scope\\\":\\\"18193748863642422398\\\",\\\"id\\\":\\\"11712976595003651082\\\",\\\"type\\\":\\\"observable\\\"},val)) : undefined; return this.valueFromJulia[\\\"index\\\"]=false}),self)]\\n        \\n    }\\n    self.model = new AppViewModel();\\n    self.valueFromJulia = {};\\n    for (var key in json_data) {\\n        self.valueFromJulia[key] = false;\\n    }\\n    ko.applyBindings(self.model, self.dom);\\n}\\n);\\n    (WebIO.importBlock({\\\"data\\\":[{\\\"name\\\":\\\"knockout\\\",\\\"type\\\":\\\"js\\\",\\\"url\\\":\\\"\\/assetserver\\/ed00ed28984fd6f31ca204c39b41264a30b47b3c-knockout.js\\\"},{\\\"name\\\":\\\"knockout_punches\\\",\\\"type\\\":\\\"js\\\",\\\"url\\\":\\\"\\/assetserver\\/c11b402f27e4ffed9d363d08abde93165eec9bbd-knockout_punches.js\\\"}],\\\"type\\\":\\\"async_block\\\"})).then((imports) => handler.apply(this, imports));\\n}\\n\"],\"observables\":{\"changes\":{\"sync\":false,\"id\":\"13183213868273818635\",\"value\":0},\"index\":{\"sync\":true,\"id\":\"11712976595003651082\",\"value\":40}}},\"children\":[{\"props\":{\"className\":\"interact-flex-row interact-widget\"},\"nodeType\":\"DOM\",\"type\":\"node\",\"instanceArgs\":{\"namespace\":\"html\",\"tag\":\"div\"},\"children\":[{\"props\":{\"className\":\"interact-flex-row-left\"},\"nodeType\":\"DOM\",\"type\":\"node\",\"instanceArgs\":{\"namespace\":\"html\",\"tag\":\"div\"},\"children\":[{\"props\":{\"className\":\"interact \",\"style\":{\"padding\":\"5px 10px 0px 10px\"}},\"nodeType\":\"DOM\",\"type\":\"node\",\"instanceArgs\":{\"namespace\":\"html\",\"tag\":\"label\"},\"children\":[\"n\"]}]},{\"props\":{\"className\":\"interact-flex-row-center\"},\"nodeType\":\"DOM\",\"type\":\"node\",\"instanceArgs\":{\"namespace\":\"html\",\"tag\":\"div\"},\"children\":[{\"props\":{\"max\":80,\"min\":1,\"attributes\":{\"type\":\"range\",\"data-bind\":\"numericValue: index, valueUpdate: 'input', event: {change: function (){this.changes(this.changes()+1)}}\",\"orient\":\"horizontal\"},\"step\":1,\"className\":\"slider slider is-fullwidth\",\"style\":{}},\"nodeType\":\"DOM\",\"type\":\"node\",\"instanceArgs\":{\"namespace\":\"html\",\"tag\":\"input\"},\"children\":[]}]},{\"props\":{\"className\":\"interact-flex-row-right\"},\"nodeType\":\"DOM\",\"type\":\"node\",\"instanceArgs\":{\"namespace\":\"html\",\"tag\":\"div\"},\"children\":[{\"props\":{\"attributes\":{\"data-bind\":\"text: formatted_val\"}},\"nodeType\":\"DOM\",\"type\":\"node\",\"instanceArgs\":{\"namespace\":\"html\",\"tag\":\"p\"},\"children\":[]}]}]}]}]},{\"props\":{},\"nodeType\":\"Scope\",\"type\":\"node\",\"instanceArgs\":{\"imports\":{\"data\":[],\"type\":\"async_block\"},\"id\":\"16386120427868858782\",\"handlers\":{},\"systemjs_options\":null,\"mount_callbacks\":[],\"observables\":{\"obs-node\":{\"sync\":false,\"id\":\"10092337205653948741\",\"value\":{\"props\":{\"className\":\"interact-flex-row interact-widget\"},\"nodeType\":\"DOM\",\"type\":\"node\",\"instanceArgs\":{\"namespace\":\"html\",\"tag\":\"div\"},\"children\":[{\"props\":{\"setInnerHtml\":\"<?xml version=\\\"1.0\\\" encoding=\\\"UTF-8\\\"?>\\n<!DOCTYPE svg PUBLIC \\\"-\\/\\/W3C\\/\\/DTD SVG 1.1\\/\\/EN\\\"\\n \\\"http:\\/\\/www.w3.org\\/Graphics\\/SVG\\/1.1\\/DTD\\/svg11.dtd\\\">\\n<svg xmlns=\\\"http:\\/\\/www.w3.org\\/2000\\/svg\\\" version=\\\"1.1\\\"\\n     width=\\\"180mm\\\" height=\\\"25mm\\\"\\n     viewBox=\\\"0 0 40 1\\\" preserveAspectRatio=\\\"none\\\"\\n     shape-rendering=\\\"crispEdges\\\" stroke=\\\"none\\\">\\n<rect width=\\\".78\\\" height=\\\".96\\\" x=\\\"0\\\" y=\\\"0\\\" fill=\\\"#000000\\\" \\/>\\n<rect width=\\\".78\\\" height=\\\".96\\\" x=\\\"1\\\" y=\\\"0\\\" fill=\\\"#FFFF74\\\" \\/>\\n<rect width=\\\".78\\\" height=\\\".96\\\" x=\\\"2\\\" y=\\\"0\\\" fill=\\\"#FF9BFF\\\" \\/>\\n<rect width=\\\".78\\\" height=\\\".96\\\" x=\\\"3\\\" y=\\\"0\\\" fill=\\\"#00D3FF\\\" \\/>\\n<rect width=\\\".78\\\" height=\\\".96\\\" x=\\\"4\\\" y=\\\"0\\\" fill=\\\"#E2630D\\\" \\/>\\n<rect width=\\\".78\\\" height=\\\".96\\\" x=\\\"5\\\" y=\\\"0\\\" fill=\\\"#007E00\\\" \\/>\\n<rect width=\\\".78\\\" height=\\\".96\\\" x=\\\"6\\\" y=\\\"0\\\" fill=\\\"#0050E6\\\" \\/>\\n<rect width=\\\".78\\\" height=\\\".96\\\" x=\\\"7\\\" y=\\\"0\\\" fill=\\\"#AC0047\\\" \\/>\\n<rect width=\\\".78\\\" height=\\\".96\\\" x=\\\"8\\\" y=\\\"0\\\" fill=\\\"#00FFC8\\\" \\/>\\n<rect width=\\\".78\\\" height=\\\".96\\\" x=\\\"9\\\" y=\\\"0\\\" fill=\\\"#006468\\\" \\/>\\n<rect width=\\\".78\\\" height=\\\".96\\\" x=\\\"10\\\" y=\\\"0\\\" fill=\\\"#FFD5C4\\\" \\/>\\n<rect width=\\\".78\\\" height=\\\".96\\\" x=\\\"11\\\" y=\\\"0\\\" fill=\\\"#6C5200\\\" \\/>\\n<rect width=\\\".78\\\" height=\\\".96\\\" x=\\\"12\\\" y=\\\"0\\\" fill=\\\"#7A7581\\\" \\/>\\n<rect width=\\\".78\\\" height=\\\".96\\\" x=\\\"13\\\" y=\\\"0\\\" fill=\\\"#44005C\\\" \\/>\\n<rect width=\\\".78\\\" height=\\\".96\\\" x=\\\"14\\\" y=\\\"0\\\" fill=\\\"#9E9E77\\\" \\/>\\n<rect width=\\\".78\\\" height=\\\".96\\\" x=\\\"15\\\" y=\\\"0\\\" fill=\\\"#FF5C78\\\" \\/>\\n<rect width=\\\".78\\\" height=\\\".96\\\" x=\\\"16\\\" y=\\\"0\\\" fill=\\\"#8197F1\\\" \\/>\\n<rect width=\\\".78\\\" height=\\\".96\\\" x=\\\"17\\\" y=\\\"0\\\" fill=\\\"#003200\\\" \\/>\\n<rect width=\\\".78\\\" height=\\\".96\\\" x=\\\"18\\\" y=\\\"0\\\" fill=\\\"#C721DD\\\" \\/>\\n<rect width=\\\".78\\\" height=\\\".96\\\" x=\\\"19\\\" y=\\\"0\\\" fill=\\\"#FFAD07\\\" \\/>\\n<rect width=\\\".78\\\" height=\\\".96\\\" x=\\\"20\\\" y=\\\"0\\\" fill=\\\"#611C00\\\" \\/>\\n<rect width=\\\".78\\\" height=\\\".96\\\" x=\\\"21\\\" y=\\\"0\\\" fill=\\\"#F3FFFA\\\" \\/>\\n<rect width=\\\".78\\\" height=\\\".96\\\" x=\\\"22\\\" y=\\\"0\\\" fill=\\\"#009E88\\\" \\/>\\n<rect width=\\\".78\\\" height=\\\".96\\\" x=\\\"23\\\" y=\\\"0\\\" fill=\\\"#5EC700\\\" \\/>\\n<rect width=\\\".78\\\" height=\\\".96\\\" x=\\\"24\\\" y=\\\"0\\\" fill=\\\"#002D54\\\" \\/>\\n<rect width=\\\".78\\\" height=\\\".96\\\" x=\\\"25\\\" y=\\\"0\\\" fill=\\\"#553C4A\\\" \\/>\\n<rect width=\\\".78\\\" height=\\\".96\\\" x=\\\"26\\\" y=\\\"0\\\" fill=\\\"#444439\\\" \\/>\\n<rect width=\\\".78\\\" height=\\\".96\\\" x=\\\"27\\\" y=\\\"0\\\" fill=\\\"#008FB6\\\" \\/>\\n<rect width=\\\".78\\\" height=\\\".96\\\" x=\\\"28\\\" y=\\\"0\\\" fill=\\\"#CFD4FD\\\" \\/>\\n<rect width=\\\".78\\\" height=\\\".96\\\" x=\\\"29\\\" y=\\\"0\\\" fill=\\\"#C40000\\\" \\/>\\n<rect width=\\\".78\\\" height=\\\".96\\\" x=\\\"30\\\" y=\\\"0\\\" fill=\\\"#A4675C\\\" \\/>\\n<rect width=\\\".78\\\" height=\\\".96\\\" x=\\\"31\\\" y=\\\"0\\\" fill=\\\"#BB8FA8\\\" \\/>\\n<rect width=\\\".78\\\" height=\\\".96\\\" x=\\\"32\\\" y=\\\"0\\\" fill=\\\"#290001\\\" \\/>\\n<rect width=\\\".78\\\" height=\\\".96\\\" x=\\\"33\\\" y=\\\"0\\\" fill=\\\"#A78600\\\" \\/>\\n<rect width=\\\".78\\\" height=\\\".96\\\" x=\\\"34\\\" y=\\\"0\\\" fill=\\\"#002D30\\\" \\/>\\n<rect width=\\\".78\\\" height=\\\".96\\\" x=\\\"35\\\" y=\\\"0\\\" fill=\\\"#C7DEAA\\\" \\/>\\n<rect width=\\\".78\\\" height=\\\".96\\\" x=\\\"36\\\" y=\\\"0\\\" fill=\\\"#8D9FA3\\\" \\/>\\n<rect width=\\\".78\\\" height=\\\".96\\\" x=\\\"37\\\" y=\\\"0\\\" fill=\\\"#6F5B95\\\" \\/>\\n<rect width=\\\".78\\\" height=\\\".96\\\" x=\\\"38\\\" y=\\\"0\\\" fill=\\\"#A1FFFF\\\" \\/>\\n<rect width=\\\".78\\\" height=\\\".96\\\" x=\\\"39\\\" y=\\\"0\\\" fill=\\\"#B39688\\\" \\/>\\n<\\/svg>\"},\"nodeType\":\"DOM\",\"type\":\"node\",\"instanceArgs\":{\"namespace\":\"html\",\"tag\":\"div\"},\"children\":[]}]}}}},\"children\":[{\"props\":{},\"nodeType\":\"ObservableNode\",\"type\":\"node\",\"instanceArgs\":{\"id\":\"10092337205653948741\",\"name\":\"obs-node\"},\"children\":[]}]}]},\n",
       "            window,\n",
       "        );\n",
       "    } else {\n",
       "        document\n",
       "            .querySelector('[data-webio-mountpoint=\"1507717762296069422\"]')\n",
       "            .innerHTML = (\n",
       "                '<div style=\"padding: 1em; background-color: #f8d6da; border: 1px solid #f5c6cb\">' +\n",
       "                '<p><strong>WebIO not detected.</strong></p>' +\n",
       "                '<p>Please read ' +\n",
       "                '<a href=\"https://juliagizmos.github.io/WebIO.jl/latest/troubleshooting/not-detected/\" target=\"_blank\">the troubleshooting guide</a> ' +\n",
       "                'for more information on how to resolve this issue.</p>' +\n",
       "                '<p><a href=\"https://juliagizmos.github.io/WebIO.jl/latest/troubleshooting/not-detected/\" target=\"_blank\">https://juliagizmos.github.io/WebIO.jl/latest/troubleshooting/not-detected/</a></p>' +\n",
       "                '</div>'\n",
       "            );\n",
       "    }\n",
       "    </script>\n",
       "</div>\n"
      ],
      "text/plain": [
       "Node{WebIO.DOM}(WebIO.DOM(:html, :div), Any[Node{WebIO.DOM}(WebIO.DOM(:html, :div), Any[Scope(Node{WebIO.DOM}(WebIO.DOM(:html, :div), Any[Node{WebIO.DOM}(WebIO.DOM(:html, :div), Any[Node{WebIO.DOM}(WebIO.DOM(:html, :label), Any[\"n\"], Dict{Symbol,Any}(:className => \"interact \",:style => Dict{Any,Any}(:padding => \"5px 10px 0px 10px\")))], Dict{Symbol,Any}(:className => \"interact-flex-row-left\")), Node{WebIO.DOM}(WebIO.DOM(:html, :div), Any[Node{WebIO.DOM}(WebIO.DOM(:html, :input), Any[], Dict{Symbol,Any}(:max => 80,:min => 1,:attributes => Dict{Any,Any}(:type => \"range\",Symbol(\"data-bind\") => \"numericValue: index, valueUpdate: 'input', event: {change: function (){this.changes(this.changes()+1)}}\",\"orient\" => \"horizontal\"),:step => 1,:className => \"slider slider is-fullwidth\",:style => Dict{Any,Any}()))], Dict{Symbol,Any}(:className => \"interact-flex-row-center\")), Node{WebIO.DOM}(WebIO.DOM(:html, :div), Any[Node{WebIO.DOM}(WebIO.DOM(:html, :p), Any[], Dict{Symbol,Any}(:attributes => Dict(\"data-bind\" => \"text: formatted_val\")))], Dict{Symbol,Any}(:className => \"interact-flex-row-right\"))], Dict{Symbol,Any}(:className => \"interact-flex-row interact-widget\")), Dict{String,Tuple{Observables.AbstractObservable,Union{Nothing, Bool}}}(\"changes\" => (Observable{Int64} with 1 listeners. Value:\n",
       "0, nothing),\"index\" => (Observable{Int64} with 2 listeners. Value:\n",
       "40, nothing)), Set{String}(), nothing, Asset[Asset(\"js\", \"knockout\", \"/Users/crstnbr/.julia/packages/Knockout/IP1uR/src/../assets/knockout.js\"), Asset(\"js\", \"knockout_punches\", \"/Users/crstnbr/.julia/packages/Knockout/IP1uR/src/../assets/knockout_punches.js\"), Asset(\"js\", nothing, \"/Users/crstnbr/.julia/packages/InteractBase/sOe2Z/src/../assets/all.js\"), Asset(\"css\", nothing, \"/Users/crstnbr/.julia/packages/InteractBase/sOe2Z/src/../assets/style.css\"), Asset(\"css\", nothing, \"/Users/crstnbr/.julia/packages/Interact/SbgIk/src/../assets/bulma_confined.min.css\")], Dict{Any,Any}(\"changes\" => Any[WebIO.JSString(\"(function (val){return (val!=this.model[\\\"changes\\\"]()) ? (this.valueFromJulia[\\\"changes\\\"]=true, this.model[\\\"changes\\\"](val)) : undefined})\")],\"index\" => Any[WebIO.JSString(\"(function (val){return (val!=this.model[\\\"index\\\"]()) ? (this.valueFromJulia[\\\"index\\\"]=true, this.model[\\\"index\\\"](val)) : undefined})\")]), WebIO.ConnectionPool(Channel{Any}(sz_max:32,sz_curr:0), Set{AbstractConnection}(), Base.GenericCondition{Base.AlwaysLockedST}(Base.InvasiveLinkedList{Task}(Task (runnable) @0x000000011bca6d10, Task (runnable) @0x000000011bca6d10), Base.AlwaysLockedST(1))), WebIO.JSString[WebIO.JSString(\"function () {\\n    var handler = (function (ko, koPunches) {\\n    ko.punches.enableAll();\\n    ko.bindingHandlers.numericValue = {\\n        init: function(element, valueAccessor, allBindings, data, context) {\\n            var stringified = ko.observable(ko.unwrap(valueAccessor()));\\n            stringified.subscribe(function(value) {\\n                var val = parseFloat(value);\\n                if (!isNaN(val)) {\\n                    valueAccessor()(val);\\n                }\\n            });\\n            valueAccessor().subscribe(function(value) {\\n                var str = JSON.stringify(value);\\n                if ((str == \\\"0\\\") && ([\\\"-0\\\", \\\"-0.\\\"].indexOf(stringified()) >= 0))\\n                     return;\\n                 if ([\\\"null\\\", \\\"\\\"].indexOf(str) >= 0)\\n                     return;\\n                stringified(str);\\n            });\\n            ko.applyBindingsToNode(\\n                element,\\n                {\\n                    value: stringified,\\n                    valueUpdate: allBindings.get('valueUpdate'),\\n                },\\n                context,\\n            );\\n        }\\n    };\\n    var json_data = {\\\"formatted_vals\\\":[\\\"1\\\",\\\"2\\\",\\\"3\\\",\\\"4\\\",\\\"5\\\",\\\"6\\\",\\\"7\\\",\\\"8\\\",\\\"9\\\",\\\"10\\\",\\\"11\\\",\\\"12\\\",\\\"13\\\",\\\"14\\\",\\\"15\\\",\\\"16\\\",\\\"17\\\",\\\"18\\\",\\\"19\\\",\\\"20\\\",\\\"21\\\",\\\"22\\\",\\\"23\\\",\\\"24\\\",\\\"25\\\",\\\"26\\\",\\\"27\\\",\\\"28\\\",\\\"29\\\",\\\"30\\\",\\\"31\\\",\\\"32\\\",\\\"33\\\",\\\"34\\\",\\\"35\\\",\\\"36\\\",\\\"37\\\",\\\"38\\\",\\\"39\\\",\\\"40\\\",\\\"41\\\",\\\"42\\\",\\\"43\\\",\\\"44\\\",\\\"45\\\",\\\"46\\\",\\\"47\\\",\\\"48\\\",\\\"49\\\",\\\"50\\\",\\\"51\\\",\\\"52\\\",\\\"53\\\",\\\"54\\\",\\\"55\\\",\\\"56\\\",\\\"57\\\",\\\"58\\\",\\\"59\\\",\\\"60\\\",\\\"61\\\",\\\"62\\\",\\\"63\\\",\\\"64\\\",\\\"65\\\",\\\"66\\\",\\\"67\\\",\\\"68\\\",\\\"69\\\",\\\"70\\\",\\\"71\\\",\\\"72\\\",\\\"73\\\",\\\"74\\\",\\\"75\\\",\\\"76\\\",\\\"77\\\",\\\"78\\\",\\\"79\\\",\\\"80\\\"],\\\"changes\\\":WebIO.getval({\\\"name\\\":\\\"changes\\\",\\\"scope\\\":\\\"18193748863642422398\\\",\\\"id\\\":\\\"13183213868273818635\\\",\\\"type\\\":\\\"observable\\\"}),\\\"index\\\":WebIO.getval({\\\"name\\\":\\\"index\\\",\\\"scope\\\":\\\"18193748863642422398\\\",\\\"id\\\":\\\"11712976595003651082\\\",\\\"type\\\":\\\"observable\\\"})};\\n    var self = this;\\n    function AppViewModel() {\\n        for (var key in json_data) {\\n            var el = json_data[key];\\n            this[key] = Array.isArray(el) ? ko.observableArray(el) : ko.observable(el);\\n        }\\n        \\n        [this[\\\"formatted_val\\\"]=ko.computed(    function(){\\n        return this.formatted_vals()[parseInt(this.index())-(1)];\\n    }\\n,this)]\\n        [this[\\\"changes\\\"].subscribe((function (val){!(this.valueFromJulia[\\\"changes\\\"]) ? (WebIO.setval({\\\"name\\\":\\\"changes\\\",\\\"scope\\\":\\\"18193748863642422398\\\",\\\"id\\\":\\\"13183213868273818635\\\",\\\"type\\\":\\\"observable\\\"},val)) : undefined; return this.valueFromJulia[\\\"changes\\\"]=false}),self),this[\\\"index\\\"].subscribe((function (val){!(this.valueFromJulia[\\\"index\\\"]) ? (WebIO.setval({\\\"name\\\":\\\"index\\\",\\\"scope\\\":\\\"18193748863642422398\\\",\\\"id\\\":\\\"11712976595003651082\\\",\\\"type\\\":\\\"observable\\\"},val)) : undefined; return this.valueFromJulia[\\\"index\\\"]=false}),self)]\\n        \\n    }\\n    self.model = new AppViewModel();\\n    self.valueFromJulia = {};\\n    for (var key in json_data) {\\n        self.valueFromJulia[key] = false;\\n    }\\n    ko.applyBindings(self.model, self.dom);\\n}\\n);\\n    (WebIO.importBlock({\\\"data\\\":[{\\\"name\\\":\\\"knockout\\\",\\\"type\\\":\\\"js\\\",\\\"url\\\":\\\"/assetserver/ed00ed28984fd6f31ca204c39b41264a30b47b3c-knockout.js\\\"},{\\\"name\\\":\\\"knockout_punches\\\",\\\"type\\\":\\\"js\\\",\\\"url\\\":\\\"/assetserver/c11b402f27e4ffed9d363d08abde93165eec9bbd-knockout_punches.js\\\"}],\\\"type\\\":\\\"async_block\\\"})).then((imports) => handler.apply(this, imports));\\n}\\n\")])], Dict{Symbol,Any}(:className => \"field interact-widget\")), Observable{Any} with 0 listeners. Value:\n",
       "Node{WebIO.DOM}(WebIO.DOM(:html, :div), Any[RGB{FixedPointNumbers.Normed{UInt8,8}}[RGB{N0f8}(0.0,0.0,0.0), RGB{N0f8}(1.0,1.0,0.455), RGB{N0f8}(1.0,0.608,1.0), RGB{N0f8}(0.0,0.827,1.0), RGB{N0f8}(0.886,0.388,0.051), RGB{N0f8}(0.0,0.494,0.0), RGB{N0f8}(0.0,0.314,0.902), RGB{N0f8}(0.675,0.0,0.278), RGB{N0f8}(0.0,1.0,0.784), RGB{N0f8}(0.0,0.392,0.408)  …  RGB{N0f8}(0.643,0.404,0.361), RGB{N0f8}(0.733,0.561,0.659), RGB{N0f8}(0.161,0.0,0.004), RGB{N0f8}(0.655,0.525,0.0), RGB{N0f8}(0.0,0.176,0.188), RGB{N0f8}(0.78,0.871,0.667), RGB{N0f8}(0.553,0.624,0.639), RGB{N0f8}(0.435,0.357,0.584), RGB{N0f8}(0.631,1.0,1.0), RGB{N0f8}(0.702,0.588,0.533)]], Dict{Symbol,Any}(:className => \"interact-flex-row interact-widget\"))], Dict{Symbol,Any}())"
      ]
     },
     "execution_count": 10,
     "metadata": {
      "application/vnd.webio.node+json": {
       "kernelId": "4f005b8b-b806-4ef5-849e-f26ceb7e087e"
      }
     },
     "output_type": "execute_result"
    }
   ],
   "source": [
    "@manipulate for n in 1:80\n",
    "    distinguishable_colors(n)\n",
    "end"
   ]
  },
  {
   "cell_type": "code",
   "execution_count": 11,
   "metadata": {},
   "outputs": [
    {
     "data": {
      "image/svg+xml": [
       "<?xml version=\"1.0\" encoding=\"UTF-8\"?>\n",
       "<!DOCTYPE svg PUBLIC \"-//W3C//DTD SVG 1.1//EN\"\n",
       " \"http://www.w3.org/Graphics/SVG/1.1/DTD/svg11.dtd\">\n",
       "<svg xmlns=\"http://www.w3.org/2000/svg\" version=\"1.1\"\n",
       "     width=\"180mm\" height=\"25mm\"\n",
       "     viewBox=\"0 0 10 1\" preserveAspectRatio=\"none\"\n",
       "     shape-rendering=\"crispEdges\" stroke=\"none\">\n",
       "<rect width=\".94\" height=\".96\" x=\"0\" y=\"0\" fill=\"#000000\" />\n",
       "<rect width=\".94\" height=\".96\" x=\"1\" y=\"0\" fill=\"#FFFF74\" />\n",
       "<rect width=\".94\" height=\".96\" x=\"2\" y=\"0\" fill=\"#FF9BFF\" />\n",
       "<rect width=\".94\" height=\".96\" x=\"3\" y=\"0\" fill=\"#00D3FF\" />\n",
       "<rect width=\".94\" height=\".96\" x=\"4\" y=\"0\" fill=\"#E2630D\" />\n",
       "<rect width=\".94\" height=\".96\" x=\"5\" y=\"0\" fill=\"#007E00\" />\n",
       "<rect width=\".94\" height=\".96\" x=\"6\" y=\"0\" fill=\"#0050E6\" />\n",
       "<rect width=\".94\" height=\".96\" x=\"7\" y=\"0\" fill=\"#AC0047\" />\n",
       "<rect width=\".94\" height=\".96\" x=\"8\" y=\"0\" fill=\"#00FFC8\" />\n",
       "<rect width=\".94\" height=\".96\" x=\"9\" y=\"0\" fill=\"#006468\" />\n",
       "</svg>"
      ],
      "text/plain": [
       "10-element Array{RGB{N0f8},1} with eltype RGB{FixedPointNumbers.Normed{UInt8,8}}:\n",
       " RGB{N0f8}(0.0,0.0,0.0)\n",
       " RGB{N0f8}(1.0,1.0,0.455)\n",
       " RGB{N0f8}(1.0,0.608,1.0)\n",
       " RGB{N0f8}(0.0,0.827,1.0)\n",
       " RGB{N0f8}(0.886,0.388,0.051)\n",
       " RGB{N0f8}(0.0,0.494,0.0)\n",
       " RGB{N0f8}(0.0,0.314,0.902)\n",
       " RGB{N0f8}(0.675,0.0,0.278)\n",
       " RGB{N0f8}(0.0,1.0,0.784)\n",
       " RGB{N0f8}(0.0,0.392,0.408)"
      ]
     },
     "execution_count": 11,
     "metadata": {},
     "output_type": "execute_result"
    }
   ],
   "source": [
    "colors = distinguishable_colors(10)"
   ]
  },
  {
   "cell_type": "code",
   "execution_count": 12,
   "metadata": {},
   "outputs": [
    {
     "data": {
      "image/svg+xml": [
       "<?xml version=\"1.0\" encoding=\"UTF-8\"?>\n",
       "<!DOCTYPE svg PUBLIC \"-//W3C//DTD SVG 1.1//EN\"\n",
       " \"http://www.w3.org/Graphics/SVG/1.1/DTD/svg11.dtd\">\n",
       "<svg xmlns=\"http://www.w3.org/2000/svg\" version=\"1.1\"\n",
       "     width=\"25mm\" height=\"25mm\" viewBox=\"0 0 1 1\">\n",
       "    <rect width=\"1\" height=\"1\" fill=\"#000000\" stroke=\"none\"/>\n",
       "</svg>\n"
      ],
      "text/plain": [
       "RGB{N0f8}(0.0,0.0,0.0)"
      ]
     },
     "execution_count": 12,
     "metadata": {},
     "output_type": "execute_result"
    }
   ],
   "source": [
    "colors[1]"
   ]
  },
  {
   "cell_type": "code",
   "execution_count": 13,
   "metadata": {},
   "outputs": [
    {
     "data": {
      "application/vnd.webio.node+json": {
       "children": [
        {
         "children": [
          {
           "children": [
            {
             "children": [
              {
               "children": [
                {
                 "children": [
                  "i"
                 ],
                 "instanceArgs": {
                  "namespace": "html",
                  "tag": "label"
                 },
                 "nodeType": "DOM",
                 "props": {
                  "className": "interact ",
                  "style": {
                   "padding": "5px 10px 0px 10px"
                  }
                 },
                 "type": "node"
                }
               ],
               "instanceArgs": {
                "namespace": "html",
                "tag": "div"
               },
               "nodeType": "DOM",
               "props": {
                "className": "interact-flex-row-left"
               },
               "type": "node"
              },
              {
               "children": [
                {
                 "children": [],
                 "instanceArgs": {
                  "namespace": "html",
                  "tag": "input"
                 },
                 "nodeType": "DOM",
                 "props": {
                  "attributes": {
                   "data-bind": "numericValue: index, valueUpdate: 'input', event: {change: function (){this.changes(this.changes()+1)}}",
                   "orient": "horizontal",
                   "type": "range"
                  },
                  "className": "slider slider is-fullwidth",
                  "max": 8,
                  "min": 1,
                  "step": 1,
                  "style": {}
                 },
                 "type": "node"
                }
               ],
               "instanceArgs": {
                "namespace": "html",
                "tag": "div"
               },
               "nodeType": "DOM",
               "props": {
                "className": "interact-flex-row-center"
               },
               "type": "node"
              },
              {
               "children": [
                {
                 "children": [],
                 "instanceArgs": {
                  "namespace": "html",
                  "tag": "p"
                 },
                 "nodeType": "DOM",
                 "props": {
                  "attributes": {
                   "data-bind": "text: formatted_val"
                  }
                 },
                 "type": "node"
                }
               ],
               "instanceArgs": {
                "namespace": "html",
                "tag": "div"
               },
               "nodeType": "DOM",
               "props": {
                "className": "interact-flex-row-right"
               },
               "type": "node"
              }
             ],
             "instanceArgs": {
              "namespace": "html",
              "tag": "div"
             },
             "nodeType": "DOM",
             "props": {
              "className": "interact-flex-row interact-widget"
             },
             "type": "node"
            }
           ],
           "instanceArgs": {
            "handlers": {
             "changes": [
              "(function (val){return (val!=this.model[\"changes\"]()) ? (this.valueFromJulia[\"changes\"]=true, this.model[\"changes\"](val)) : undefined})"
             ],
             "index": [
              "(function (val){return (val!=this.model[\"index\"]()) ? (this.valueFromJulia[\"index\"]=true, this.model[\"index\"](val)) : undefined})"
             ]
            },
            "id": "3258326373591170658",
            "imports": {
             "data": [
              {
               "name": "knockout",
               "type": "js",
               "url": "/assetserver/ed00ed28984fd6f31ca204c39b41264a30b47b3c-knockout.js"
              },
              {
               "name": "knockout_punches",
               "type": "js",
               "url": "/assetserver/c11b402f27e4ffed9d363d08abde93165eec9bbd-knockout_punches.js"
              },
              {
               "name": null,
               "type": "js",
               "url": "/assetserver/9f59a791c13c961542687c1e74ae4273b6401968-all.js"
              },
              {
               "name": null,
               "type": "css",
               "url": "/assetserver/688b43c7218d52f5c887e9ae903e0f50f2da1f5a-style.css"
              },
              {
               "name": null,
               "type": "css",
               "url": "/assetserver/7382126079d5fc156dbd91620549bb882d4d1562-bulma_confined.min.css"
              }
             ],
             "type": "async_block"
            },
            "mount_callbacks": [
             "function () {\n    var handler = (function (ko, koPunches) {\n    ko.punches.enableAll();\n    ko.bindingHandlers.numericValue = {\n        init: function(element, valueAccessor, allBindings, data, context) {\n            var stringified = ko.observable(ko.unwrap(valueAccessor()));\n            stringified.subscribe(function(value) {\n                var val = parseFloat(value);\n                if (!isNaN(val)) {\n                    valueAccessor()(val);\n                }\n            });\n            valueAccessor().subscribe(function(value) {\n                var str = JSON.stringify(value);\n                if ((str == \"0\") && ([\"-0\", \"-0.\"].indexOf(stringified()) >= 0))\n                     return;\n                 if ([\"null\", \"\"].indexOf(str) >= 0)\n                     return;\n                stringified(str);\n            });\n            ko.applyBindingsToNode(\n                element,\n                {\n                    value: stringified,\n                    valueUpdate: allBindings.get('valueUpdate'),\n                },\n                context,\n            );\n        }\n    };\n    var json_data = {\"formatted_vals\":[\"1\",\"2\",\"3\",\"4\",\"5\",\"6\",\"7\",\"8\"],\"changes\":WebIO.getval({\"name\":\"changes\",\"scope\":\"3258326373591170658\",\"id\":\"654819101990062238\",\"type\":\"observable\"}),\"index\":WebIO.getval({\"name\":\"index\",\"scope\":\"3258326373591170658\",\"id\":\"4730394140353805328\",\"type\":\"observable\"})};\n    var self = this;\n    function AppViewModel() {\n        for (var key in json_data) {\n            var el = json_data[key];\n            this[key] = Array.isArray(el) ? ko.observableArray(el) : ko.observable(el);\n        }\n        \n        [this[\"formatted_val\"]=ko.computed(    function(){\n        return this.formatted_vals()[parseInt(this.index())-(1)];\n    }\n,this)]\n        [this[\"changes\"].subscribe((function (val){!(this.valueFromJulia[\"changes\"]) ? (WebIO.setval({\"name\":\"changes\",\"scope\":\"3258326373591170658\",\"id\":\"654819101990062238\",\"type\":\"observable\"},val)) : undefined; return this.valueFromJulia[\"changes\"]=false}),self),this[\"index\"].subscribe((function (val){!(this.valueFromJulia[\"index\"]) ? (WebIO.setval({\"name\":\"index\",\"scope\":\"3258326373591170658\",\"id\":\"4730394140353805328\",\"type\":\"observable\"},val)) : undefined; return this.valueFromJulia[\"index\"]=false}),self)]\n        \n    }\n    self.model = new AppViewModel();\n    self.valueFromJulia = {};\n    for (var key in json_data) {\n        self.valueFromJulia[key] = false;\n    }\n    ko.applyBindings(self.model, self.dom);\n}\n);\n    (WebIO.importBlock({\"data\":[{\"name\":\"knockout\",\"type\":\"js\",\"url\":\"/assetserver/ed00ed28984fd6f31ca204c39b41264a30b47b3c-knockout.js\"},{\"name\":\"knockout_punches\",\"type\":\"js\",\"url\":\"/assetserver/c11b402f27e4ffed9d363d08abde93165eec9bbd-knockout_punches.js\"}],\"type\":\"async_block\"})).then((imports) => handler.apply(this, imports));\n}\n"
            ],
            "observables": {
             "changes": {
              "id": "654819101990062238",
              "sync": false,
              "value": 0
             },
             "index": {
              "id": "4730394140353805328",
              "sync": true,
              "value": 4
             }
            },
            "systemjs_options": null
           },
           "nodeType": "Scope",
           "props": {},
           "type": "node"
          }
         ],
         "instanceArgs": {
          "namespace": "html",
          "tag": "div"
         },
         "nodeType": "DOM",
         "props": {
          "className": "field interact-widget"
         },
         "type": "node"
        },
        {
         "children": [
          {
           "children": [
            {
             "children": [
              {
               "children": [
                {
                 "children": [
                  "j"
                 ],
                 "instanceArgs": {
                  "namespace": "html",
                  "tag": "label"
                 },
                 "nodeType": "DOM",
                 "props": {
                  "className": "interact ",
                  "style": {
                   "padding": "5px 10px 0px 10px"
                  }
                 },
                 "type": "node"
                }
               ],
               "instanceArgs": {
                "namespace": "html",
                "tag": "div"
               },
               "nodeType": "DOM",
               "props": {
                "className": "interact-flex-row-left"
               },
               "type": "node"
              },
              {
               "children": [
                {
                 "children": [],
                 "instanceArgs": {
                  "namespace": "html",
                  "tag": "input"
                 },
                 "nodeType": "DOM",
                 "props": {
                  "attributes": {
                   "data-bind": "numericValue: index, valueUpdate: 'input', event: {change: function (){this.changes(this.changes()+1)}}",
                   "orient": "horizontal",
                   "type": "range"
                  },
                  "className": "slider slider is-fullwidth",
                  "max": 8,
                  "min": 1,
                  "step": 1,
                  "style": {}
                 },
                 "type": "node"
                }
               ],
               "instanceArgs": {
                "namespace": "html",
                "tag": "div"
               },
               "nodeType": "DOM",
               "props": {
                "className": "interact-flex-row-center"
               },
               "type": "node"
              },
              {
               "children": [
                {
                 "children": [],
                 "instanceArgs": {
                  "namespace": "html",
                  "tag": "p"
                 },
                 "nodeType": "DOM",
                 "props": {
                  "attributes": {
                   "data-bind": "text: formatted_val"
                  }
                 },
                 "type": "node"
                }
               ],
               "instanceArgs": {
                "namespace": "html",
                "tag": "div"
               },
               "nodeType": "DOM",
               "props": {
                "className": "interact-flex-row-right"
               },
               "type": "node"
              }
             ],
             "instanceArgs": {
              "namespace": "html",
              "tag": "div"
             },
             "nodeType": "DOM",
             "props": {
              "className": "interact-flex-row interact-widget"
             },
             "type": "node"
            }
           ],
           "instanceArgs": {
            "handlers": {
             "changes": [
              "(function (val){return (val!=this.model[\"changes\"]()) ? (this.valueFromJulia[\"changes\"]=true, this.model[\"changes\"](val)) : undefined})"
             ],
             "index": [
              "(function (val){return (val!=this.model[\"index\"]()) ? (this.valueFromJulia[\"index\"]=true, this.model[\"index\"](val)) : undefined})"
             ]
            },
            "id": "12010428452896071433",
            "imports": {
             "data": [
              {
               "name": "knockout",
               "type": "js",
               "url": "/assetserver/ed00ed28984fd6f31ca204c39b41264a30b47b3c-knockout.js"
              },
              {
               "name": "knockout_punches",
               "type": "js",
               "url": "/assetserver/c11b402f27e4ffed9d363d08abde93165eec9bbd-knockout_punches.js"
              },
              {
               "name": null,
               "type": "js",
               "url": "/assetserver/9f59a791c13c961542687c1e74ae4273b6401968-all.js"
              },
              {
               "name": null,
               "type": "css",
               "url": "/assetserver/688b43c7218d52f5c887e9ae903e0f50f2da1f5a-style.css"
              },
              {
               "name": null,
               "type": "css",
               "url": "/assetserver/7382126079d5fc156dbd91620549bb882d4d1562-bulma_confined.min.css"
              }
             ],
             "type": "async_block"
            },
            "mount_callbacks": [
             "function () {\n    var handler = (function (ko, koPunches) {\n    ko.punches.enableAll();\n    ko.bindingHandlers.numericValue = {\n        init: function(element, valueAccessor, allBindings, data, context) {\n            var stringified = ko.observable(ko.unwrap(valueAccessor()));\n            stringified.subscribe(function(value) {\n                var val = parseFloat(value);\n                if (!isNaN(val)) {\n                    valueAccessor()(val);\n                }\n            });\n            valueAccessor().subscribe(function(value) {\n                var str = JSON.stringify(value);\n                if ((str == \"0\") && ([\"-0\", \"-0.\"].indexOf(stringified()) >= 0))\n                     return;\n                 if ([\"null\", \"\"].indexOf(str) >= 0)\n                     return;\n                stringified(str);\n            });\n            ko.applyBindingsToNode(\n                element,\n                {\n                    value: stringified,\n                    valueUpdate: allBindings.get('valueUpdate'),\n                },\n                context,\n            );\n        }\n    };\n    var json_data = {\"formatted_vals\":[\"1\",\"2\",\"3\",\"4\",\"5\",\"6\",\"7\",\"8\"],\"changes\":WebIO.getval({\"name\":\"changes\",\"scope\":\"12010428452896071433\",\"id\":\"14630319351658383900\",\"type\":\"observable\"}),\"index\":WebIO.getval({\"name\":\"index\",\"scope\":\"12010428452896071433\",\"id\":\"11370882750256470049\",\"type\":\"observable\"})};\n    var self = this;\n    function AppViewModel() {\n        for (var key in json_data) {\n            var el = json_data[key];\n            this[key] = Array.isArray(el) ? ko.observableArray(el) : ko.observable(el);\n        }\n        \n        [this[\"formatted_val\"]=ko.computed(    function(){\n        return this.formatted_vals()[parseInt(this.index())-(1)];\n    }\n,this)]\n        [this[\"changes\"].subscribe((function (val){!(this.valueFromJulia[\"changes\"]) ? (WebIO.setval({\"name\":\"changes\",\"scope\":\"12010428452896071433\",\"id\":\"14630319351658383900\",\"type\":\"observable\"},val)) : undefined; return this.valueFromJulia[\"changes\"]=false}),self),this[\"index\"].subscribe((function (val){!(this.valueFromJulia[\"index\"]) ? (WebIO.setval({\"name\":\"index\",\"scope\":\"12010428452896071433\",\"id\":\"11370882750256470049\",\"type\":\"observable\"},val)) : undefined; return this.valueFromJulia[\"index\"]=false}),self)]\n        \n    }\n    self.model = new AppViewModel();\n    self.valueFromJulia = {};\n    for (var key in json_data) {\n        self.valueFromJulia[key] = false;\n    }\n    ko.applyBindings(self.model, self.dom);\n}\n);\n    (WebIO.importBlock({\"data\":[{\"name\":\"knockout\",\"type\":\"js\",\"url\":\"/assetserver/ed00ed28984fd6f31ca204c39b41264a30b47b3c-knockout.js\"},{\"name\":\"knockout_punches\",\"type\":\"js\",\"url\":\"/assetserver/c11b402f27e4ffed9d363d08abde93165eec9bbd-knockout_punches.js\"}],\"type\":\"async_block\"})).then((imports) => handler.apply(this, imports));\n}\n"
            ],
            "observables": {
             "changes": {
              "id": "14630319351658383900",
              "sync": false,
              "value": 0
             },
             "index": {
              "id": "11370882750256470049",
              "sync": true,
              "value": 4
             }
            },
            "systemjs_options": null
           },
           "nodeType": "Scope",
           "props": {},
           "type": "node"
          }
         ],
         "instanceArgs": {
          "namespace": "html",
          "tag": "div"
         },
         "nodeType": "DOM",
         "props": {
          "className": "field interact-widget"
         },
         "type": "node"
        },
        {
         "children": [
          {
           "children": [],
           "instanceArgs": {
            "id": "12922966827528424610",
            "name": "obs-node"
           },
           "nodeType": "ObservableNode",
           "props": {},
           "type": "node"
          }
         ],
         "instanceArgs": {
          "handlers": {},
          "id": "11871664312968771608",
          "imports": {
           "data": [],
           "type": "async_block"
          },
          "mount_callbacks": [],
          "observables": {
           "obs-node": {
            "id": "12922966827528424610",
            "sync": false,
            "value": {
             "children": [
              {
               "children": [],
               "instanceArgs": {
                "namespace": "html",
                "tag": "div"
               },
               "nodeType": "DOM",
               "props": {
                "setInnerHtml": "<?xml version=\"1.0\" encoding=\"UTF-8\"?>\n<!DOCTYPE svg PUBLIC \"-//W3C//DTD SVG 1.1//EN\"\n \"http://www.w3.org/Graphics/SVG/1.1/DTD/svg11.dtd\">\n<svg xmlns=\"http://www.w3.org/2000/svg\" version=\"1.1\"\n     width=\"150mm\" height=\"150mm\"\n     viewBox=\"0 0 10 10\" preserveAspectRatio=\"none\"\n     shape-rendering=\"crispEdges\" stroke=\"none\">\n<rect width=\".93\" height=\".93\" x=\"0\" y=\"0\" fill=\"#000000\" />\n<rect width=\".93\" height=\".93\" x=\"1\" y=\"0\" fill=\"#000000\" />\n<rect width=\".93\" height=\".93\" x=\"2\" y=\"0\" fill=\"#000000\" />\n<rect width=\".93\" height=\".93\" x=\"3\" y=\"0\" fill=\"#000000\" />\n<rect width=\".93\" height=\".93\" x=\"4\" y=\"0\" fill=\"#000000\" />\n<rect width=\".93\" height=\".93\" x=\"5\" y=\"0\" fill=\"#000000\" />\n<rect width=\".93\" height=\".93\" x=\"6\" y=\"0\" fill=\"#000000\" />\n<rect width=\".93\" height=\".93\" x=\"7\" y=\"0\" fill=\"#000000\" />\n<rect width=\".93\" height=\".93\" x=\"8\" y=\"0\" fill=\"#000000\" />\n<rect width=\".93\" height=\".93\" x=\"9\" y=\"0\" fill=\"#000000\" />\n<rect width=\".93\" height=\".93\" x=\"0\" y=\"1\" fill=\"#000000\" />\n<rect width=\".93\" height=\".93\" x=\"1\" y=\"1\" fill=\"#000000\" />\n<rect width=\".93\" height=\".93\" x=\"2\" y=\"1\" fill=\"#000000\" />\n<rect width=\".93\" height=\".93\" x=\"3\" y=\"1\" fill=\"#000000\" />\n<rect width=\".93\" height=\".93\" x=\"4\" y=\"1\" fill=\"#000000\" />\n<rect width=\".93\" height=\".93\" x=\"5\" y=\"1\" fill=\"#000000\" />\n<rect width=\".93\" height=\".93\" x=\"6\" y=\"1\" fill=\"#000000\" />\n<rect width=\".93\" height=\".93\" x=\"7\" y=\"1\" fill=\"#000000\" />\n<rect width=\".93\" height=\".93\" x=\"8\" y=\"1\" fill=\"#000000\" />\n<rect width=\".93\" height=\".93\" x=\"9\" y=\"1\" fill=\"#000000\" />\n<rect width=\".93\" height=\".93\" x=\"0\" y=\"2\" fill=\"#000000\" />\n<rect width=\".93\" height=\".93\" x=\"1\" y=\"2\" fill=\"#000000\" />\n<rect width=\".93\" height=\".93\" x=\"2\" y=\"2\" fill=\"#000000\" />\n<rect width=\".93\" height=\".93\" x=\"3\" y=\"2\" fill=\"#000000\" />\n<rect width=\".93\" height=\".93\" x=\"4\" y=\"2\" fill=\"#000000\" />\n<rect width=\".93\" height=\".93\" x=\"5\" y=\"2\" fill=\"#000000\" />\n<rect width=\".93\" height=\".93\" x=\"6\" y=\"2\" fill=\"#000000\" />\n<rect width=\".93\" height=\".93\" x=\"7\" y=\"2\" fill=\"#000000\" />\n<rect width=\".93\" height=\".93\" x=\"8\" y=\"2\" fill=\"#000000\" />\n<rect width=\".93\" height=\".93\" x=\"9\" y=\"2\" fill=\"#000000\" />\n<rect width=\".93\" height=\".93\" x=\"0\" y=\"3\" fill=\"#000000\" />\n<rect width=\".93\" height=\".93\" x=\"1\" y=\"3\" fill=\"#000000\" />\n<rect width=\".93\" height=\".93\" x=\"2\" y=\"3\" fill=\"#000000\" />\n<rect width=\".93\" height=\".93\" x=\"3\" y=\"3\" fill=\"#00D3FF\" />\n<rect width=\".93\" height=\".93\" x=\"4\" y=\"3\" fill=\"#00D3FF\" />\n<rect width=\".93\" height=\".93\" x=\"5\" y=\"3\" fill=\"#00D3FF\" />\n<rect width=\".93\" height=\".93\" x=\"6\" y=\"3\" fill=\"#000000\" />\n<rect width=\".93\" height=\".93\" x=\"7\" y=\"3\" fill=\"#000000\" />\n<rect width=\".93\" height=\".93\" x=\"8\" y=\"3\" fill=\"#000000\" />\n<rect width=\".93\" height=\".93\" x=\"9\" y=\"3\" fill=\"#000000\" />\n<rect width=\".93\" height=\".93\" x=\"0\" y=\"4\" fill=\"#000000\" />\n<rect width=\".93\" height=\".93\" x=\"1\" y=\"4\" fill=\"#000000\" />\n<rect width=\".93\" height=\".93\" x=\"2\" y=\"4\" fill=\"#000000\" />\n<rect width=\".93\" height=\".93\" x=\"3\" y=\"4\" fill=\"#00D3FF\" />\n<rect width=\".93\" height=\".93\" x=\"4\" y=\"4\" fill=\"#00D3FF\" />\n<rect width=\".93\" height=\".93\" x=\"5\" y=\"4\" fill=\"#00D3FF\" />\n<rect width=\".93\" height=\".93\" x=\"6\" y=\"4\" fill=\"#000000\" />\n<rect width=\".93\" height=\".93\" x=\"7\" y=\"4\" fill=\"#000000\" />\n<rect width=\".93\" height=\".93\" x=\"8\" y=\"4\" fill=\"#000000\" />\n<rect width=\".93\" height=\".93\" x=\"9\" y=\"4\" fill=\"#000000\" />\n<rect width=\".93\" height=\".93\" x=\"0\" y=\"5\" fill=\"#000000\" />\n<rect width=\".93\" height=\".93\" x=\"1\" y=\"5\" fill=\"#000000\" />\n<rect width=\".93\" height=\".93\" x=\"2\" y=\"5\" fill=\"#000000\" />\n<rect width=\".93\" height=\".93\" x=\"3\" y=\"5\" fill=\"#00D3FF\" />\n<rect width=\".93\" height=\".93\" x=\"4\" y=\"5\" fill=\"#00D3FF\" />\n<rect width=\".93\" height=\".93\" x=\"5\" y=\"5\" fill=\"#00D3FF\" />\n<rect width=\".93\" height=\".93\" x=\"6\" y=\"5\" fill=\"#000000\" />\n<rect width=\".93\" height=\".93\" x=\"7\" y=\"5\" fill=\"#000000\" />\n<rect width=\".93\" height=\".93\" x=\"8\" y=\"5\" fill=\"#000000\" />\n<rect width=\".93\" height=\".93\" x=\"9\" y=\"5\" fill=\"#000000\" />\n<rect width=\".93\" height=\".93\" x=\"0\" y=\"6\" fill=\"#000000\" />\n<rect width=\".93\" height=\".93\" x=\"1\" y=\"6\" fill=\"#000000\" />\n<rect width=\".93\" height=\".93\" x=\"2\" y=\"6\" fill=\"#000000\" />\n<rect width=\".93\" height=\".93\" x=\"3\" y=\"6\" fill=\"#000000\" />\n<rect width=\".93\" height=\".93\" x=\"4\" y=\"6\" fill=\"#000000\" />\n<rect width=\".93\" height=\".93\" x=\"5\" y=\"6\" fill=\"#000000\" />\n<rect width=\".93\" height=\".93\" x=\"6\" y=\"6\" fill=\"#000000\" />\n<rect width=\".93\" height=\".93\" x=\"7\" y=\"6\" fill=\"#000000\" />\n<rect width=\".93\" height=\".93\" x=\"8\" y=\"6\" fill=\"#000000\" />\n<rect width=\".93\" height=\".93\" x=\"9\" y=\"6\" fill=\"#000000\" />\n<rect width=\".93\" height=\".93\" x=\"0\" y=\"7\" fill=\"#000000\" />\n<rect width=\".93\" height=\".93\" x=\"1\" y=\"7\" fill=\"#000000\" />\n<rect width=\".93\" height=\".93\" x=\"2\" y=\"7\" fill=\"#000000\" />\n<rect width=\".93\" height=\".93\" x=\"3\" y=\"7\" fill=\"#000000\" />\n<rect width=\".93\" height=\".93\" x=\"4\" y=\"7\" fill=\"#000000\" />\n<rect width=\".93\" height=\".93\" x=\"5\" y=\"7\" fill=\"#000000\" />\n<rect width=\".93\" height=\".93\" x=\"6\" y=\"7\" fill=\"#000000\" />\n<rect width=\".93\" height=\".93\" x=\"7\" y=\"7\" fill=\"#000000\" />\n<rect width=\".93\" height=\".93\" x=\"8\" y=\"7\" fill=\"#000000\" />\n<rect width=\".93\" height=\".93\" x=\"9\" y=\"7\" fill=\"#000000\" />\n<rect width=\".93\" height=\".93\" x=\"0\" y=\"8\" fill=\"#000000\" />\n<rect width=\".93\" height=\".93\" x=\"1\" y=\"8\" fill=\"#000000\" />\n<rect width=\".93\" height=\".93\" x=\"2\" y=\"8\" fill=\"#000000\" />\n<rect width=\".93\" height=\".93\" x=\"3\" y=\"8\" fill=\"#000000\" />\n<rect width=\".93\" height=\".93\" x=\"4\" y=\"8\" fill=\"#000000\" />\n<rect width=\".93\" height=\".93\" x=\"5\" y=\"8\" fill=\"#000000\" />\n<rect width=\".93\" height=\".93\" x=\"6\" y=\"8\" fill=\"#000000\" />\n<rect width=\".93\" height=\".93\" x=\"7\" y=\"8\" fill=\"#000000\" />\n<rect width=\".93\" height=\".93\" x=\"8\" y=\"8\" fill=\"#000000\" />\n<rect width=\".93\" height=\".93\" x=\"9\" y=\"8\" fill=\"#000000\" />\n<rect width=\".93\" height=\".93\" x=\"0\" y=\"9\" fill=\"#000000\" />\n<rect width=\".93\" height=\".93\" x=\"1\" y=\"9\" fill=\"#000000\" />\n<rect width=\".93\" height=\".93\" x=\"2\" y=\"9\" fill=\"#000000\" />\n<rect width=\".93\" height=\".93\" x=\"3\" y=\"9\" fill=\"#000000\" />\n<rect width=\".93\" height=\".93\" x=\"4\" y=\"9\" fill=\"#000000\" />\n<rect width=\".93\" height=\".93\" x=\"5\" y=\"9\" fill=\"#000000\" />\n<rect width=\".93\" height=\".93\" x=\"6\" y=\"9\" fill=\"#000000\" />\n<rect width=\".93\" height=\".93\" x=\"7\" y=\"9\" fill=\"#000000\" />\n<rect width=\".93\" height=\".93\" x=\"8\" y=\"9\" fill=\"#000000\" />\n<rect width=\".93\" height=\".93\" x=\"9\" y=\"9\" fill=\"#000000\" />\n</svg>"
               },
               "type": "node"
              }
             ],
             "instanceArgs": {
              "namespace": "html",
              "tag": "div"
             },
             "nodeType": "DOM",
             "props": {
              "className": "interact-flex-row interact-widget"
             },
             "type": "node"
            }
           }
          },
          "systemjs_options": null
         },
         "nodeType": "Scope",
         "props": {},
         "type": "node"
        }
       ],
       "instanceArgs": {
        "namespace": "html",
        "tag": "div"
       },
       "nodeType": "DOM",
       "props": {},
       "type": "node"
      },
      "text/html": [
       "<div\n",
       "    class=\"webio-mountpoint\"\n",
       "    data-webio-mountpoint=\"2609325641494931966\"\n",
       ">\n",
       "    <script>\n",
       "    if (window.require && require.defined && require.defined(\"nbextensions/webio-jupyter-notebook\")) {\n",
       "        console.log(\"Jupyter WebIO extension detected, not mounting.\");\n",
       "    } else if (window.WebIO) {\n",
       "        WebIO.mount(\n",
       "            document.querySelector('[data-webio-mountpoint=\"2609325641494931966\"]'),\n",
       "            {\"props\":{},\"nodeType\":\"DOM\",\"type\":\"node\",\"instanceArgs\":{\"namespace\":\"html\",\"tag\":\"div\"},\"children\":[{\"props\":{\"className\":\"field interact-widget\"},\"nodeType\":\"DOM\",\"type\":\"node\",\"instanceArgs\":{\"namespace\":\"html\",\"tag\":\"div\"},\"children\":[{\"props\":{},\"nodeType\":\"Scope\",\"type\":\"node\",\"instanceArgs\":{\"imports\":{\"data\":[{\"name\":\"knockout\",\"type\":\"js\",\"url\":\"\\/assetserver\\/ed00ed28984fd6f31ca204c39b41264a30b47b3c-knockout.js\"},{\"name\":\"knockout_punches\",\"type\":\"js\",\"url\":\"\\/assetserver\\/c11b402f27e4ffed9d363d08abde93165eec9bbd-knockout_punches.js\"},{\"name\":null,\"type\":\"js\",\"url\":\"\\/assetserver\\/9f59a791c13c961542687c1e74ae4273b6401968-all.js\"},{\"name\":null,\"type\":\"css\",\"url\":\"\\/assetserver\\/688b43c7218d52f5c887e9ae903e0f50f2da1f5a-style.css\"},{\"name\":null,\"type\":\"css\",\"url\":\"\\/assetserver\\/7382126079d5fc156dbd91620549bb882d4d1562-bulma_confined.min.css\"}],\"type\":\"async_block\"},\"id\":\"3258326373591170658\",\"handlers\":{\"changes\":[\"(function (val){return (val!=this.model[\\\"changes\\\"]()) ? (this.valueFromJulia[\\\"changes\\\"]=true, this.model[\\\"changes\\\"](val)) : undefined})\"],\"index\":[\"(function (val){return (val!=this.model[\\\"index\\\"]()) ? (this.valueFromJulia[\\\"index\\\"]=true, this.model[\\\"index\\\"](val)) : undefined})\"]},\"systemjs_options\":null,\"mount_callbacks\":[\"function () {\\n    var handler = (function (ko, koPunches) {\\n    ko.punches.enableAll();\\n    ko.bindingHandlers.numericValue = {\\n        init: function(element, valueAccessor, allBindings, data, context) {\\n            var stringified = ko.observable(ko.unwrap(valueAccessor()));\\n            stringified.subscribe(function(value) {\\n                var val = parseFloat(value);\\n                if (!isNaN(val)) {\\n                    valueAccessor()(val);\\n                }\\n            });\\n            valueAccessor().subscribe(function(value) {\\n                var str = JSON.stringify(value);\\n                if ((str == \\\"0\\\") && ([\\\"-0\\\", \\\"-0.\\\"].indexOf(stringified()) >= 0))\\n                     return;\\n                 if ([\\\"null\\\", \\\"\\\"].indexOf(str) >= 0)\\n                     return;\\n                stringified(str);\\n            });\\n            ko.applyBindingsToNode(\\n                element,\\n                {\\n                    value: stringified,\\n                    valueUpdate: allBindings.get('valueUpdate'),\\n                },\\n                context,\\n            );\\n        }\\n    };\\n    var json_data = {\\\"formatted_vals\\\":[\\\"1\\\",\\\"2\\\",\\\"3\\\",\\\"4\\\",\\\"5\\\",\\\"6\\\",\\\"7\\\",\\\"8\\\"],\\\"changes\\\":WebIO.getval({\\\"name\\\":\\\"changes\\\",\\\"scope\\\":\\\"3258326373591170658\\\",\\\"id\\\":\\\"654819101990062238\\\",\\\"type\\\":\\\"observable\\\"}),\\\"index\\\":WebIO.getval({\\\"name\\\":\\\"index\\\",\\\"scope\\\":\\\"3258326373591170658\\\",\\\"id\\\":\\\"4730394140353805328\\\",\\\"type\\\":\\\"observable\\\"})};\\n    var self = this;\\n    function AppViewModel() {\\n        for (var key in json_data) {\\n            var el = json_data[key];\\n            this[key] = Array.isArray(el) ? ko.observableArray(el) : ko.observable(el);\\n        }\\n        \\n        [this[\\\"formatted_val\\\"]=ko.computed(    function(){\\n        return this.formatted_vals()[parseInt(this.index())-(1)];\\n    }\\n,this)]\\n        [this[\\\"changes\\\"].subscribe((function (val){!(this.valueFromJulia[\\\"changes\\\"]) ? (WebIO.setval({\\\"name\\\":\\\"changes\\\",\\\"scope\\\":\\\"3258326373591170658\\\",\\\"id\\\":\\\"654819101990062238\\\",\\\"type\\\":\\\"observable\\\"},val)) : undefined; return this.valueFromJulia[\\\"changes\\\"]=false}),self),this[\\\"index\\\"].subscribe((function (val){!(this.valueFromJulia[\\\"index\\\"]) ? (WebIO.setval({\\\"name\\\":\\\"index\\\",\\\"scope\\\":\\\"3258326373591170658\\\",\\\"id\\\":\\\"4730394140353805328\\\",\\\"type\\\":\\\"observable\\\"},val)) : undefined; return this.valueFromJulia[\\\"index\\\"]=false}),self)]\\n        \\n    }\\n    self.model = new AppViewModel();\\n    self.valueFromJulia = {};\\n    for (var key in json_data) {\\n        self.valueFromJulia[key] = false;\\n    }\\n    ko.applyBindings(self.model, self.dom);\\n}\\n);\\n    (WebIO.importBlock({\\\"data\\\":[{\\\"name\\\":\\\"knockout\\\",\\\"type\\\":\\\"js\\\",\\\"url\\\":\\\"\\/assetserver\\/ed00ed28984fd6f31ca204c39b41264a30b47b3c-knockout.js\\\"},{\\\"name\\\":\\\"knockout_punches\\\",\\\"type\\\":\\\"js\\\",\\\"url\\\":\\\"\\/assetserver\\/c11b402f27e4ffed9d363d08abde93165eec9bbd-knockout_punches.js\\\"}],\\\"type\\\":\\\"async_block\\\"})).then((imports) => handler.apply(this, imports));\\n}\\n\"],\"observables\":{\"changes\":{\"sync\":false,\"id\":\"654819101990062238\",\"value\":0},\"index\":{\"sync\":true,\"id\":\"4730394140353805328\",\"value\":4}}},\"children\":[{\"props\":{\"className\":\"interact-flex-row interact-widget\"},\"nodeType\":\"DOM\",\"type\":\"node\",\"instanceArgs\":{\"namespace\":\"html\",\"tag\":\"div\"},\"children\":[{\"props\":{\"className\":\"interact-flex-row-left\"},\"nodeType\":\"DOM\",\"type\":\"node\",\"instanceArgs\":{\"namespace\":\"html\",\"tag\":\"div\"},\"children\":[{\"props\":{\"className\":\"interact \",\"style\":{\"padding\":\"5px 10px 0px 10px\"}},\"nodeType\":\"DOM\",\"type\":\"node\",\"instanceArgs\":{\"namespace\":\"html\",\"tag\":\"label\"},\"children\":[\"i\"]}]},{\"props\":{\"className\":\"interact-flex-row-center\"},\"nodeType\":\"DOM\",\"type\":\"node\",\"instanceArgs\":{\"namespace\":\"html\",\"tag\":\"div\"},\"children\":[{\"props\":{\"max\":8,\"min\":1,\"attributes\":{\"type\":\"range\",\"data-bind\":\"numericValue: index, valueUpdate: 'input', event: {change: function (){this.changes(this.changes()+1)}}\",\"orient\":\"horizontal\"},\"step\":1,\"className\":\"slider slider is-fullwidth\",\"style\":{}},\"nodeType\":\"DOM\",\"type\":\"node\",\"instanceArgs\":{\"namespace\":\"html\",\"tag\":\"input\"},\"children\":[]}]},{\"props\":{\"className\":\"interact-flex-row-right\"},\"nodeType\":\"DOM\",\"type\":\"node\",\"instanceArgs\":{\"namespace\":\"html\",\"tag\":\"div\"},\"children\":[{\"props\":{\"attributes\":{\"data-bind\":\"text: formatted_val\"}},\"nodeType\":\"DOM\",\"type\":\"node\",\"instanceArgs\":{\"namespace\":\"html\",\"tag\":\"p\"},\"children\":[]}]}]}]}]},{\"props\":{\"className\":\"field interact-widget\"},\"nodeType\":\"DOM\",\"type\":\"node\",\"instanceArgs\":{\"namespace\":\"html\",\"tag\":\"div\"},\"children\":[{\"props\":{},\"nodeType\":\"Scope\",\"type\":\"node\",\"instanceArgs\":{\"imports\":{\"data\":[{\"name\":\"knockout\",\"type\":\"js\",\"url\":\"\\/assetserver\\/ed00ed28984fd6f31ca204c39b41264a30b47b3c-knockout.js\"},{\"name\":\"knockout_punches\",\"type\":\"js\",\"url\":\"\\/assetserver\\/c11b402f27e4ffed9d363d08abde93165eec9bbd-knockout_punches.js\"},{\"name\":null,\"type\":\"js\",\"url\":\"\\/assetserver\\/9f59a791c13c961542687c1e74ae4273b6401968-all.js\"},{\"name\":null,\"type\":\"css\",\"url\":\"\\/assetserver\\/688b43c7218d52f5c887e9ae903e0f50f2da1f5a-style.css\"},{\"name\":null,\"type\":\"css\",\"url\":\"\\/assetserver\\/7382126079d5fc156dbd91620549bb882d4d1562-bulma_confined.min.css\"}],\"type\":\"async_block\"},\"id\":\"12010428452896071433\",\"handlers\":{\"changes\":[\"(function (val){return (val!=this.model[\\\"changes\\\"]()) ? (this.valueFromJulia[\\\"changes\\\"]=true, this.model[\\\"changes\\\"](val)) : undefined})\"],\"index\":[\"(function (val){return (val!=this.model[\\\"index\\\"]()) ? (this.valueFromJulia[\\\"index\\\"]=true, this.model[\\\"index\\\"](val)) : undefined})\"]},\"systemjs_options\":null,\"mount_callbacks\":[\"function () {\\n    var handler = (function (ko, koPunches) {\\n    ko.punches.enableAll();\\n    ko.bindingHandlers.numericValue = {\\n        init: function(element, valueAccessor, allBindings, data, context) {\\n            var stringified = ko.observable(ko.unwrap(valueAccessor()));\\n            stringified.subscribe(function(value) {\\n                var val = parseFloat(value);\\n                if (!isNaN(val)) {\\n                    valueAccessor()(val);\\n                }\\n            });\\n            valueAccessor().subscribe(function(value) {\\n                var str = JSON.stringify(value);\\n                if ((str == \\\"0\\\") && ([\\\"-0\\\", \\\"-0.\\\"].indexOf(stringified()) >= 0))\\n                     return;\\n                 if ([\\\"null\\\", \\\"\\\"].indexOf(str) >= 0)\\n                     return;\\n                stringified(str);\\n            });\\n            ko.applyBindingsToNode(\\n                element,\\n                {\\n                    value: stringified,\\n                    valueUpdate: allBindings.get('valueUpdate'),\\n                },\\n                context,\\n            );\\n        }\\n    };\\n    var json_data = {\\\"formatted_vals\\\":[\\\"1\\\",\\\"2\\\",\\\"3\\\",\\\"4\\\",\\\"5\\\",\\\"6\\\",\\\"7\\\",\\\"8\\\"],\\\"changes\\\":WebIO.getval({\\\"name\\\":\\\"changes\\\",\\\"scope\\\":\\\"12010428452896071433\\\",\\\"id\\\":\\\"14630319351658383900\\\",\\\"type\\\":\\\"observable\\\"}),\\\"index\\\":WebIO.getval({\\\"name\\\":\\\"index\\\",\\\"scope\\\":\\\"12010428452896071433\\\",\\\"id\\\":\\\"11370882750256470049\\\",\\\"type\\\":\\\"observable\\\"})};\\n    var self = this;\\n    function AppViewModel() {\\n        for (var key in json_data) {\\n            var el = json_data[key];\\n            this[key] = Array.isArray(el) ? ko.observableArray(el) : ko.observable(el);\\n        }\\n        \\n        [this[\\\"formatted_val\\\"]=ko.computed(    function(){\\n        return this.formatted_vals()[parseInt(this.index())-(1)];\\n    }\\n,this)]\\n        [this[\\\"changes\\\"].subscribe((function (val){!(this.valueFromJulia[\\\"changes\\\"]) ? (WebIO.setval({\\\"name\\\":\\\"changes\\\",\\\"scope\\\":\\\"12010428452896071433\\\",\\\"id\\\":\\\"14630319351658383900\\\",\\\"type\\\":\\\"observable\\\"},val)) : undefined; return this.valueFromJulia[\\\"changes\\\"]=false}),self),this[\\\"index\\\"].subscribe((function (val){!(this.valueFromJulia[\\\"index\\\"]) ? (WebIO.setval({\\\"name\\\":\\\"index\\\",\\\"scope\\\":\\\"12010428452896071433\\\",\\\"id\\\":\\\"11370882750256470049\\\",\\\"type\\\":\\\"observable\\\"},val)) : undefined; return this.valueFromJulia[\\\"index\\\"]=false}),self)]\\n        \\n    }\\n    self.model = new AppViewModel();\\n    self.valueFromJulia = {};\\n    for (var key in json_data) {\\n        self.valueFromJulia[key] = false;\\n    }\\n    ko.applyBindings(self.model, self.dom);\\n}\\n);\\n    (WebIO.importBlock({\\\"data\\\":[{\\\"name\\\":\\\"knockout\\\",\\\"type\\\":\\\"js\\\",\\\"url\\\":\\\"\\/assetserver\\/ed00ed28984fd6f31ca204c39b41264a30b47b3c-knockout.js\\\"},{\\\"name\\\":\\\"knockout_punches\\\",\\\"type\\\":\\\"js\\\",\\\"url\\\":\\\"\\/assetserver\\/c11b402f27e4ffed9d363d08abde93165eec9bbd-knockout_punches.js\\\"}],\\\"type\\\":\\\"async_block\\\"})).then((imports) => handler.apply(this, imports));\\n}\\n\"],\"observables\":{\"changes\":{\"sync\":false,\"id\":\"14630319351658383900\",\"value\":0},\"index\":{\"sync\":true,\"id\":\"11370882750256470049\",\"value\":4}}},\"children\":[{\"props\":{\"className\":\"interact-flex-row interact-widget\"},\"nodeType\":\"DOM\",\"type\":\"node\",\"instanceArgs\":{\"namespace\":\"html\",\"tag\":\"div\"},\"children\":[{\"props\":{\"className\":\"interact-flex-row-left\"},\"nodeType\":\"DOM\",\"type\":\"node\",\"instanceArgs\":{\"namespace\":\"html\",\"tag\":\"div\"},\"children\":[{\"props\":{\"className\":\"interact \",\"style\":{\"padding\":\"5px 10px 0px 10px\"}},\"nodeType\":\"DOM\",\"type\":\"node\",\"instanceArgs\":{\"namespace\":\"html\",\"tag\":\"label\"},\"children\":[\"j\"]}]},{\"props\":{\"className\":\"interact-flex-row-center\"},\"nodeType\":\"DOM\",\"type\":\"node\",\"instanceArgs\":{\"namespace\":\"html\",\"tag\":\"div\"},\"children\":[{\"props\":{\"max\":8,\"min\":1,\"attributes\":{\"type\":\"range\",\"data-bind\":\"numericValue: index, valueUpdate: 'input', event: {change: function (){this.changes(this.changes()+1)}}\",\"orient\":\"horizontal\"},\"step\":1,\"className\":\"slider slider is-fullwidth\",\"style\":{}},\"nodeType\":\"DOM\",\"type\":\"node\",\"instanceArgs\":{\"namespace\":\"html\",\"tag\":\"input\"},\"children\":[]}]},{\"props\":{\"className\":\"interact-flex-row-right\"},\"nodeType\":\"DOM\",\"type\":\"node\",\"instanceArgs\":{\"namespace\":\"html\",\"tag\":\"div\"},\"children\":[{\"props\":{\"attributes\":{\"data-bind\":\"text: formatted_val\"}},\"nodeType\":\"DOM\",\"type\":\"node\",\"instanceArgs\":{\"namespace\":\"html\",\"tag\":\"p\"},\"children\":[]}]}]}]}]},{\"props\":{},\"nodeType\":\"Scope\",\"type\":\"node\",\"instanceArgs\":{\"imports\":{\"data\":[],\"type\":\"async_block\"},\"id\":\"12573305718334175157\",\"handlers\":{},\"systemjs_options\":null,\"mount_callbacks\":[],\"observables\":{\"obs-node\":{\"sync\":false,\"id\":\"8506770684431480530\",\"value\":{\"props\":{\"className\":\"interact-flex-row interact-widget\"},\"nodeType\":\"DOM\",\"type\":\"node\",\"instanceArgs\":{\"namespace\":\"html\",\"tag\":\"div\"},\"children\":[{\"props\":{\"setInnerHtml\":\"<?xml version=\\\"1.0\\\" encoding=\\\"UTF-8\\\"?>\\n<!DOCTYPE svg PUBLIC \\\"-\\/\\/W3C\\/\\/DTD SVG 1.1\\/\\/EN\\\"\\n \\\"http:\\/\\/www.w3.org\\/Graphics\\/SVG\\/1.1\\/DTD\\/svg11.dtd\\\">\\n<svg xmlns=\\\"http:\\/\\/www.w3.org\\/2000\\/svg\\\" version=\\\"1.1\\\"\\n     width=\\\"150mm\\\" height=\\\"150mm\\\"\\n     viewBox=\\\"0 0 10 10\\\" preserveAspectRatio=\\\"none\\\"\\n     shape-rendering=\\\"crispEdges\\\" stroke=\\\"none\\\">\\n<rect width=\\\".93\\\" height=\\\".93\\\" x=\\\"0\\\" y=\\\"0\\\" fill=\\\"#000000\\\" \\/>\\n<rect width=\\\".93\\\" height=\\\".93\\\" x=\\\"1\\\" y=\\\"0\\\" fill=\\\"#000000\\\" \\/>\\n<rect width=\\\".93\\\" height=\\\".93\\\" x=\\\"2\\\" y=\\\"0\\\" fill=\\\"#000000\\\" \\/>\\n<rect width=\\\".93\\\" height=\\\".93\\\" x=\\\"3\\\" y=\\\"0\\\" fill=\\\"#000000\\\" \\/>\\n<rect width=\\\".93\\\" height=\\\".93\\\" x=\\\"4\\\" y=\\\"0\\\" fill=\\\"#000000\\\" \\/>\\n<rect width=\\\".93\\\" height=\\\".93\\\" x=\\\"5\\\" y=\\\"0\\\" fill=\\\"#000000\\\" \\/>\\n<rect width=\\\".93\\\" height=\\\".93\\\" x=\\\"6\\\" y=\\\"0\\\" fill=\\\"#000000\\\" \\/>\\n<rect width=\\\".93\\\" height=\\\".93\\\" x=\\\"7\\\" y=\\\"0\\\" fill=\\\"#000000\\\" \\/>\\n<rect width=\\\".93\\\" height=\\\".93\\\" x=\\\"8\\\" y=\\\"0\\\" fill=\\\"#000000\\\" \\/>\\n<rect width=\\\".93\\\" height=\\\".93\\\" x=\\\"9\\\" y=\\\"0\\\" fill=\\\"#000000\\\" \\/>\\n<rect width=\\\".93\\\" height=\\\".93\\\" x=\\\"0\\\" y=\\\"1\\\" fill=\\\"#000000\\\" \\/>\\n<rect width=\\\".93\\\" height=\\\".93\\\" x=\\\"1\\\" y=\\\"1\\\" fill=\\\"#000000\\\" \\/>\\n<rect width=\\\".93\\\" height=\\\".93\\\" x=\\\"2\\\" y=\\\"1\\\" fill=\\\"#000000\\\" \\/>\\n<rect width=\\\".93\\\" height=\\\".93\\\" x=\\\"3\\\" y=\\\"1\\\" fill=\\\"#000000\\\" \\/>\\n<rect width=\\\".93\\\" height=\\\".93\\\" x=\\\"4\\\" y=\\\"1\\\" fill=\\\"#000000\\\" \\/>\\n<rect width=\\\".93\\\" height=\\\".93\\\" x=\\\"5\\\" y=\\\"1\\\" fill=\\\"#000000\\\" \\/>\\n<rect width=\\\".93\\\" height=\\\".93\\\" x=\\\"6\\\" y=\\\"1\\\" fill=\\\"#000000\\\" \\/>\\n<rect width=\\\".93\\\" height=\\\".93\\\" x=\\\"7\\\" y=\\\"1\\\" fill=\\\"#000000\\\" \\/>\\n<rect width=\\\".93\\\" height=\\\".93\\\" x=\\\"8\\\" y=\\\"1\\\" fill=\\\"#000000\\\" \\/>\\n<rect width=\\\".93\\\" height=\\\".93\\\" x=\\\"9\\\" y=\\\"1\\\" fill=\\\"#000000\\\" \\/>\\n<rect width=\\\".93\\\" height=\\\".93\\\" x=\\\"0\\\" y=\\\"2\\\" fill=\\\"#000000\\\" \\/>\\n<rect width=\\\".93\\\" height=\\\".93\\\" x=\\\"1\\\" y=\\\"2\\\" fill=\\\"#000000\\\" \\/>\\n<rect width=\\\".93\\\" height=\\\".93\\\" x=\\\"2\\\" y=\\\"2\\\" fill=\\\"#000000\\\" \\/>\\n<rect width=\\\".93\\\" height=\\\".93\\\" x=\\\"3\\\" y=\\\"2\\\" fill=\\\"#000000\\\" \\/>\\n<rect width=\\\".93\\\" height=\\\".93\\\" x=\\\"4\\\" y=\\\"2\\\" fill=\\\"#000000\\\" \\/>\\n<rect width=\\\".93\\\" height=\\\".93\\\" x=\\\"5\\\" y=\\\"2\\\" fill=\\\"#000000\\\" \\/>\\n<rect width=\\\".93\\\" height=\\\".93\\\" x=\\\"6\\\" y=\\\"2\\\" fill=\\\"#000000\\\" \\/>\\n<rect width=\\\".93\\\" height=\\\".93\\\" x=\\\"7\\\" y=\\\"2\\\" fill=\\\"#000000\\\" \\/>\\n<rect width=\\\".93\\\" height=\\\".93\\\" x=\\\"8\\\" y=\\\"2\\\" fill=\\\"#000000\\\" \\/>\\n<rect width=\\\".93\\\" height=\\\".93\\\" x=\\\"9\\\" y=\\\"2\\\" fill=\\\"#000000\\\" \\/>\\n<rect width=\\\".93\\\" height=\\\".93\\\" x=\\\"0\\\" y=\\\"3\\\" fill=\\\"#000000\\\" \\/>\\n<rect width=\\\".93\\\" height=\\\".93\\\" x=\\\"1\\\" y=\\\"3\\\" fill=\\\"#000000\\\" \\/>\\n<rect width=\\\".93\\\" height=\\\".93\\\" x=\\\"2\\\" y=\\\"3\\\" fill=\\\"#000000\\\" \\/>\\n<rect width=\\\".93\\\" height=\\\".93\\\" x=\\\"3\\\" y=\\\"3\\\" fill=\\\"#00D3FF\\\" \\/>\\n<rect width=\\\".93\\\" height=\\\".93\\\" x=\\\"4\\\" y=\\\"3\\\" fill=\\\"#00D3FF\\\" \\/>\\n<rect width=\\\".93\\\" height=\\\".93\\\" x=\\\"5\\\" y=\\\"3\\\" fill=\\\"#00D3FF\\\" \\/>\\n<rect width=\\\".93\\\" height=\\\".93\\\" x=\\\"6\\\" y=\\\"3\\\" fill=\\\"#000000\\\" \\/>\\n<rect width=\\\".93\\\" height=\\\".93\\\" x=\\\"7\\\" y=\\\"3\\\" fill=\\\"#000000\\\" \\/>\\n<rect width=\\\".93\\\" height=\\\".93\\\" x=\\\"8\\\" y=\\\"3\\\" fill=\\\"#000000\\\" \\/>\\n<rect width=\\\".93\\\" height=\\\".93\\\" x=\\\"9\\\" y=\\\"3\\\" fill=\\\"#000000\\\" \\/>\\n<rect width=\\\".93\\\" height=\\\".93\\\" x=\\\"0\\\" y=\\\"4\\\" fill=\\\"#000000\\\" \\/>\\n<rect width=\\\".93\\\" height=\\\".93\\\" x=\\\"1\\\" y=\\\"4\\\" fill=\\\"#000000\\\" \\/>\\n<rect width=\\\".93\\\" height=\\\".93\\\" x=\\\"2\\\" y=\\\"4\\\" fill=\\\"#000000\\\" \\/>\\n<rect width=\\\".93\\\" height=\\\".93\\\" x=\\\"3\\\" y=\\\"4\\\" fill=\\\"#00D3FF\\\" \\/>\\n<rect width=\\\".93\\\" height=\\\".93\\\" x=\\\"4\\\" y=\\\"4\\\" fill=\\\"#00D3FF\\\" \\/>\\n<rect width=\\\".93\\\" height=\\\".93\\\" x=\\\"5\\\" y=\\\"4\\\" fill=\\\"#00D3FF\\\" \\/>\\n<rect width=\\\".93\\\" height=\\\".93\\\" x=\\\"6\\\" y=\\\"4\\\" fill=\\\"#000000\\\" \\/>\\n<rect width=\\\".93\\\" height=\\\".93\\\" x=\\\"7\\\" y=\\\"4\\\" fill=\\\"#000000\\\" \\/>\\n<rect width=\\\".93\\\" height=\\\".93\\\" x=\\\"8\\\" y=\\\"4\\\" fill=\\\"#000000\\\" \\/>\\n<rect width=\\\".93\\\" height=\\\".93\\\" x=\\\"9\\\" y=\\\"4\\\" fill=\\\"#000000\\\" \\/>\\n<rect width=\\\".93\\\" height=\\\".93\\\" x=\\\"0\\\" y=\\\"5\\\" fill=\\\"#000000\\\" \\/>\\n<rect width=\\\".93\\\" height=\\\".93\\\" x=\\\"1\\\" y=\\\"5\\\" fill=\\\"#000000\\\" \\/>\\n<rect width=\\\".93\\\" height=\\\".93\\\" x=\\\"2\\\" y=\\\"5\\\" fill=\\\"#000000\\\" \\/>\\n<rect width=\\\".93\\\" height=\\\".93\\\" x=\\\"3\\\" y=\\\"5\\\" fill=\\\"#00D3FF\\\" \\/>\\n<rect width=\\\".93\\\" height=\\\".93\\\" x=\\\"4\\\" y=\\\"5\\\" fill=\\\"#00D3FF\\\" \\/>\\n<rect width=\\\".93\\\" height=\\\".93\\\" x=\\\"5\\\" y=\\\"5\\\" fill=\\\"#00D3FF\\\" \\/>\\n<rect width=\\\".93\\\" height=\\\".93\\\" x=\\\"6\\\" y=\\\"5\\\" fill=\\\"#000000\\\" \\/>\\n<rect width=\\\".93\\\" height=\\\".93\\\" x=\\\"7\\\" y=\\\"5\\\" fill=\\\"#000000\\\" \\/>\\n<rect width=\\\".93\\\" height=\\\".93\\\" x=\\\"8\\\" y=\\\"5\\\" fill=\\\"#000000\\\" \\/>\\n<rect width=\\\".93\\\" height=\\\".93\\\" x=\\\"9\\\" y=\\\"5\\\" fill=\\\"#000000\\\" \\/>\\n<rect width=\\\".93\\\" height=\\\".93\\\" x=\\\"0\\\" y=\\\"6\\\" fill=\\\"#000000\\\" \\/>\\n<rect width=\\\".93\\\" height=\\\".93\\\" x=\\\"1\\\" y=\\\"6\\\" fill=\\\"#000000\\\" \\/>\\n<rect width=\\\".93\\\" height=\\\".93\\\" x=\\\"2\\\" y=\\\"6\\\" fill=\\\"#000000\\\" \\/>\\n<rect width=\\\".93\\\" height=\\\".93\\\" x=\\\"3\\\" y=\\\"6\\\" fill=\\\"#000000\\\" \\/>\\n<rect width=\\\".93\\\" height=\\\".93\\\" x=\\\"4\\\" y=\\\"6\\\" fill=\\\"#000000\\\" \\/>\\n<rect width=\\\".93\\\" height=\\\".93\\\" x=\\\"5\\\" y=\\\"6\\\" fill=\\\"#000000\\\" \\/>\\n<rect width=\\\".93\\\" height=\\\".93\\\" x=\\\"6\\\" y=\\\"6\\\" fill=\\\"#000000\\\" \\/>\\n<rect width=\\\".93\\\" height=\\\".93\\\" x=\\\"7\\\" y=\\\"6\\\" fill=\\\"#000000\\\" \\/>\\n<rect width=\\\".93\\\" height=\\\".93\\\" x=\\\"8\\\" y=\\\"6\\\" fill=\\\"#000000\\\" \\/>\\n<rect width=\\\".93\\\" height=\\\".93\\\" x=\\\"9\\\" y=\\\"6\\\" fill=\\\"#000000\\\" \\/>\\n<rect width=\\\".93\\\" height=\\\".93\\\" x=\\\"0\\\" y=\\\"7\\\" fill=\\\"#000000\\\" \\/>\\n<rect width=\\\".93\\\" height=\\\".93\\\" x=\\\"1\\\" y=\\\"7\\\" fill=\\\"#000000\\\" \\/>\\n<rect width=\\\".93\\\" height=\\\".93\\\" x=\\\"2\\\" y=\\\"7\\\" fill=\\\"#000000\\\" \\/>\\n<rect width=\\\".93\\\" height=\\\".93\\\" x=\\\"3\\\" y=\\\"7\\\" fill=\\\"#000000\\\" \\/>\\n<rect width=\\\".93\\\" height=\\\".93\\\" x=\\\"4\\\" y=\\\"7\\\" fill=\\\"#000000\\\" \\/>\\n<rect width=\\\".93\\\" height=\\\".93\\\" x=\\\"5\\\" y=\\\"7\\\" fill=\\\"#000000\\\" \\/>\\n<rect width=\\\".93\\\" height=\\\".93\\\" x=\\\"6\\\" y=\\\"7\\\" fill=\\\"#000000\\\" \\/>\\n<rect width=\\\".93\\\" height=\\\".93\\\" x=\\\"7\\\" y=\\\"7\\\" fill=\\\"#000000\\\" \\/>\\n<rect width=\\\".93\\\" height=\\\".93\\\" x=\\\"8\\\" y=\\\"7\\\" fill=\\\"#000000\\\" \\/>\\n<rect width=\\\".93\\\" height=\\\".93\\\" x=\\\"9\\\" y=\\\"7\\\" fill=\\\"#000000\\\" \\/>\\n<rect width=\\\".93\\\" height=\\\".93\\\" x=\\\"0\\\" y=\\\"8\\\" fill=\\\"#000000\\\" \\/>\\n<rect width=\\\".93\\\" height=\\\".93\\\" x=\\\"1\\\" y=\\\"8\\\" fill=\\\"#000000\\\" \\/>\\n<rect width=\\\".93\\\" height=\\\".93\\\" x=\\\"2\\\" y=\\\"8\\\" fill=\\\"#000000\\\" \\/>\\n<rect width=\\\".93\\\" height=\\\".93\\\" x=\\\"3\\\" y=\\\"8\\\" fill=\\\"#000000\\\" \\/>\\n<rect width=\\\".93\\\" height=\\\".93\\\" x=\\\"4\\\" y=\\\"8\\\" fill=\\\"#000000\\\" \\/>\\n<rect width=\\\".93\\\" height=\\\".93\\\" x=\\\"5\\\" y=\\\"8\\\" fill=\\\"#000000\\\" \\/>\\n<rect width=\\\".93\\\" height=\\\".93\\\" x=\\\"6\\\" y=\\\"8\\\" fill=\\\"#000000\\\" \\/>\\n<rect width=\\\".93\\\" height=\\\".93\\\" x=\\\"7\\\" y=\\\"8\\\" fill=\\\"#000000\\\" \\/>\\n<rect width=\\\".93\\\" height=\\\".93\\\" x=\\\"8\\\" y=\\\"8\\\" fill=\\\"#000000\\\" \\/>\\n<rect width=\\\".93\\\" height=\\\".93\\\" x=\\\"9\\\" y=\\\"8\\\" fill=\\\"#000000\\\" \\/>\\n<rect width=\\\".93\\\" height=\\\".93\\\" x=\\\"0\\\" y=\\\"9\\\" fill=\\\"#000000\\\" \\/>\\n<rect width=\\\".93\\\" height=\\\".93\\\" x=\\\"1\\\" y=\\\"9\\\" fill=\\\"#000000\\\" \\/>\\n<rect width=\\\".93\\\" height=\\\".93\\\" x=\\\"2\\\" y=\\\"9\\\" fill=\\\"#000000\\\" \\/>\\n<rect width=\\\".93\\\" height=\\\".93\\\" x=\\\"3\\\" y=\\\"9\\\" fill=\\\"#000000\\\" \\/>\\n<rect width=\\\".93\\\" height=\\\".93\\\" x=\\\"4\\\" y=\\\"9\\\" fill=\\\"#000000\\\" \\/>\\n<rect width=\\\".93\\\" height=\\\".93\\\" x=\\\"5\\\" y=\\\"9\\\" fill=\\\"#000000\\\" \\/>\\n<rect width=\\\".93\\\" height=\\\".93\\\" x=\\\"6\\\" y=\\\"9\\\" fill=\\\"#000000\\\" \\/>\\n<rect width=\\\".93\\\" height=\\\".93\\\" x=\\\"7\\\" y=\\\"9\\\" fill=\\\"#000000\\\" \\/>\\n<rect width=\\\".93\\\" height=\\\".93\\\" x=\\\"8\\\" y=\\\"9\\\" fill=\\\"#000000\\\" \\/>\\n<rect width=\\\".93\\\" height=\\\".93\\\" x=\\\"9\\\" y=\\\"9\\\" fill=\\\"#000000\\\" \\/>\\n<\\/svg>\"},\"nodeType\":\"DOM\",\"type\":\"node\",\"instanceArgs\":{\"namespace\":\"html\",\"tag\":\"div\"},\"children\":[]}]}}}},\"children\":[{\"props\":{},\"nodeType\":\"ObservableNode\",\"type\":\"node\",\"instanceArgs\":{\"id\":\"8506770684431480530\",\"name\":\"obs-node\"},\"children\":[]}]}]},\n",
       "            window,\n",
       "        );\n",
       "    } else {\n",
       "        document\n",
       "            .querySelector('[data-webio-mountpoint=\"2609325641494931966\"]')\n",
       "            .innerHTML = (\n",
       "                '<div style=\"padding: 1em; background-color: #f8d6da; border: 1px solid #f5c6cb\">' +\n",
       "                '<p><strong>WebIO not detected.</strong></p>' +\n",
       "                '<p>Please read ' +\n",
       "                '<a href=\"https://juliagizmos.github.io/WebIO.jl/latest/troubleshooting/not-detected/\" target=\"_blank\">the troubleshooting guide</a> ' +\n",
       "                'for more information on how to resolve this issue.</p>' +\n",
       "                '<p><a href=\"https://juliagizmos.github.io/WebIO.jl/latest/troubleshooting/not-detected/\" target=\"_blank\">https://juliagizmos.github.io/WebIO.jl/latest/troubleshooting/not-detected/</a></p>' +\n",
       "                '</div>'\n",
       "            );\n",
       "    }\n",
       "    </script>\n",
       "</div>\n"
      ],
      "text/plain": [
       "Node{WebIO.DOM}(WebIO.DOM(:html, :div), Any[Node{WebIO.DOM}(WebIO.DOM(:html, :div), Any[Scope(Node{WebIO.DOM}(WebIO.DOM(:html, :div), Any[Node{WebIO.DOM}(WebIO.DOM(:html, :div), Any[Node{WebIO.DOM}(WebIO.DOM(:html, :label), Any[\"i\"], Dict{Symbol,Any}(:className => \"interact \",:style => Dict{Any,Any}(:padding => \"5px 10px 0px 10px\")))], Dict{Symbol,Any}(:className => \"interact-flex-row-left\")), Node{WebIO.DOM}(WebIO.DOM(:html, :div), Any[Node{WebIO.DOM}(WebIO.DOM(:html, :input), Any[], Dict{Symbol,Any}(:max => 8,:min => 1,:attributes => Dict{Any,Any}(:type => \"range\",Symbol(\"data-bind\") => \"numericValue: index, valueUpdate: 'input', event: {change: function (){this.changes(this.changes()+1)}}\",\"orient\" => \"horizontal\"),:step => 1,:className => \"slider slider is-fullwidth\",:style => Dict{Any,Any}()))], Dict{Symbol,Any}(:className => \"interact-flex-row-center\")), Node{WebIO.DOM}(WebIO.DOM(:html, :div), Any[Node{WebIO.DOM}(WebIO.DOM(:html, :p), Any[], Dict{Symbol,Any}(:attributes => Dict(\"data-bind\" => \"text: formatted_val\")))], Dict{Symbol,Any}(:className => \"interact-flex-row-right\"))], Dict{Symbol,Any}(:className => \"interact-flex-row interact-widget\")), Dict{String,Tuple{Observables.AbstractObservable,Union{Nothing, Bool}}}(\"changes\" => (Observable{Int64} with 1 listeners. Value:\n",
       "0, nothing),\"index\" => (Observable{Int64} with 2 listeners. Value:\n",
       "4, nothing)), Set{String}(), nothing, Asset[Asset(\"js\", \"knockout\", \"/Users/crstnbr/.julia/packages/Knockout/IP1uR/src/../assets/knockout.js\"), Asset(\"js\", \"knockout_punches\", \"/Users/crstnbr/.julia/packages/Knockout/IP1uR/src/../assets/knockout_punches.js\"), Asset(\"js\", nothing, \"/Users/crstnbr/.julia/packages/InteractBase/sOe2Z/src/../assets/all.js\"), Asset(\"css\", nothing, \"/Users/crstnbr/.julia/packages/InteractBase/sOe2Z/src/../assets/style.css\"), Asset(\"css\", nothing, \"/Users/crstnbr/.julia/packages/Interact/SbgIk/src/../assets/bulma_confined.min.css\")], Dict{Any,Any}(\"changes\" => Any[WebIO.JSString(\"(function (val){return (val!=this.model[\\\"changes\\\"]()) ? (this.valueFromJulia[\\\"changes\\\"]=true, this.model[\\\"changes\\\"](val)) : undefined})\")],\"index\" => Any[WebIO.JSString(\"(function (val){return (val!=this.model[\\\"index\\\"]()) ? (this.valueFromJulia[\\\"index\\\"]=true, this.model[\\\"index\\\"](val)) : undefined})\")]), WebIO.ConnectionPool(Channel{Any}(sz_max:32,sz_curr:0), Set{AbstractConnection}(), Base.GenericCondition{Base.AlwaysLockedST}(Base.InvasiveLinkedList{Task}(Task (runnable) @0x000000011b4bd8d0, Task (runnable) @0x000000011b4bd8d0), Base.AlwaysLockedST(1))), WebIO.JSString[WebIO.JSString(\"function () {\\n    var handler = (function (ko, koPunches) {\\n    ko.punches.enableAll();\\n    ko.bindingHandlers.numericValue = {\\n        init: function(element, valueAccessor, allBindings, data, context) {\\n            var stringified = ko.observable(ko.unwrap(valueAccessor()));\\n            stringified.subscribe(function(value) {\\n                var val = parseFloat(value);\\n                if (!isNaN(val)) {\\n                    valueAccessor()(val);\\n                }\\n            });\\n            valueAccessor().subscribe(function(value) {\\n                var str = JSON.stringify(value);\\n                if ((str == \\\"0\\\") && ([\\\"-0\\\", \\\"-0.\\\"].indexOf(stringified()) >= 0))\\n                     return;\\n                 if ([\\\"null\\\", \\\"\\\"].indexOf(str) >= 0)\\n                     return;\\n                stringified(str);\\n            });\\n            ko.applyBindingsToNode(\\n                element,\\n                {\\n                    value: stringified,\\n                    valueUpdate: allBindings.get('valueUpdate'),\\n                },\\n                context,\\n            );\\n        }\\n    };\\n    var json_data = {\\\"formatted_vals\\\":[\\\"1\\\",\\\"2\\\",\\\"3\\\",\\\"4\\\",\\\"5\\\",\\\"6\\\",\\\"7\\\",\\\"8\\\"],\\\"changes\\\":WebIO.getval({\\\"name\\\":\\\"changes\\\",\\\"scope\\\":\\\"3258326373591170658\\\",\\\"id\\\":\\\"654819101990062238\\\",\\\"type\\\":\\\"observable\\\"}),\\\"index\\\":WebIO.getval({\\\"name\\\":\\\"index\\\",\\\"scope\\\":\\\"3258326373591170658\\\",\\\"id\\\":\\\"4730394140353805328\\\",\\\"type\\\":\\\"observable\\\"})};\\n    var self = this;\\n    function AppViewModel() {\\n        for (var key in json_data) {\\n            var el = json_data[key];\\n            this[key] = Array.isArray(el) ? ko.observableArray(el) : ko.observable(el);\\n        }\\n        \\n        [this[\\\"formatted_val\\\"]=ko.computed(    function(){\\n        return this.formatted_vals()[parseInt(this.index())-(1)];\\n    }\\n,this)]\\n        [this[\\\"changes\\\"].subscribe((function (val){!(this.valueFromJulia[\\\"changes\\\"]) ? (WebIO.setval({\\\"name\\\":\\\"changes\\\",\\\"scope\\\":\\\"3258326373591170658\\\",\\\"id\\\":\\\"654819101990062238\\\",\\\"type\\\":\\\"observable\\\"},val)) : undefined; return this.valueFromJulia[\\\"changes\\\"]=false}),self),this[\\\"index\\\"].subscribe((function (val){!(this.valueFromJulia[\\\"index\\\"]) ? (WebIO.setval({\\\"name\\\":\\\"index\\\",\\\"scope\\\":\\\"3258326373591170658\\\",\\\"id\\\":\\\"4730394140353805328\\\",\\\"type\\\":\\\"observable\\\"},val)) : undefined; return this.valueFromJulia[\\\"index\\\"]=false}),self)]\\n        \\n    }\\n    self.model = new AppViewModel();\\n    self.valueFromJulia = {};\\n    for (var key in json_data) {\\n        self.valueFromJulia[key] = false;\\n    }\\n    ko.applyBindings(self.model, self.dom);\\n}\\n);\\n    (WebIO.importBlock({\\\"data\\\":[{\\\"name\\\":\\\"knockout\\\",\\\"type\\\":\\\"js\\\",\\\"url\\\":\\\"/assetserver/ed00ed28984fd6f31ca204c39b41264a30b47b3c-knockout.js\\\"},{\\\"name\\\":\\\"knockout_punches\\\",\\\"type\\\":\\\"js\\\",\\\"url\\\":\\\"/assetserver/c11b402f27e4ffed9d363d08abde93165eec9bbd-knockout_punches.js\\\"}],\\\"type\\\":\\\"async_block\\\"})).then((imports) => handler.apply(this, imports));\\n}\\n\")])], Dict{Symbol,Any}(:className => \"field interact-widget\")), Node{WebIO.DOM}(WebIO.DOM(:html, :div), Any[Scope(Node{WebIO.DOM}(WebIO.DOM(:html, :div), Any[Node{WebIO.DOM}(WebIO.DOM(:html, :div), Any[Node{WebIO.DOM}(WebIO.DOM(:html, :label), Any[\"j\"], Dict{Symbol,Any}(:className => \"interact \",:style => Dict{Any,Any}(:padding => \"5px 10px 0px 10px\")))], Dict{Symbol,Any}(:className => \"interact-flex-row-left\")), Node{WebIO.DOM}(WebIO.DOM(:html, :div), Any[Node{WebIO.DOM}(WebIO.DOM(:html, :input), Any[], Dict{Symbol,Any}(:max => 8,:min => 1,:attributes => Dict{Any,Any}(:type => \"range\",Symbol(\"data-bind\") => \"numericValue: index, valueUpdate: 'input', event: {change: function (){this.changes(this.changes()+1)}}\",\"orient\" => \"horizontal\"),:step => 1,:className => \"slider slider is-fullwidth\",:style => Dict{Any,Any}()))], Dict{Symbol,Any}(:className => \"interact-flex-row-center\")), Node{WebIO.DOM}(WebIO.DOM(:html, :div), Any[Node{WebIO.DOM}(WebIO.DOM(:html, :p), Any[], Dict{Symbol,Any}(:attributes => Dict(\"data-bind\" => \"text: formatted_val\")))], Dict{Symbol,Any}(:className => \"interact-flex-row-right\"))], Dict{Symbol,Any}(:className => \"interact-flex-row interact-widget\")), Dict{String,Tuple{Observables.AbstractObservable,Union{Nothing, Bool}}}(\"changes\" => (Observable{Int64} with 1 listeners. Value:\n",
       "0, nothing),\"index\" => (Observable{Int64} with 2 listeners. Value:\n",
       "4, nothing)), Set{String}(), nothing, Asset[Asset(\"js\", \"knockout\", \"/Users/crstnbr/.julia/packages/Knockout/IP1uR/src/../assets/knockout.js\"), Asset(\"js\", \"knockout_punches\", \"/Users/crstnbr/.julia/packages/Knockout/IP1uR/src/../assets/knockout_punches.js\"), Asset(\"js\", nothing, \"/Users/crstnbr/.julia/packages/InteractBase/sOe2Z/src/../assets/all.js\"), Asset(\"css\", nothing, \"/Users/crstnbr/.julia/packages/InteractBase/sOe2Z/src/../assets/style.css\"), Asset(\"css\", nothing, \"/Users/crstnbr/.julia/packages/Interact/SbgIk/src/../assets/bulma_confined.min.css\")], Dict{Any,Any}(\"changes\" => Any[WebIO.JSString(\"(function (val){return (val!=this.model[\\\"changes\\\"]()) ? (this.valueFromJulia[\\\"changes\\\"]=true, this.model[\\\"changes\\\"](val)) : undefined})\")],\"index\" => Any[WebIO.JSString(\"(function (val){return (val!=this.model[\\\"index\\\"]()) ? (this.valueFromJulia[\\\"index\\\"]=true, this.model[\\\"index\\\"](val)) : undefined})\")]), WebIO.ConnectionPool(Channel{Any}(sz_max:32,sz_curr:0), Set{AbstractConnection}(), Base.GenericCondition{Base.AlwaysLockedST}(Base.InvasiveLinkedList{Task}(Task (runnable) @0x000000011b4bdf90, Task (runnable) @0x000000011b4bdf90), Base.AlwaysLockedST(1))), WebIO.JSString[WebIO.JSString(\"function () {\\n    var handler = (function (ko, koPunches) {\\n    ko.punches.enableAll();\\n    ko.bindingHandlers.numericValue = {\\n        init: function(element, valueAccessor, allBindings, data, context) {\\n            var stringified = ko.observable(ko.unwrap(valueAccessor()));\\n            stringified.subscribe(function(value) {\\n                var val = parseFloat(value);\\n                if (!isNaN(val)) {\\n                    valueAccessor()(val);\\n                }\\n            });\\n            valueAccessor().subscribe(function(value) {\\n                var str = JSON.stringify(value);\\n                if ((str == \\\"0\\\") && ([\\\"-0\\\", \\\"-0.\\\"].indexOf(stringified()) >= 0))\\n                     return;\\n                 if ([\\\"null\\\", \\\"\\\"].indexOf(str) >= 0)\\n                     return;\\n                stringified(str);\\n            });\\n            ko.applyBindingsToNode(\\n                element,\\n                {\\n                    value: stringified,\\n                    valueUpdate: allBindings.get('valueUpdate'),\\n                },\\n                context,\\n            );\\n        }\\n    };\\n    var json_data = {\\\"formatted_vals\\\":[\\\"1\\\",\\\"2\\\",\\\"3\\\",\\\"4\\\",\\\"5\\\",\\\"6\\\",\\\"7\\\",\\\"8\\\"],\\\"changes\\\":WebIO.getval({\\\"name\\\":\\\"changes\\\",\\\"scope\\\":\\\"12010428452896071433\\\",\\\"id\\\":\\\"14630319351658383900\\\",\\\"type\\\":\\\"observable\\\"}),\\\"index\\\":WebIO.getval({\\\"name\\\":\\\"index\\\",\\\"scope\\\":\\\"12010428452896071433\\\",\\\"id\\\":\\\"11370882750256470049\\\",\\\"type\\\":\\\"observable\\\"})};\\n    var self = this;\\n    function AppViewModel() {\\n        for (var key in json_data) {\\n            var el = json_data[key];\\n            this[key] = Array.isArray(el) ? ko.observableArray(el) : ko.observable(el);\\n        }\\n        \\n        [this[\\\"formatted_val\\\"]=ko.computed(    function(){\\n        return this.formatted_vals()[parseInt(this.index())-(1)];\\n    }\\n,this)]\\n        [this[\\\"changes\\\"].subscribe((function (val){!(this.valueFromJulia[\\\"changes\\\"]) ? (WebIO.setval({\\\"name\\\":\\\"changes\\\",\\\"scope\\\":\\\"12010428452896071433\\\",\\\"id\\\":\\\"14630319351658383900\\\",\\\"type\\\":\\\"observable\\\"},val)) : undefined; return this.valueFromJulia[\\\"changes\\\"]=false}),self),this[\\\"index\\\"].subscribe((function (val){!(this.valueFromJulia[\\\"index\\\"]) ? (WebIO.setval({\\\"name\\\":\\\"index\\\",\\\"scope\\\":\\\"12010428452896071433\\\",\\\"id\\\":\\\"11370882750256470049\\\",\\\"type\\\":\\\"observable\\\"},val)) : undefined; return this.valueFromJulia[\\\"index\\\"]=false}),self)]\\n        \\n    }\\n    self.model = new AppViewModel();\\n    self.valueFromJulia = {};\\n    for (var key in json_data) {\\n        self.valueFromJulia[key] = false;\\n    }\\n    ko.applyBindings(self.model, self.dom);\\n}\\n);\\n    (WebIO.importBlock({\\\"data\\\":[{\\\"name\\\":\\\"knockout\\\",\\\"type\\\":\\\"js\\\",\\\"url\\\":\\\"/assetserver/ed00ed28984fd6f31ca204c39b41264a30b47b3c-knockout.js\\\"},{\\\"name\\\":\\\"knockout_punches\\\",\\\"type\\\":\\\"js\\\",\\\"url\\\":\\\"/assetserver/c11b402f27e4ffed9d363d08abde93165eec9bbd-knockout_punches.js\\\"}],\\\"type\\\":\\\"async_block\\\"})).then((imports) => handler.apply(this, imports));\\n}\\n\")])], Dict{Symbol,Any}(:className => \"field interact-widget\")), Observable{Any} with 0 listeners. Value:\n",
       "Node{WebIO.DOM}(WebIO.DOM(:html, :div), Any[RGB{FixedPointNumbers.Normed{UInt8,8}}[RGB{N0f8}(0.0,0.0,0.0) RGB{N0f8}(0.0,0.0,0.0) … RGB{N0f8}(0.0,0.0,0.0) RGB{N0f8}(0.0,0.0,0.0); RGB{N0f8}(0.0,0.0,0.0) RGB{N0f8}(0.0,0.0,0.0) … RGB{N0f8}(0.0,0.0,0.0) RGB{N0f8}(0.0,0.0,0.0); … ; RGB{N0f8}(0.0,0.0,0.0) RGB{N0f8}(0.0,0.0,0.0) … RGB{N0f8}(0.0,0.0,0.0) RGB{N0f8}(0.0,0.0,0.0); RGB{N0f8}(0.0,0.0,0.0) RGB{N0f8}(0.0,0.0,0.0) … RGB{N0f8}(0.0,0.0,0.0) RGB{N0f8}(0.0,0.0,0.0)]], Dict{Symbol,Any}(:className => \"interact-flex-row interact-widget\"))], Dict{Symbol,Any}())"
      ]
     },
     "execution_count": 13,
     "metadata": {
      "application/vnd.webio.node+json": {
       "kernelId": "4f005b8b-b806-4ef5-849e-f26ceb7e087e"
      }
     },
     "output_type": "execute_result"
    }
   ],
   "source": [
    "A = fill(colors[1], 10, 10)\n",
    "n = size(A, 1)\n",
    "\n",
    "@manipulate for i in 1:n-2, j in 1:n-2\n",
    "    insert_block(A, i, j, colors[4])\n",
    "end"
   ]
  },
  {
   "cell_type": "markdown",
   "metadata": {},
   "source": [
    "## Emergent features: Example DifferentiaEquations.jl"
   ]
  },
  {
   "cell_type": "markdown",
   "metadata": {},
   "source": [
    "$$\\frac{du}{dt} = f(u,p,t)$$"
   ]
  },
  {
   "cell_type": "code",
   "execution_count": 15,
   "metadata": {},
   "outputs": [
    {
     "data": {
      "text/plain": [
       "\u001b[36mODEProblem\u001b[0m with uType \u001b[36mFloat64\u001b[0m and tType \u001b[36mFloat64\u001b[0m. In-place: \u001b[36mfalse\u001b[0m\n",
       "timespan: (0.0, 1.0)\n",
       "u0: 1.0"
      ]
     },
     "execution_count": 15,
     "metadata": {},
     "output_type": "execute_result"
    }
   ],
   "source": [
    "using OrdinaryDiffEq\n",
    "\n",
    "#Half-life of Carbon-14 is 5730 years.\n",
    "c = 5.730\n",
    "\n",
    "#Setup\n",
    "u0 = 1.0\n",
    "tspan = (0.0, 1.0)\n",
    "\n",
    "#Define the problem\n",
    "radioactivedecay(u,p,t) = -c*u\n",
    "\n",
    "#Pass to solver\n",
    "prob = ODEProblem(radioactivedecay,u0,tspan)"
   ]
  },
  {
   "cell_type": "code",
   "execution_count": 16,
   "metadata": {},
   "outputs": [],
   "source": [
    "sol = solve(prob, Tsit5(), reltol=1e-8, abstol=1e-8);"
   ]
  },
  {
   "cell_type": "code",
   "execution_count": 17,
   "metadata": {},
   "outputs": [
    {
     "data": {
      "image/svg+xml": [
       "<?xml version=\"1.0\" encoding=\"utf-8\"?>\n",
       "<svg xmlns=\"http://www.w3.org/2000/svg\" xmlns:xlink=\"http://www.w3.org/1999/xlink\" width=\"600\" height=\"400\" viewBox=\"0 0 2400 1600\">\n",
       "<defs>\n",
       "  <clipPath id=\"clip230\">\n",
       "    <rect x=\"0\" y=\"0\" width=\"2400\" height=\"1600\"/>\n",
       "  </clipPath>\n",
       "</defs>\n",
       "<path clip-path=\"url(#clip230)\" d=\"\n",
       "M0 1600 L2400 1600 L2400 0 L0 0  Z\n",
       "  \" fill=\"#ffffff\" fill-rule=\"evenodd\" fill-opacity=\"1\"/>\n",
       "<defs>\n",
       "  <clipPath id=\"clip231\">\n",
       "    <rect x=\"480\" y=\"0\" width=\"1681\" height=\"1600\"/>\n",
       "  </clipPath>\n",
       "</defs>\n",
       "<path clip-path=\"url(#clip230)\" d=\"\n",
       "M238.13 1423.18 L2352.76 1423.18 L2352.76 47.2441 L238.13 47.2441  Z\n",
       "  \" fill=\"#ffffff\" fill-rule=\"evenodd\" fill-opacity=\"1\"/>\n",
       "<defs>\n",
       "  <clipPath id=\"clip232\">\n",
       "    <rect x=\"238\" y=\"47\" width=\"2116\" height=\"1377\"/>\n",
       "  </clipPath>\n",
       "</defs>\n",
       "<polyline clip-path=\"url(#clip232)\" style=\"stroke:#000000; stroke-width:2; stroke-opacity:0.1; fill:none\" points=\"\n",
       "  297.978,1423.18 297.978,47.2441 \n",
       "  \"/>\n",
       "<polyline clip-path=\"url(#clip232)\" style=\"stroke:#000000; stroke-width:2; stroke-opacity:0.1; fill:none\" points=\"\n",
       "  796.71,1423.18 796.71,47.2441 \n",
       "  \"/>\n",
       "<polyline clip-path=\"url(#clip232)\" style=\"stroke:#000000; stroke-width:2; stroke-opacity:0.1; fill:none\" points=\"\n",
       "  1295.44,1423.18 1295.44,47.2441 \n",
       "  \"/>\n",
       "<polyline clip-path=\"url(#clip232)\" style=\"stroke:#000000; stroke-width:2; stroke-opacity:0.1; fill:none\" points=\"\n",
       "  1794.18,1423.18 1794.18,47.2441 \n",
       "  \"/>\n",
       "<polyline clip-path=\"url(#clip232)\" style=\"stroke:#000000; stroke-width:2; stroke-opacity:0.1; fill:none\" points=\"\n",
       "  2292.91,1423.18 2292.91,47.2441 \n",
       "  \"/>\n",
       "<polyline clip-path=\"url(#clip230)\" style=\"stroke:#000000; stroke-width:4; stroke-opacity:1; fill:none\" points=\"\n",
       "  238.13,1423.18 2352.76,1423.18 \n",
       "  \"/>\n",
       "<polyline clip-path=\"url(#clip230)\" style=\"stroke:#000000; stroke-width:4; stroke-opacity:1; fill:none\" points=\"\n",
       "  297.978,1423.18 297.978,1406.67 \n",
       "  \"/>\n",
       "<polyline clip-path=\"url(#clip230)\" style=\"stroke:#000000; stroke-width:4; stroke-opacity:1; fill:none\" points=\"\n",
       "  796.71,1423.18 796.71,1406.67 \n",
       "  \"/>\n",
       "<polyline clip-path=\"url(#clip230)\" style=\"stroke:#000000; stroke-width:4; stroke-opacity:1; fill:none\" points=\"\n",
       "  1295.44,1423.18 1295.44,1406.67 \n",
       "  \"/>\n",
       "<polyline clip-path=\"url(#clip230)\" style=\"stroke:#000000; stroke-width:4; stroke-opacity:1; fill:none\" points=\"\n",
       "  1794.18,1423.18 1794.18,1406.67 \n",
       "  \"/>\n",
       "<polyline clip-path=\"url(#clip230)\" style=\"stroke:#000000; stroke-width:4; stroke-opacity:1; fill:none\" points=\"\n",
       "  2292.91,1423.18 2292.91,1406.67 \n",
       "  \"/>\n",
       "<path clip-path=\"url(#clip230)\" d=\"M 0 0 M265.987 1452.37 Q262.376 1452.37 260.548 1455.94 Q258.742 1459.48 258.742 1466.61 Q258.742 1473.71 260.548 1477.28 Q262.376 1480.82 265.987 1480.82 Q269.622 1480.82 271.427 1477.28 Q273.256 1473.71 273.256 1466.61 Q273.256 1459.48 271.427 1455.94 Q269.622 1452.37 265.987 1452.37 M265.987 1448.67 Q271.798 1448.67 274.853 1453.27 Q277.932 1457.86 277.932 1466.61 Q277.932 1475.33 274.853 1479.94 Q271.798 1484.52 265.987 1484.52 Q260.177 1484.52 257.099 1479.94 Q254.043 1475.33 254.043 1466.61 Q254.043 1457.86 257.099 1453.27 Q260.177 1448.67 265.987 1448.67 Z\" fill=\"#000000\" fill-rule=\"evenodd\" fill-opacity=\"1\" /><path clip-path=\"url(#clip230)\" d=\"M 0 0 M283.001 1477.97 L287.885 1477.97 L287.885 1483.85 L283.001 1483.85 L283.001 1477.97 Z\" fill=\"#000000\" fill-rule=\"evenodd\" fill-opacity=\"1\" /><path clip-path=\"url(#clip230)\" d=\"M 0 0 M302.955 1452.37 Q299.344 1452.37 297.515 1455.94 Q295.709 1459.48 295.709 1466.61 Q295.709 1473.71 297.515 1477.28 Q299.344 1480.82 302.955 1480.82 Q306.589 1480.82 308.395 1477.28 Q310.223 1473.71 310.223 1466.61 Q310.223 1459.48 308.395 1455.94 Q306.589 1452.37 302.955 1452.37 M302.955 1448.67 Q308.765 1448.67 311.82 1453.27 Q314.899 1457.86 314.899 1466.61 Q314.899 1475.33 311.82 1479.94 Q308.765 1484.52 302.955 1484.52 Q297.145 1484.52 294.066 1479.94 Q291.01 1475.33 291.01 1466.61 Q291.01 1457.86 294.066 1453.27 Q297.145 1448.67 302.955 1448.67 Z\" fill=\"#000000\" fill-rule=\"evenodd\" fill-opacity=\"1\" /><path clip-path=\"url(#clip230)\" d=\"M 0 0 M329.969 1452.37 Q326.357 1452.37 324.529 1455.94 Q322.723 1459.48 322.723 1466.61 Q322.723 1473.71 324.529 1477.28 Q326.357 1480.82 329.969 1480.82 Q333.603 1480.82 335.408 1477.28 Q337.237 1473.71 337.237 1466.61 Q337.237 1459.48 335.408 1455.94 Q333.603 1452.37 329.969 1452.37 M329.969 1448.67 Q335.779 1448.67 338.834 1453.27 Q341.913 1457.86 341.913 1466.61 Q341.913 1475.33 338.834 1479.94 Q335.779 1484.52 329.969 1484.52 Q324.158 1484.52 321.08 1479.94 Q318.024 1475.33 318.024 1466.61 Q318.024 1457.86 321.08 1453.27 Q324.158 1448.67 329.969 1448.67 Z\" fill=\"#000000\" fill-rule=\"evenodd\" fill-opacity=\"1\" /><path clip-path=\"url(#clip230)\" d=\"M 0 0 M766.016 1452.37 Q762.405 1452.37 760.576 1455.94 Q758.771 1459.48 758.771 1466.61 Q758.771 1473.71 760.576 1477.28 Q762.405 1480.82 766.016 1480.82 Q769.65 1480.82 771.456 1477.28 Q773.285 1473.71 773.285 1466.61 Q773.285 1459.48 771.456 1455.94 Q769.65 1452.37 766.016 1452.37 M766.016 1448.67 Q771.826 1448.67 774.882 1453.27 Q777.961 1457.86 777.961 1466.61 Q777.961 1475.33 774.882 1479.94 Q771.826 1484.52 766.016 1484.52 Q760.206 1484.52 757.127 1479.94 Q754.072 1475.33 754.072 1466.61 Q754.072 1457.86 757.127 1453.27 Q760.206 1448.67 766.016 1448.67 Z\" fill=\"#000000\" fill-rule=\"evenodd\" fill-opacity=\"1\" /><path clip-path=\"url(#clip230)\" d=\"M 0 0 M783.03 1477.97 L787.914 1477.97 L787.914 1483.85 L783.03 1483.85 L783.03 1477.97 Z\" fill=\"#000000\" fill-rule=\"evenodd\" fill-opacity=\"1\" /><path clip-path=\"url(#clip230)\" d=\"M 0 0 M797.011 1479.92 L813.331 1479.92 L813.331 1483.85 L791.386 1483.85 L791.386 1479.92 Q794.048 1477.16 798.632 1472.53 Q803.238 1467.88 804.419 1466.54 Q806.664 1464.01 807.544 1462.28 Q808.447 1460.52 808.447 1458.83 Q808.447 1456.07 806.502 1454.34 Q804.581 1452.6 801.479 1452.6 Q799.28 1452.6 796.826 1453.37 Q794.396 1454.13 791.618 1455.68 L791.618 1450.96 Q794.442 1449.82 796.896 1449.25 Q799.349 1448.67 801.386 1448.67 Q806.757 1448.67 809.951 1451.35 Q813.146 1454.04 813.146 1458.53 Q813.146 1460.66 812.335 1462.58 Q811.548 1464.48 809.442 1467.07 Q808.863 1467.74 805.761 1470.96 Q802.66 1474.15 797.011 1479.92 Z\" fill=\"#000000\" fill-rule=\"evenodd\" fill-opacity=\"1\" /><path clip-path=\"url(#clip230)\" d=\"M 0 0 M818.446 1449.29 L836.803 1449.29 L836.803 1453.23 L822.729 1453.23 L822.729 1461.7 Q823.747 1461.35 824.766 1461.19 Q825.784 1461 826.803 1461 Q832.59 1461 835.97 1464.18 Q839.349 1467.35 839.349 1472.76 Q839.349 1478.34 835.877 1481.44 Q832.405 1484.52 826.085 1484.52 Q823.909 1484.52 821.641 1484.15 Q819.396 1483.78 816.988 1483.04 L816.988 1478.34 Q819.071 1479.48 821.294 1480.03 Q823.516 1480.59 825.993 1480.59 Q829.997 1480.59 832.335 1478.48 Q834.673 1476.38 834.673 1472.76 Q834.673 1469.15 832.335 1467.05 Q829.997 1464.94 825.993 1464.94 Q824.118 1464.94 822.243 1465.36 Q820.391 1465.77 818.446 1466.65 L818.446 1449.29 Z\" fill=\"#000000\" fill-rule=\"evenodd\" fill-opacity=\"1\" /><path clip-path=\"url(#clip230)\" d=\"M 0 0 M1263.95 1452.37 Q1260.34 1452.37 1258.51 1455.94 Q1256.7 1459.48 1256.7 1466.61 Q1256.7 1473.71 1258.51 1477.28 Q1260.34 1480.82 1263.95 1480.82 Q1267.58 1480.82 1269.39 1477.28 Q1271.22 1473.71 1271.22 1466.61 Q1271.22 1459.48 1269.39 1455.94 Q1267.58 1452.37 1263.95 1452.37 M1263.95 1448.67 Q1269.76 1448.67 1272.82 1453.27 Q1275.89 1457.86 1275.89 1466.61 Q1275.89 1475.33 1272.82 1479.94 Q1269.76 1484.52 1263.95 1484.52 Q1258.14 1484.52 1255.06 1479.94 Q1252.01 1475.33 1252.01 1466.61 Q1252.01 1457.86 1255.06 1453.27 Q1258.14 1448.67 1263.95 1448.67 Z\" fill=\"#000000\" fill-rule=\"evenodd\" fill-opacity=\"1\" /><path clip-path=\"url(#clip230)\" d=\"M 0 0 M1280.96 1477.97 L1285.85 1477.97 L1285.85 1483.85 L1280.96 1483.85 L1280.96 1477.97 Z\" fill=\"#000000\" fill-rule=\"evenodd\" fill-opacity=\"1\" /><path clip-path=\"url(#clip230)\" d=\"M 0 0 M1290.96 1449.29 L1309.32 1449.29 L1309.32 1453.23 L1295.25 1453.23 L1295.25 1461.7 Q1296.26 1461.35 1297.28 1461.19 Q1298.3 1461 1299.32 1461 Q1305.11 1461 1308.49 1464.18 Q1311.87 1467.35 1311.87 1472.76 Q1311.87 1478.34 1308.39 1481.44 Q1304.92 1484.52 1298.6 1484.52 Q1296.43 1484.52 1294.16 1484.15 Q1291.91 1483.78 1289.51 1483.04 L1289.51 1478.34 Q1291.59 1479.48 1293.81 1480.03 Q1296.03 1480.59 1298.51 1480.59 Q1302.51 1480.59 1304.85 1478.48 Q1307.19 1476.38 1307.19 1472.76 Q1307.19 1469.15 1304.85 1467.05 Q1302.51 1464.94 1298.51 1464.94 Q1296.64 1464.94 1294.76 1465.36 Q1292.91 1465.77 1290.96 1466.65 L1290.96 1449.29 Z\" fill=\"#000000\" fill-rule=\"evenodd\" fill-opacity=\"1\" /><path clip-path=\"url(#clip230)\" d=\"M 0 0 M1326.94 1452.37 Q1323.32 1452.37 1321.5 1455.94 Q1319.69 1459.48 1319.69 1466.61 Q1319.69 1473.71 1321.5 1477.28 Q1323.32 1480.82 1326.94 1480.82 Q1330.57 1480.82 1332.38 1477.28 Q1334.2 1473.71 1334.2 1466.61 Q1334.2 1459.48 1332.38 1455.94 Q1330.57 1452.37 1326.94 1452.37 M1326.94 1448.67 Q1332.75 1448.67 1335.8 1453.27 Q1338.88 1457.86 1338.88 1466.61 Q1338.88 1475.33 1335.8 1479.94 Q1332.75 1484.52 1326.94 1484.52 Q1321.13 1484.52 1318.05 1479.94 Q1314.99 1475.33 1314.99 1466.61 Q1314.99 1457.86 1318.05 1453.27 Q1321.13 1448.67 1326.94 1448.67 Z\" fill=\"#000000\" fill-rule=\"evenodd\" fill-opacity=\"1\" /><path clip-path=\"url(#clip230)\" d=\"M 0 0 M1763.13 1452.37 Q1759.52 1452.37 1757.69 1455.94 Q1755.89 1459.48 1755.89 1466.61 Q1755.89 1473.71 1757.69 1477.28 Q1759.52 1480.82 1763.13 1480.82 Q1766.77 1480.82 1768.57 1477.28 Q1770.4 1473.71 1770.4 1466.61 Q1770.4 1459.48 1768.57 1455.94 Q1766.77 1452.37 1763.13 1452.37 M1763.13 1448.67 Q1768.94 1448.67 1772 1453.27 Q1775.08 1457.86 1775.08 1466.61 Q1775.08 1475.33 1772 1479.94 Q1768.94 1484.52 1763.13 1484.52 Q1757.32 1484.52 1754.25 1479.94 Q1751.19 1475.33 1751.19 1466.61 Q1751.19 1457.86 1754.25 1453.27 Q1757.32 1448.67 1763.13 1448.67 Z\" fill=\"#000000\" fill-rule=\"evenodd\" fill-opacity=\"1\" /><path clip-path=\"url(#clip230)\" d=\"M 0 0 M1780.15 1477.97 L1785.03 1477.97 L1785.03 1483.85 L1780.15 1483.85 L1780.15 1477.97 Z\" fill=\"#000000\" fill-rule=\"evenodd\" fill-opacity=\"1\" /><path clip-path=\"url(#clip230)\" d=\"M 0 0 M1788.92 1449.29 L1811.14 1449.29 L1811.14 1451.28 L1798.6 1483.85 L1793.71 1483.85 L1805.52 1453.23 L1788.92 1453.23 L1788.92 1449.29 Z\" fill=\"#000000\" fill-rule=\"evenodd\" fill-opacity=\"1\" /><path clip-path=\"url(#clip230)\" d=\"M 0 0 M1816.26 1449.29 L1834.62 1449.29 L1834.62 1453.23 L1820.54 1453.23 L1820.54 1461.7 Q1821.56 1461.35 1822.58 1461.19 Q1823.6 1461 1824.62 1461 Q1830.4 1461 1833.78 1464.18 Q1837.16 1467.35 1837.16 1472.76 Q1837.16 1478.34 1833.69 1481.44 Q1830.22 1484.52 1823.9 1484.52 Q1821.72 1484.52 1819.45 1484.15 Q1817.21 1483.78 1814.8 1483.04 L1814.8 1478.34 Q1816.88 1479.48 1819.11 1480.03 Q1821.33 1480.59 1823.8 1480.59 Q1827.81 1480.59 1830.15 1478.48 Q1832.49 1476.38 1832.49 1472.76 Q1832.49 1469.15 1830.15 1467.05 Q1827.81 1464.94 1823.8 1464.94 Q1821.93 1464.94 1820.05 1465.36 Q1818.2 1465.77 1816.26 1466.65 L1816.26 1449.29 Z\" fill=\"#000000\" fill-rule=\"evenodd\" fill-opacity=\"1\" /><path clip-path=\"url(#clip230)\" d=\"M 0 0 M2251.3 1479.92 L2258.94 1479.92 L2258.94 1453.55 L2250.63 1455.22 L2250.63 1450.96 L2258.89 1449.29 L2263.57 1449.29 L2263.57 1479.92 L2271.21 1479.92 L2271.21 1483.85 L2251.3 1483.85 L2251.3 1479.92 Z\" fill=\"#000000\" fill-rule=\"evenodd\" fill-opacity=\"1\" /><path clip-path=\"url(#clip230)\" d=\"M 0 0 M2276.28 1477.97 L2281.16 1477.97 L2281.16 1483.85 L2276.28 1483.85 L2276.28 1477.97 Z\" fill=\"#000000\" fill-rule=\"evenodd\" fill-opacity=\"1\" /><path clip-path=\"url(#clip230)\" d=\"M 0 0 M2296.23 1452.37 Q2292.62 1452.37 2290.79 1455.94 Q2288.98 1459.48 2288.98 1466.61 Q2288.98 1473.71 2290.79 1477.28 Q2292.62 1480.82 2296.23 1480.82 Q2299.86 1480.82 2301.67 1477.28 Q2303.5 1473.71 2303.5 1466.61 Q2303.5 1459.48 2301.67 1455.94 Q2299.86 1452.37 2296.23 1452.37 M2296.23 1448.67 Q2302.04 1448.67 2305.1 1453.27 Q2308.17 1457.86 2308.17 1466.61 Q2308.17 1475.33 2305.1 1479.94 Q2302.04 1484.52 2296.23 1484.52 Q2290.42 1484.52 2287.34 1479.94 Q2284.29 1475.33 2284.29 1466.61 Q2284.29 1457.86 2287.34 1453.27 Q2290.42 1448.67 2296.23 1448.67 Z\" fill=\"#000000\" fill-rule=\"evenodd\" fill-opacity=\"1\" /><path clip-path=\"url(#clip230)\" d=\"M 0 0 M2323.24 1452.37 Q2319.63 1452.37 2317.8 1455.94 Q2316 1459.48 2316 1466.61 Q2316 1473.71 2317.8 1477.28 Q2319.63 1480.82 2323.24 1480.82 Q2326.88 1480.82 2328.68 1477.28 Q2330.51 1473.71 2330.51 1466.61 Q2330.51 1459.48 2328.68 1455.94 Q2326.88 1452.37 2323.24 1452.37 M2323.24 1448.67 Q2329.05 1448.67 2332.11 1453.27 Q2335.19 1457.86 2335.19 1466.61 Q2335.19 1475.33 2332.11 1479.94 Q2329.05 1484.52 2323.24 1484.52 Q2317.43 1484.52 2314.35 1479.94 Q2311.3 1475.33 2311.3 1466.61 Q2311.3 1457.86 2314.35 1453.27 Q2317.43 1448.67 2323.24 1448.67 Z\" fill=\"#000000\" fill-rule=\"evenodd\" fill-opacity=\"1\" /><path clip-path=\"url(#clip230)\" d=\"M 0 0 M1294.5 1510.27 L1294.5 1520.4 L1306.57 1520.4 L1306.57 1524.95 L1294.5 1524.95 L1294.5 1544.3 Q1294.5 1548.66 1295.68 1549.9 Q1296.89 1551.14 1300.55 1551.14 L1306.57 1551.14 L1306.57 1556.04 L1300.55 1556.04 Q1293.77 1556.04 1291.19 1553.53 Q1288.62 1550.98 1288.62 1544.3 L1288.62 1524.95 L1284.32 1524.95 L1284.32 1520.4 L1288.62 1520.4 L1288.62 1510.27 L1294.5 1510.27 Z\" fill=\"#000000\" fill-rule=\"evenodd\" fill-opacity=\"1\" /><polyline clip-path=\"url(#clip232)\" style=\"stroke:#000000; stroke-width:2; stroke-opacity:0.1; fill:none\" points=\"\n",
       "  238.13,1388.47 2352.76,1388.47 \n",
       "  \"/>\n",
       "<polyline clip-path=\"url(#clip232)\" style=\"stroke:#000000; stroke-width:2; stroke-opacity:0.1; fill:none\" points=\"\n",
       "  238.13,1062.9 2352.76,1062.9 \n",
       "  \"/>\n",
       "<polyline clip-path=\"url(#clip232)\" style=\"stroke:#000000; stroke-width:2; stroke-opacity:0.1; fill:none\" points=\"\n",
       "  238.13,737.326 2352.76,737.326 \n",
       "  \"/>\n",
       "<polyline clip-path=\"url(#clip232)\" style=\"stroke:#000000; stroke-width:2; stroke-opacity:0.1; fill:none\" points=\"\n",
       "  238.13,411.756 2352.76,411.756 \n",
       "  \"/>\n",
       "<polyline clip-path=\"url(#clip232)\" style=\"stroke:#000000; stroke-width:2; stroke-opacity:0.1; fill:none\" points=\"\n",
       "  238.13,86.1857 2352.76,86.1857 \n",
       "  \"/>\n",
       "<polyline clip-path=\"url(#clip230)\" style=\"stroke:#000000; stroke-width:4; stroke-opacity:1; fill:none\" points=\"\n",
       "  238.13,1423.18 238.13,47.2441 \n",
       "  \"/>\n",
       "<polyline clip-path=\"url(#clip230)\" style=\"stroke:#000000; stroke-width:4; stroke-opacity:1; fill:none\" points=\"\n",
       "  238.13,1388.47 263.506,1388.47 \n",
       "  \"/>\n",
       "<polyline clip-path=\"url(#clip230)\" style=\"stroke:#000000; stroke-width:4; stroke-opacity:1; fill:none\" points=\"\n",
       "  238.13,1062.9 263.506,1062.9 \n",
       "  \"/>\n",
       "<polyline clip-path=\"url(#clip230)\" style=\"stroke:#000000; stroke-width:4; stroke-opacity:1; fill:none\" points=\"\n",
       "  238.13,737.326 263.506,737.326 \n",
       "  \"/>\n",
       "<polyline clip-path=\"url(#clip230)\" style=\"stroke:#000000; stroke-width:4; stroke-opacity:1; fill:none\" points=\"\n",
       "  238.13,411.756 263.506,411.756 \n",
       "  \"/>\n",
       "<polyline clip-path=\"url(#clip230)\" style=\"stroke:#000000; stroke-width:4; stroke-opacity:1; fill:none\" points=\"\n",
       "  238.13,86.1857 263.506,86.1857 \n",
       "  \"/>\n",
       "<path clip-path=\"url(#clip230)\" d=\"M 0 0 M126.205 1374.27 Q122.593 1374.27 120.765 1377.83 Q118.959 1381.37 118.959 1388.5 Q118.959 1395.61 120.765 1399.17 Q122.593 1402.71 126.205 1402.71 Q129.839 1402.71 131.644 1399.17 Q133.473 1395.61 133.473 1388.5 Q133.473 1381.37 131.644 1377.83 Q129.839 1374.27 126.205 1374.27 M126.205 1370.56 Q132.015 1370.56 135.07 1375.17 Q138.149 1379.75 138.149 1388.5 Q138.149 1397.23 135.07 1401.83 Q132.015 1406.42 126.205 1406.42 Q120.394 1406.42 117.316 1401.83 Q114.26 1397.23 114.26 1388.5 Q114.26 1379.75 117.316 1375.17 Q120.394 1370.56 126.205 1370.56 Z\" fill=\"#000000\" fill-rule=\"evenodd\" fill-opacity=\"1\" /><path clip-path=\"url(#clip230)\" d=\"M 0 0 M143.218 1399.87 L148.103 1399.87 L148.103 1405.75 L143.218 1405.75 L143.218 1399.87 Z\" fill=\"#000000\" fill-rule=\"evenodd\" fill-opacity=\"1\" /><path clip-path=\"url(#clip230)\" d=\"M 0 0 M163.172 1374.27 Q159.561 1374.27 157.732 1377.83 Q155.927 1381.37 155.927 1388.5 Q155.927 1395.61 157.732 1399.17 Q159.561 1402.71 163.172 1402.71 Q166.806 1402.71 168.612 1399.17 Q170.44 1395.61 170.44 1388.5 Q170.44 1381.37 168.612 1377.83 Q166.806 1374.27 163.172 1374.27 M163.172 1370.56 Q168.982 1370.56 172.038 1375.17 Q175.116 1379.75 175.116 1388.5 Q175.116 1397.23 172.038 1401.83 Q168.982 1406.42 163.172 1406.42 Q157.362 1406.42 154.283 1401.83 Q151.228 1397.23 151.228 1388.5 Q151.228 1379.75 154.283 1375.17 Q157.362 1370.56 163.172 1370.56 Z\" fill=\"#000000\" fill-rule=\"evenodd\" fill-opacity=\"1\" /><path clip-path=\"url(#clip230)\" d=\"M 0 0 M190.186 1374.27 Q186.575 1374.27 184.746 1377.83 Q182.94 1381.37 182.94 1388.5 Q182.94 1395.61 184.746 1399.17 Q186.575 1402.71 190.186 1402.71 Q193.82 1402.71 195.625 1399.17 Q197.454 1395.61 197.454 1388.5 Q197.454 1381.37 195.625 1377.83 Q193.82 1374.27 190.186 1374.27 M190.186 1370.56 Q195.996 1370.56 199.051 1375.17 Q202.13 1379.75 202.13 1388.5 Q202.13 1397.23 199.051 1401.83 Q195.996 1406.42 190.186 1406.42 Q184.376 1406.42 181.297 1401.83 Q178.241 1397.23 178.241 1388.5 Q178.241 1379.75 181.297 1375.17 Q184.376 1370.56 190.186 1370.56 Z\" fill=\"#000000\" fill-rule=\"evenodd\" fill-opacity=\"1\" /><path clip-path=\"url(#clip230)\" d=\"M 0 0 M128.797 1048.7 Q125.186 1048.7 123.357 1052.26 Q121.552 1055.8 121.552 1062.93 Q121.552 1070.04 123.357 1073.6 Q125.186 1077.14 128.797 1077.14 Q132.431 1077.14 134.237 1073.6 Q136.066 1070.04 136.066 1062.93 Q136.066 1055.8 134.237 1052.26 Q132.431 1048.7 128.797 1048.7 M128.797 1044.99 Q134.607 1044.99 137.663 1049.6 Q140.741 1054.18 140.741 1062.93 Q140.741 1071.66 137.663 1076.26 Q134.607 1080.85 128.797 1080.85 Q122.987 1080.85 119.908 1076.26 Q116.853 1071.66 116.853 1062.93 Q116.853 1054.18 119.908 1049.6 Q122.987 1044.99 128.797 1044.99 Z\" fill=\"#000000\" fill-rule=\"evenodd\" fill-opacity=\"1\" /><path clip-path=\"url(#clip230)\" d=\"M 0 0 M145.811 1074.3 L150.695 1074.3 L150.695 1080.18 L145.811 1080.18 L145.811 1074.3 Z\" fill=\"#000000\" fill-rule=\"evenodd\" fill-opacity=\"1\" /><path clip-path=\"url(#clip230)\" d=\"M 0 0 M159.792 1076.24 L176.112 1076.24 L176.112 1080.18 L154.167 1080.18 L154.167 1076.24 Q156.829 1073.49 161.413 1068.86 Q166.019 1064.2 167.2 1062.86 Q169.445 1060.34 170.325 1058.6 Q171.227 1056.84 171.227 1055.15 Q171.227 1052.4 169.283 1050.66 Q167.362 1048.93 164.26 1048.93 Q162.061 1048.93 159.607 1049.69 Q157.177 1050.45 154.399 1052.01 L154.399 1047.28 Q157.223 1046.15 159.677 1045.57 Q162.13 1044.99 164.167 1044.99 Q169.538 1044.99 172.732 1047.68 Q175.926 1050.36 175.926 1054.85 Q175.926 1056.98 175.116 1058.9 Q174.329 1060.8 172.223 1063.39 Q171.644 1064.07 168.542 1067.28 Q165.44 1070.48 159.792 1076.24 Z\" fill=\"#000000\" fill-rule=\"evenodd\" fill-opacity=\"1\" /><path clip-path=\"url(#clip230)\" d=\"M 0 0 M181.227 1045.62 L199.584 1045.62 L199.584 1049.55 L185.51 1049.55 L185.51 1058.02 Q186.528 1057.68 187.547 1057.51 Q188.565 1057.33 189.584 1057.33 Q195.371 1057.33 198.75 1060.5 Q202.13 1063.67 202.13 1069.09 Q202.13 1074.67 198.658 1077.77 Q195.186 1080.85 188.866 1080.85 Q186.69 1080.85 184.422 1080.48 Q182.176 1080.11 179.769 1079.37 L179.769 1074.67 Q181.852 1075.8 184.075 1076.36 Q186.297 1076.91 188.774 1076.91 Q192.778 1076.91 195.116 1074.81 Q197.454 1072.7 197.454 1069.09 Q197.454 1065.48 195.116 1063.37 Q192.778 1061.26 188.774 1061.26 Q186.899 1061.26 185.024 1061.68 Q183.172 1062.1 181.227 1062.98 L181.227 1045.62 Z\" fill=\"#000000\" fill-rule=\"evenodd\" fill-opacity=\"1\" /><path clip-path=\"url(#clip230)\" d=\"M 0 0 M127.2 723.125 Q123.589 723.125 121.76 726.69 Q119.955 730.231 119.955 737.361 Q119.955 744.467 121.76 748.032 Q123.589 751.574 127.2 751.574 Q130.834 751.574 132.64 748.032 Q134.468 744.467 134.468 737.361 Q134.468 730.231 132.64 726.69 Q130.834 723.125 127.2 723.125 M127.2 719.421 Q133.01 719.421 136.066 724.028 Q139.144 728.611 139.144 737.361 Q139.144 746.088 136.066 750.694 Q133.01 755.278 127.2 755.278 Q121.39 755.278 118.311 750.694 Q115.256 746.088 115.256 737.361 Q115.256 728.611 118.311 724.028 Q121.39 719.421 127.2 719.421 Z\" fill=\"#000000\" fill-rule=\"evenodd\" fill-opacity=\"1\" /><path clip-path=\"url(#clip230)\" d=\"M 0 0 M144.214 748.727 L149.098 748.727 L149.098 754.606 L144.214 754.606 L144.214 748.727 Z\" fill=\"#000000\" fill-rule=\"evenodd\" fill-opacity=\"1\" /><path clip-path=\"url(#clip230)\" d=\"M 0 0 M154.214 720.046 L172.57 720.046 L172.57 723.981 L158.496 723.981 L158.496 732.454 Q159.515 732.106 160.533 731.944 Q161.552 731.759 162.57 731.759 Q168.357 731.759 171.737 734.93 Q175.116 738.102 175.116 743.518 Q175.116 749.097 171.644 752.199 Q168.172 755.278 161.852 755.278 Q159.677 755.278 157.408 754.907 Q155.163 754.537 152.755 753.796 L152.755 749.097 Q154.839 750.231 157.061 750.787 Q159.283 751.342 161.76 751.342 Q165.765 751.342 168.102 749.236 Q170.44 747.129 170.44 743.518 Q170.44 739.907 168.102 737.801 Q165.765 735.694 161.76 735.694 Q159.885 735.694 158.01 736.111 Q156.158 736.528 154.214 737.407 L154.214 720.046 Z\" fill=\"#000000\" fill-rule=\"evenodd\" fill-opacity=\"1\" /><path clip-path=\"url(#clip230)\" d=\"M 0 0 M190.186 723.125 Q186.575 723.125 184.746 726.69 Q182.94 730.231 182.94 737.361 Q182.94 744.467 184.746 748.032 Q186.575 751.574 190.186 751.574 Q193.82 751.574 195.625 748.032 Q197.454 744.467 197.454 737.361 Q197.454 730.231 195.625 726.69 Q193.82 723.125 190.186 723.125 M190.186 719.421 Q195.996 719.421 199.051 724.028 Q202.13 728.611 202.13 737.361 Q202.13 746.088 199.051 750.694 Q195.996 755.278 190.186 755.278 Q184.376 755.278 181.297 750.694 Q178.241 746.088 178.241 737.361 Q178.241 728.611 181.297 724.028 Q184.376 719.421 190.186 719.421 Z\" fill=\"#000000\" fill-rule=\"evenodd\" fill-opacity=\"1\" /><path clip-path=\"url(#clip230)\" d=\"M 0 0 M128.103 397.555 Q124.492 397.555 122.663 401.119 Q120.857 404.661 120.857 411.791 Q120.857 418.897 122.663 422.462 Q124.492 426.004 128.103 426.004 Q131.737 426.004 133.542 422.462 Q135.371 418.897 135.371 411.791 Q135.371 404.661 133.542 401.119 Q131.737 397.555 128.103 397.555 M128.103 393.851 Q133.913 393.851 136.968 398.457 Q140.047 403.041 140.047 411.791 Q140.047 420.517 136.968 425.124 Q133.913 429.707 128.103 429.707 Q122.293 429.707 119.214 425.124 Q116.158 420.517 116.158 411.791 Q116.158 403.041 119.214 398.457 Q122.293 393.851 128.103 393.851 Z\" fill=\"#000000\" fill-rule=\"evenodd\" fill-opacity=\"1\" /><path clip-path=\"url(#clip230)\" d=\"M 0 0 M145.116 423.156 L150.001 423.156 L150.001 429.036 L145.116 429.036 L145.116 423.156 Z\" fill=\"#000000\" fill-rule=\"evenodd\" fill-opacity=\"1\" /><path clip-path=\"url(#clip230)\" d=\"M 0 0 M153.89 394.476 L176.112 394.476 L176.112 396.467 L163.565 429.036 L158.681 429.036 L170.487 398.411 L153.89 398.411 L153.89 394.476 Z\" fill=\"#000000\" fill-rule=\"evenodd\" fill-opacity=\"1\" /><path clip-path=\"url(#clip230)\" d=\"M 0 0 M181.227 394.476 L199.584 394.476 L199.584 398.411 L185.51 398.411 L185.51 406.883 Q186.528 406.536 187.547 406.374 Q188.565 406.189 189.584 406.189 Q195.371 406.189 198.75 409.36 Q202.13 412.531 202.13 417.948 Q202.13 423.527 198.658 426.629 Q195.186 429.707 188.866 429.707 Q186.69 429.707 184.422 429.337 Q182.176 428.967 179.769 428.226 L179.769 423.527 Q181.852 424.661 184.075 425.217 Q186.297 425.772 188.774 425.772 Q192.778 425.772 195.116 423.666 Q197.454 421.559 197.454 417.948 Q197.454 414.337 195.116 412.231 Q192.778 410.124 188.774 410.124 Q186.899 410.124 185.024 410.541 Q183.172 410.957 181.227 411.837 L181.227 394.476 Z\" fill=\"#000000\" fill-rule=\"evenodd\" fill-opacity=\"1\" /><path clip-path=\"url(#clip230)\" d=\"M 0 0 M118.242 99.5305 L125.88 99.5305 L125.88 73.1649 L117.57 74.8316 L117.57 70.5723 L125.834 68.9057 L130.51 68.9057 L130.51 99.5305 L138.149 99.5305 L138.149 103.466 L118.242 103.466 L118.242 99.5305 Z\" fill=\"#000000\" fill-rule=\"evenodd\" fill-opacity=\"1\" /><path clip-path=\"url(#clip230)\" d=\"M 0 0 M143.218 97.5861 L148.103 97.5861 L148.103 103.466 L143.218 103.466 L143.218 97.5861 Z\" fill=\"#000000\" fill-rule=\"evenodd\" fill-opacity=\"1\" /><path clip-path=\"url(#clip230)\" d=\"M 0 0 M163.172 71.9844 Q159.561 71.9844 157.732 75.5492 Q155.927 79.0908 155.927 86.2204 Q155.927 93.3268 157.732 96.8916 Q159.561 100.433 163.172 100.433 Q166.806 100.433 168.612 96.8916 Q170.44 93.3268 170.44 86.2204 Q170.44 79.0908 168.612 75.5492 Q166.806 71.9844 163.172 71.9844 M163.172 68.2807 Q168.982 68.2807 172.038 72.8871 Q175.116 77.4704 175.116 86.2204 Q175.116 94.9472 172.038 99.5537 Q168.982 104.137 163.172 104.137 Q157.362 104.137 154.283 99.5537 Q151.228 94.9472 151.228 86.2204 Q151.228 77.4704 154.283 72.8871 Q157.362 68.2807 163.172 68.2807 Z\" fill=\"#000000\" fill-rule=\"evenodd\" fill-opacity=\"1\" /><path clip-path=\"url(#clip230)\" d=\"M 0 0 M190.186 71.9844 Q186.575 71.9844 184.746 75.5492 Q182.94 79.0908 182.94 86.2204 Q182.94 93.3268 184.746 96.8916 Q186.575 100.433 190.186 100.433 Q193.82 100.433 195.625 96.8916 Q197.454 93.3268 197.454 86.2204 Q197.454 79.0908 195.625 75.5492 Q193.82 71.9844 190.186 71.9844 M190.186 68.2807 Q195.996 68.2807 199.051 72.8871 Q202.13 77.4704 202.13 86.2204 Q202.13 94.9472 199.051 99.5537 Q195.996 104.137 190.186 104.137 Q184.376 104.137 181.297 99.5537 Q178.241 94.9472 178.241 86.2204 Q178.241 77.4704 181.297 72.8871 Q184.376 68.2807 190.186 68.2807 Z\" fill=\"#000000\" fill-rule=\"evenodd\" fill-opacity=\"1\" /><path clip-path=\"url(#clip230)\" d=\"M 0 0 M73.9359 782.159 L52.3562 782.159 L52.3562 776.303 L73.7131 776.303 Q78.7739 776.303 81.3202 774.329 Q83.8346 772.356 83.8346 768.409 Q83.8346 763.667 80.8109 760.929 Q77.7872 758.16 72.5673 758.16 L52.3562 758.16 L52.3562 752.304 L88.0042 752.304 L88.0042 758.16 L82.5296 758.16 Q85.7762 760.293 87.3676 763.126 Q88.9272 765.927 88.9272 769.65 Q88.9272 775.793 85.1078 778.976 Q81.2883 782.159 73.9359 782.159 M51.4968 767.422 L51.4968 767.422 Z\" fill=\"#000000\" fill-rule=\"evenodd\" fill-opacity=\"1\" /><path clip-path=\"url(#clip230)\" d=\"M 0 0 M38.5426 732.093 Q45.8632 736.358 53.0246 738.427 Q60.186 740.496 67.5384 740.496 Q74.8908 740.496 82.1159 738.427 Q89.3091 736.326 96.5979 732.093 L96.5979 737.185 Q89.1182 741.96 81.8931 744.347 Q74.668 746.702 67.5384 746.702 Q60.4406 746.702 53.2474 744.347 Q46.0542 741.991 38.5426 737.185 L38.5426 732.093 Z\" fill=\"#000000\" fill-rule=\"evenodd\" fill-opacity=\"1\" /><path clip-path=\"url(#clip230)\" d=\"M 0 0 M42.2347 720.157 L52.3562 720.157 L52.3562 708.094 L56.9077 708.094 L56.9077 720.157 L76.2594 720.157 Q80.6199 720.157 81.8613 718.979 Q83.1026 717.77 83.1026 714.11 L83.1026 708.094 L88.0042 708.094 L88.0042 714.11 Q88.0042 720.889 85.4897 723.467 Q82.9434 726.045 76.2594 726.045 L56.9077 726.045 L56.9077 730.342 L52.3562 730.342 L52.3562 726.045 L42.2347 726.045 L42.2347 720.157 Z\" fill=\"#000000\" fill-rule=\"evenodd\" fill-opacity=\"1\" /><path clip-path=\"url(#clip230)\" d=\"M 0 0 M38.5426 702.874 L38.5426 697.782 Q46.0542 693.007 53.2474 690.652 Q60.4406 688.265 67.5384 688.265 Q74.668 688.265 81.8931 690.652 Q89.1182 693.007 96.5979 697.782 L96.5979 702.874 Q89.3091 698.641 82.1159 696.572 Q74.8908 694.471 67.5384 694.471 Q60.186 694.471 53.0246 696.572 Q45.8632 698.641 38.5426 702.874 Z\" fill=\"#000000\" fill-rule=\"evenodd\" fill-opacity=\"1\" /><polyline clip-path=\"url(#clip232)\" style=\"stroke:#009af9; stroke-width:8; stroke-opacity:1; fill:none\" points=\"\n",
       "  297.978,86.1857 309.377,128.134 322.675,175.364 339.175,231.517 357.919,292.158 379.189,357.128 402.479,423.865 427.713,491.304 454.583,557.941 482.936,622.896 \n",
       "  512.572,685.368 543.359,744.872 575.168,801.067 607.904,853.782 641.493,902.956 675.876,948.613 711.014,990.839 746.879,1029.76 783.455,1065.53 820.737,1098.33 \n",
       "  858.727,1128.32 897.434,1155.69 936.876,1180.62 977.072,1203.29 1018.05,1223.85 1059.84,1242.47 1102.47,1259.29 1145.99,1274.47 1190.43,1288.13 1235.84,1300.4 \n",
       "  1282.27,1311.4 1329.77,1321.23 1378.4,1329.99 1428.22,1337.79 1479.3,1344.7 1531.7,1350.82 1585.5,1356.21 1640.78,1360.95 1697.63,1365.09 1756.15,1368.71 \n",
       "  1816.43,1371.85 1878.59,1374.57 1942.76,1376.91 2009.05,1378.91 2077.62,1380.62 2148.62,1382.07 2222.24,1383.29 2292.91,1384.24 \n",
       "  \"/>\n",
       "</svg>\n"
      ]
     },
     "execution_count": 17,
     "metadata": {},
     "output_type": "execute_result"
    }
   ],
   "source": [
    "using Plots\n",
    "\n",
    "plot(sol.t, sol.u, ylabel=\"u(t)\", xlabel=\"t\", lw=2, legend=false)"
   ]
  },
  {
   "cell_type": "markdown",
   "metadata": {},
   "source": [
    "### Arbitrary precision"
   ]
  },
  {
   "cell_type": "code",
   "execution_count": 18,
   "metadata": {},
   "outputs": [
    {
     "data": {
      "image/svg+xml": [
       "<?xml version=\"1.0\" encoding=\"utf-8\"?>\n",
       "<svg xmlns=\"http://www.w3.org/2000/svg\" xmlns:xlink=\"http://www.w3.org/1999/xlink\" width=\"600\" height=\"400\" viewBox=\"0 0 2400 1600\">\n",
       "<defs>\n",
       "  <clipPath id=\"clip270\">\n",
       "    <rect x=\"0\" y=\"0\" width=\"2400\" height=\"1600\"/>\n",
       "  </clipPath>\n",
       "</defs>\n",
       "<path clip-path=\"url(#clip270)\" d=\"\n",
       "M0 1600 L2400 1600 L2400 0 L0 0  Z\n",
       "  \" fill=\"#ffffff\" fill-rule=\"evenodd\" fill-opacity=\"1\"/>\n",
       "<defs>\n",
       "  <clipPath id=\"clip271\">\n",
       "    <rect x=\"480\" y=\"0\" width=\"1681\" height=\"1600\"/>\n",
       "  </clipPath>\n",
       "</defs>\n",
       "<path clip-path=\"url(#clip270)\" d=\"\n",
       "M238.13 1423.18 L2352.76 1423.18 L2352.76 47.2441 L238.13 47.2441  Z\n",
       "  \" fill=\"#ffffff\" fill-rule=\"evenodd\" fill-opacity=\"1\"/>\n",
       "<defs>\n",
       "  <clipPath id=\"clip272\">\n",
       "    <rect x=\"238\" y=\"47\" width=\"2116\" height=\"1377\"/>\n",
       "  </clipPath>\n",
       "</defs>\n",
       "<polyline clip-path=\"url(#clip272)\" style=\"stroke:#000000; stroke-width:2; stroke-opacity:0.1; fill:none\" points=\"\n",
       "  297.978,1423.18 297.978,47.2441 \n",
       "  \"/>\n",
       "<polyline clip-path=\"url(#clip272)\" style=\"stroke:#000000; stroke-width:2; stroke-opacity:0.1; fill:none\" points=\"\n",
       "  796.71,1423.18 796.71,47.2441 \n",
       "  \"/>\n",
       "<polyline clip-path=\"url(#clip272)\" style=\"stroke:#000000; stroke-width:2; stroke-opacity:0.1; fill:none\" points=\"\n",
       "  1295.44,1423.18 1295.44,47.2441 \n",
       "  \"/>\n",
       "<polyline clip-path=\"url(#clip272)\" style=\"stroke:#000000; stroke-width:2; stroke-opacity:0.1; fill:none\" points=\"\n",
       "  1794.18,1423.18 1794.18,47.2441 \n",
       "  \"/>\n",
       "<polyline clip-path=\"url(#clip272)\" style=\"stroke:#000000; stroke-width:2; stroke-opacity:0.1; fill:none\" points=\"\n",
       "  2292.91,1423.18 2292.91,47.2441 \n",
       "  \"/>\n",
       "<polyline clip-path=\"url(#clip270)\" style=\"stroke:#000000; stroke-width:4; stroke-opacity:1; fill:none\" points=\"\n",
       "  238.13,1423.18 2352.76,1423.18 \n",
       "  \"/>\n",
       "<polyline clip-path=\"url(#clip270)\" style=\"stroke:#000000; stroke-width:4; stroke-opacity:1; fill:none\" points=\"\n",
       "  297.978,1423.18 297.978,1406.67 \n",
       "  \"/>\n",
       "<polyline clip-path=\"url(#clip270)\" style=\"stroke:#000000; stroke-width:4; stroke-opacity:1; fill:none\" points=\"\n",
       "  796.71,1423.18 796.71,1406.67 \n",
       "  \"/>\n",
       "<polyline clip-path=\"url(#clip270)\" style=\"stroke:#000000; stroke-width:4; stroke-opacity:1; fill:none\" points=\"\n",
       "  1295.44,1423.18 1295.44,1406.67 \n",
       "  \"/>\n",
       "<polyline clip-path=\"url(#clip270)\" style=\"stroke:#000000; stroke-width:4; stroke-opacity:1; fill:none\" points=\"\n",
       "  1794.18,1423.18 1794.18,1406.67 \n",
       "  \"/>\n",
       "<polyline clip-path=\"url(#clip270)\" style=\"stroke:#000000; stroke-width:4; stroke-opacity:1; fill:none\" points=\"\n",
       "  2292.91,1423.18 2292.91,1406.67 \n",
       "  \"/>\n",
       "<path clip-path=\"url(#clip270)\" d=\"M 0 0 M265.987 1452.37 Q262.376 1452.37 260.548 1455.94 Q258.742 1459.48 258.742 1466.61 Q258.742 1473.71 260.548 1477.28 Q262.376 1480.82 265.987 1480.82 Q269.622 1480.82 271.427 1477.28 Q273.256 1473.71 273.256 1466.61 Q273.256 1459.48 271.427 1455.94 Q269.622 1452.37 265.987 1452.37 M265.987 1448.67 Q271.798 1448.67 274.853 1453.27 Q277.932 1457.86 277.932 1466.61 Q277.932 1475.33 274.853 1479.94 Q271.798 1484.52 265.987 1484.52 Q260.177 1484.52 257.099 1479.94 Q254.043 1475.33 254.043 1466.61 Q254.043 1457.86 257.099 1453.27 Q260.177 1448.67 265.987 1448.67 Z\" fill=\"#000000\" fill-rule=\"evenodd\" fill-opacity=\"1\" /><path clip-path=\"url(#clip270)\" d=\"M 0 0 M283.001 1477.97 L287.885 1477.97 L287.885 1483.85 L283.001 1483.85 L283.001 1477.97 Z\" fill=\"#000000\" fill-rule=\"evenodd\" fill-opacity=\"1\" /><path clip-path=\"url(#clip270)\" d=\"M 0 0 M302.955 1452.37 Q299.344 1452.37 297.515 1455.94 Q295.709 1459.48 295.709 1466.61 Q295.709 1473.71 297.515 1477.28 Q299.344 1480.82 302.955 1480.82 Q306.589 1480.82 308.395 1477.28 Q310.223 1473.71 310.223 1466.61 Q310.223 1459.48 308.395 1455.94 Q306.589 1452.37 302.955 1452.37 M302.955 1448.67 Q308.765 1448.67 311.82 1453.27 Q314.899 1457.86 314.899 1466.61 Q314.899 1475.33 311.82 1479.94 Q308.765 1484.52 302.955 1484.52 Q297.145 1484.52 294.066 1479.94 Q291.01 1475.33 291.01 1466.61 Q291.01 1457.86 294.066 1453.27 Q297.145 1448.67 302.955 1448.67 Z\" fill=\"#000000\" fill-rule=\"evenodd\" fill-opacity=\"1\" /><path clip-path=\"url(#clip270)\" d=\"M 0 0 M329.969 1452.37 Q326.357 1452.37 324.529 1455.94 Q322.723 1459.48 322.723 1466.61 Q322.723 1473.71 324.529 1477.28 Q326.357 1480.82 329.969 1480.82 Q333.603 1480.82 335.408 1477.28 Q337.237 1473.71 337.237 1466.61 Q337.237 1459.48 335.408 1455.94 Q333.603 1452.37 329.969 1452.37 M329.969 1448.67 Q335.779 1448.67 338.834 1453.27 Q341.913 1457.86 341.913 1466.61 Q341.913 1475.33 338.834 1479.94 Q335.779 1484.52 329.969 1484.52 Q324.158 1484.52 321.08 1479.94 Q318.024 1475.33 318.024 1466.61 Q318.024 1457.86 321.08 1453.27 Q324.158 1448.67 329.969 1448.67 Z\" fill=\"#000000\" fill-rule=\"evenodd\" fill-opacity=\"1\" /><path clip-path=\"url(#clip270)\" d=\"M 0 0 M766.016 1452.37 Q762.405 1452.37 760.576 1455.94 Q758.771 1459.48 758.771 1466.61 Q758.771 1473.71 760.576 1477.28 Q762.405 1480.82 766.016 1480.82 Q769.65 1480.82 771.456 1477.28 Q773.285 1473.71 773.285 1466.61 Q773.285 1459.48 771.456 1455.94 Q769.65 1452.37 766.016 1452.37 M766.016 1448.67 Q771.826 1448.67 774.882 1453.27 Q777.961 1457.86 777.961 1466.61 Q777.961 1475.33 774.882 1479.94 Q771.826 1484.52 766.016 1484.52 Q760.206 1484.52 757.127 1479.94 Q754.072 1475.33 754.072 1466.61 Q754.072 1457.86 757.127 1453.27 Q760.206 1448.67 766.016 1448.67 Z\" fill=\"#000000\" fill-rule=\"evenodd\" fill-opacity=\"1\" /><path clip-path=\"url(#clip270)\" d=\"M 0 0 M783.03 1477.97 L787.914 1477.97 L787.914 1483.85 L783.03 1483.85 L783.03 1477.97 Z\" fill=\"#000000\" fill-rule=\"evenodd\" fill-opacity=\"1\" /><path clip-path=\"url(#clip270)\" d=\"M 0 0 M797.011 1479.92 L813.331 1479.92 L813.331 1483.85 L791.386 1483.85 L791.386 1479.92 Q794.048 1477.16 798.632 1472.53 Q803.238 1467.88 804.419 1466.54 Q806.664 1464.01 807.544 1462.28 Q808.447 1460.52 808.447 1458.83 Q808.447 1456.07 806.502 1454.34 Q804.581 1452.6 801.479 1452.6 Q799.28 1452.6 796.826 1453.37 Q794.396 1454.13 791.618 1455.68 L791.618 1450.96 Q794.442 1449.82 796.896 1449.25 Q799.349 1448.67 801.386 1448.67 Q806.757 1448.67 809.951 1451.35 Q813.146 1454.04 813.146 1458.53 Q813.146 1460.66 812.335 1462.58 Q811.548 1464.48 809.442 1467.07 Q808.863 1467.74 805.761 1470.96 Q802.66 1474.15 797.011 1479.92 Z\" fill=\"#000000\" fill-rule=\"evenodd\" fill-opacity=\"1\" /><path clip-path=\"url(#clip270)\" d=\"M 0 0 M818.446 1449.29 L836.803 1449.29 L836.803 1453.23 L822.729 1453.23 L822.729 1461.7 Q823.747 1461.35 824.766 1461.19 Q825.784 1461 826.803 1461 Q832.59 1461 835.97 1464.18 Q839.349 1467.35 839.349 1472.76 Q839.349 1478.34 835.877 1481.44 Q832.405 1484.52 826.085 1484.52 Q823.909 1484.52 821.641 1484.15 Q819.396 1483.78 816.988 1483.04 L816.988 1478.34 Q819.071 1479.48 821.294 1480.03 Q823.516 1480.59 825.993 1480.59 Q829.997 1480.59 832.335 1478.48 Q834.673 1476.38 834.673 1472.76 Q834.673 1469.15 832.335 1467.05 Q829.997 1464.94 825.993 1464.94 Q824.118 1464.94 822.243 1465.36 Q820.391 1465.77 818.446 1466.65 L818.446 1449.29 Z\" fill=\"#000000\" fill-rule=\"evenodd\" fill-opacity=\"1\" /><path clip-path=\"url(#clip270)\" d=\"M 0 0 M1263.95 1452.37 Q1260.34 1452.37 1258.51 1455.94 Q1256.7 1459.48 1256.7 1466.61 Q1256.7 1473.71 1258.51 1477.28 Q1260.34 1480.82 1263.95 1480.82 Q1267.58 1480.82 1269.39 1477.28 Q1271.22 1473.71 1271.22 1466.61 Q1271.22 1459.48 1269.39 1455.94 Q1267.58 1452.37 1263.95 1452.37 M1263.95 1448.67 Q1269.76 1448.67 1272.82 1453.27 Q1275.89 1457.86 1275.89 1466.61 Q1275.89 1475.33 1272.82 1479.94 Q1269.76 1484.52 1263.95 1484.52 Q1258.14 1484.52 1255.06 1479.94 Q1252.01 1475.33 1252.01 1466.61 Q1252.01 1457.86 1255.06 1453.27 Q1258.14 1448.67 1263.95 1448.67 Z\" fill=\"#000000\" fill-rule=\"evenodd\" fill-opacity=\"1\" /><path clip-path=\"url(#clip270)\" d=\"M 0 0 M1280.96 1477.97 L1285.85 1477.97 L1285.85 1483.85 L1280.96 1483.85 L1280.96 1477.97 Z\" fill=\"#000000\" fill-rule=\"evenodd\" fill-opacity=\"1\" /><path clip-path=\"url(#clip270)\" d=\"M 0 0 M1290.96 1449.29 L1309.32 1449.29 L1309.32 1453.23 L1295.25 1453.23 L1295.25 1461.7 Q1296.26 1461.35 1297.28 1461.19 Q1298.3 1461 1299.32 1461 Q1305.11 1461 1308.49 1464.18 Q1311.87 1467.35 1311.87 1472.76 Q1311.87 1478.34 1308.39 1481.44 Q1304.92 1484.52 1298.6 1484.52 Q1296.43 1484.52 1294.16 1484.15 Q1291.91 1483.78 1289.51 1483.04 L1289.51 1478.34 Q1291.59 1479.48 1293.81 1480.03 Q1296.03 1480.59 1298.51 1480.59 Q1302.51 1480.59 1304.85 1478.48 Q1307.19 1476.38 1307.19 1472.76 Q1307.19 1469.15 1304.85 1467.05 Q1302.51 1464.94 1298.51 1464.94 Q1296.64 1464.94 1294.76 1465.36 Q1292.91 1465.77 1290.96 1466.65 L1290.96 1449.29 Z\" fill=\"#000000\" fill-rule=\"evenodd\" fill-opacity=\"1\" /><path clip-path=\"url(#clip270)\" d=\"M 0 0 M1326.94 1452.37 Q1323.32 1452.37 1321.5 1455.94 Q1319.69 1459.48 1319.69 1466.61 Q1319.69 1473.71 1321.5 1477.28 Q1323.32 1480.82 1326.94 1480.82 Q1330.57 1480.82 1332.38 1477.28 Q1334.2 1473.71 1334.2 1466.61 Q1334.2 1459.48 1332.38 1455.94 Q1330.57 1452.37 1326.94 1452.37 M1326.94 1448.67 Q1332.75 1448.67 1335.8 1453.27 Q1338.88 1457.86 1338.88 1466.61 Q1338.88 1475.33 1335.8 1479.94 Q1332.75 1484.52 1326.94 1484.52 Q1321.13 1484.52 1318.05 1479.94 Q1314.99 1475.33 1314.99 1466.61 Q1314.99 1457.86 1318.05 1453.27 Q1321.13 1448.67 1326.94 1448.67 Z\" fill=\"#000000\" fill-rule=\"evenodd\" fill-opacity=\"1\" /><path clip-path=\"url(#clip270)\" d=\"M 0 0 M1763.13 1452.37 Q1759.52 1452.37 1757.69 1455.94 Q1755.89 1459.48 1755.89 1466.61 Q1755.89 1473.71 1757.69 1477.28 Q1759.52 1480.82 1763.13 1480.82 Q1766.77 1480.82 1768.57 1477.28 Q1770.4 1473.71 1770.4 1466.61 Q1770.4 1459.48 1768.57 1455.94 Q1766.77 1452.37 1763.13 1452.37 M1763.13 1448.67 Q1768.94 1448.67 1772 1453.27 Q1775.08 1457.86 1775.08 1466.61 Q1775.08 1475.33 1772 1479.94 Q1768.94 1484.52 1763.13 1484.52 Q1757.32 1484.52 1754.25 1479.94 Q1751.19 1475.33 1751.19 1466.61 Q1751.19 1457.86 1754.25 1453.27 Q1757.32 1448.67 1763.13 1448.67 Z\" fill=\"#000000\" fill-rule=\"evenodd\" fill-opacity=\"1\" /><path clip-path=\"url(#clip270)\" d=\"M 0 0 M1780.15 1477.97 L1785.03 1477.97 L1785.03 1483.85 L1780.15 1483.85 L1780.15 1477.97 Z\" fill=\"#000000\" fill-rule=\"evenodd\" fill-opacity=\"1\" /><path clip-path=\"url(#clip270)\" d=\"M 0 0 M1788.92 1449.29 L1811.14 1449.29 L1811.14 1451.28 L1798.6 1483.85 L1793.71 1483.85 L1805.52 1453.23 L1788.92 1453.23 L1788.92 1449.29 Z\" fill=\"#000000\" fill-rule=\"evenodd\" fill-opacity=\"1\" /><path clip-path=\"url(#clip270)\" d=\"M 0 0 M1816.26 1449.29 L1834.62 1449.29 L1834.62 1453.23 L1820.54 1453.23 L1820.54 1461.7 Q1821.56 1461.35 1822.58 1461.19 Q1823.6 1461 1824.62 1461 Q1830.4 1461 1833.78 1464.18 Q1837.16 1467.35 1837.16 1472.76 Q1837.16 1478.34 1833.69 1481.44 Q1830.22 1484.52 1823.9 1484.52 Q1821.72 1484.52 1819.45 1484.15 Q1817.21 1483.78 1814.8 1483.04 L1814.8 1478.34 Q1816.88 1479.48 1819.11 1480.03 Q1821.33 1480.59 1823.8 1480.59 Q1827.81 1480.59 1830.15 1478.48 Q1832.49 1476.38 1832.49 1472.76 Q1832.49 1469.15 1830.15 1467.05 Q1827.81 1464.94 1823.8 1464.94 Q1821.93 1464.94 1820.05 1465.36 Q1818.2 1465.77 1816.26 1466.65 L1816.26 1449.29 Z\" fill=\"#000000\" fill-rule=\"evenodd\" fill-opacity=\"1\" /><path clip-path=\"url(#clip270)\" d=\"M 0 0 M2251.3 1479.92 L2258.94 1479.92 L2258.94 1453.55 L2250.63 1455.22 L2250.63 1450.96 L2258.89 1449.29 L2263.57 1449.29 L2263.57 1479.92 L2271.21 1479.92 L2271.21 1483.85 L2251.3 1483.85 L2251.3 1479.92 Z\" fill=\"#000000\" fill-rule=\"evenodd\" fill-opacity=\"1\" /><path clip-path=\"url(#clip270)\" d=\"M 0 0 M2276.28 1477.97 L2281.16 1477.97 L2281.16 1483.85 L2276.28 1483.85 L2276.28 1477.97 Z\" fill=\"#000000\" fill-rule=\"evenodd\" fill-opacity=\"1\" /><path clip-path=\"url(#clip270)\" d=\"M 0 0 M2296.23 1452.37 Q2292.62 1452.37 2290.79 1455.94 Q2288.98 1459.48 2288.98 1466.61 Q2288.98 1473.71 2290.79 1477.28 Q2292.62 1480.82 2296.23 1480.82 Q2299.86 1480.82 2301.67 1477.28 Q2303.5 1473.71 2303.5 1466.61 Q2303.5 1459.48 2301.67 1455.94 Q2299.86 1452.37 2296.23 1452.37 M2296.23 1448.67 Q2302.04 1448.67 2305.1 1453.27 Q2308.17 1457.86 2308.17 1466.61 Q2308.17 1475.33 2305.1 1479.94 Q2302.04 1484.52 2296.23 1484.52 Q2290.42 1484.52 2287.34 1479.94 Q2284.29 1475.33 2284.29 1466.61 Q2284.29 1457.86 2287.34 1453.27 Q2290.42 1448.67 2296.23 1448.67 Z\" fill=\"#000000\" fill-rule=\"evenodd\" fill-opacity=\"1\" /><path clip-path=\"url(#clip270)\" d=\"M 0 0 M2323.24 1452.37 Q2319.63 1452.37 2317.8 1455.94 Q2316 1459.48 2316 1466.61 Q2316 1473.71 2317.8 1477.28 Q2319.63 1480.82 2323.24 1480.82 Q2326.88 1480.82 2328.68 1477.28 Q2330.51 1473.71 2330.51 1466.61 Q2330.51 1459.48 2328.68 1455.94 Q2326.88 1452.37 2323.24 1452.37 M2323.24 1448.67 Q2329.05 1448.67 2332.11 1453.27 Q2335.19 1457.86 2335.19 1466.61 Q2335.19 1475.33 2332.11 1479.94 Q2329.05 1484.52 2323.24 1484.52 Q2317.43 1484.52 2314.35 1479.94 Q2311.3 1475.33 2311.3 1466.61 Q2311.3 1457.86 2314.35 1453.27 Q2317.43 1448.67 2323.24 1448.67 Z\" fill=\"#000000\" fill-rule=\"evenodd\" fill-opacity=\"1\" /><path clip-path=\"url(#clip270)\" d=\"M 0 0 M1294.5 1510.27 L1294.5 1520.4 L1306.57 1520.4 L1306.57 1524.95 L1294.5 1524.95 L1294.5 1544.3 Q1294.5 1548.66 1295.68 1549.9 Q1296.89 1551.14 1300.55 1551.14 L1306.57 1551.14 L1306.57 1556.04 L1300.55 1556.04 Q1293.77 1556.04 1291.19 1553.53 Q1288.62 1550.98 1288.62 1544.3 L1288.62 1524.95 L1284.32 1524.95 L1284.32 1520.4 L1288.62 1520.4 L1288.62 1510.27 L1294.5 1510.27 Z\" fill=\"#000000\" fill-rule=\"evenodd\" fill-opacity=\"1\" /><polyline clip-path=\"url(#clip272)\" style=\"stroke:#000000; stroke-width:2; stroke-opacity:0.1; fill:none\" points=\"\n",
       "  238.13,1388.47 2352.76,1388.47 \n",
       "  \"/>\n",
       "<polyline clip-path=\"url(#clip272)\" style=\"stroke:#000000; stroke-width:2; stroke-opacity:0.1; fill:none\" points=\"\n",
       "  238.13,1062.9 2352.76,1062.9 \n",
       "  \"/>\n",
       "<polyline clip-path=\"url(#clip272)\" style=\"stroke:#000000; stroke-width:2; stroke-opacity:0.1; fill:none\" points=\"\n",
       "  238.13,737.326 2352.76,737.326 \n",
       "  \"/>\n",
       "<polyline clip-path=\"url(#clip272)\" style=\"stroke:#000000; stroke-width:2; stroke-opacity:0.1; fill:none\" points=\"\n",
       "  238.13,411.756 2352.76,411.756 \n",
       "  \"/>\n",
       "<polyline clip-path=\"url(#clip272)\" style=\"stroke:#000000; stroke-width:2; stroke-opacity:0.1; fill:none\" points=\"\n",
       "  238.13,86.1857 2352.76,86.1857 \n",
       "  \"/>\n",
       "<polyline clip-path=\"url(#clip270)\" style=\"stroke:#000000; stroke-width:4; stroke-opacity:1; fill:none\" points=\"\n",
       "  238.13,1423.18 238.13,47.2441 \n",
       "  \"/>\n",
       "<polyline clip-path=\"url(#clip270)\" style=\"stroke:#000000; stroke-width:4; stroke-opacity:1; fill:none\" points=\"\n",
       "  238.13,1388.47 263.506,1388.47 \n",
       "  \"/>\n",
       "<polyline clip-path=\"url(#clip270)\" style=\"stroke:#000000; stroke-width:4; stroke-opacity:1; fill:none\" points=\"\n",
       "  238.13,1062.9 263.506,1062.9 \n",
       "  \"/>\n",
       "<polyline clip-path=\"url(#clip270)\" style=\"stroke:#000000; stroke-width:4; stroke-opacity:1; fill:none\" points=\"\n",
       "  238.13,737.326 263.506,737.326 \n",
       "  \"/>\n",
       "<polyline clip-path=\"url(#clip270)\" style=\"stroke:#000000; stroke-width:4; stroke-opacity:1; fill:none\" points=\"\n",
       "  238.13,411.756 263.506,411.756 \n",
       "  \"/>\n",
       "<polyline clip-path=\"url(#clip270)\" style=\"stroke:#000000; stroke-width:4; stroke-opacity:1; fill:none\" points=\"\n",
       "  238.13,86.1857 263.506,86.1857 \n",
       "  \"/>\n",
       "<path clip-path=\"url(#clip270)\" d=\"M 0 0 M126.205 1374.27 Q122.593 1374.27 120.765 1377.83 Q118.959 1381.37 118.959 1388.5 Q118.959 1395.61 120.765 1399.17 Q122.593 1402.71 126.205 1402.71 Q129.839 1402.71 131.644 1399.17 Q133.473 1395.61 133.473 1388.5 Q133.473 1381.37 131.644 1377.83 Q129.839 1374.27 126.205 1374.27 M126.205 1370.56 Q132.015 1370.56 135.07 1375.17 Q138.149 1379.75 138.149 1388.5 Q138.149 1397.23 135.07 1401.83 Q132.015 1406.42 126.205 1406.42 Q120.394 1406.42 117.316 1401.83 Q114.26 1397.23 114.26 1388.5 Q114.26 1379.75 117.316 1375.17 Q120.394 1370.56 126.205 1370.56 Z\" fill=\"#000000\" fill-rule=\"evenodd\" fill-opacity=\"1\" /><path clip-path=\"url(#clip270)\" d=\"M 0 0 M143.218 1399.87 L148.103 1399.87 L148.103 1405.75 L143.218 1405.75 L143.218 1399.87 Z\" fill=\"#000000\" fill-rule=\"evenodd\" fill-opacity=\"1\" /><path clip-path=\"url(#clip270)\" d=\"M 0 0 M163.172 1374.27 Q159.561 1374.27 157.732 1377.83 Q155.927 1381.37 155.927 1388.5 Q155.927 1395.61 157.732 1399.17 Q159.561 1402.71 163.172 1402.71 Q166.806 1402.71 168.612 1399.17 Q170.44 1395.61 170.44 1388.5 Q170.44 1381.37 168.612 1377.83 Q166.806 1374.27 163.172 1374.27 M163.172 1370.56 Q168.982 1370.56 172.038 1375.17 Q175.116 1379.75 175.116 1388.5 Q175.116 1397.23 172.038 1401.83 Q168.982 1406.42 163.172 1406.42 Q157.362 1406.42 154.283 1401.83 Q151.228 1397.23 151.228 1388.5 Q151.228 1379.75 154.283 1375.17 Q157.362 1370.56 163.172 1370.56 Z\" fill=\"#000000\" fill-rule=\"evenodd\" fill-opacity=\"1\" /><path clip-path=\"url(#clip270)\" d=\"M 0 0 M190.186 1374.27 Q186.575 1374.27 184.746 1377.83 Q182.94 1381.37 182.94 1388.5 Q182.94 1395.61 184.746 1399.17 Q186.575 1402.71 190.186 1402.71 Q193.82 1402.71 195.625 1399.17 Q197.454 1395.61 197.454 1388.5 Q197.454 1381.37 195.625 1377.83 Q193.82 1374.27 190.186 1374.27 M190.186 1370.56 Q195.996 1370.56 199.051 1375.17 Q202.13 1379.75 202.13 1388.5 Q202.13 1397.23 199.051 1401.83 Q195.996 1406.42 190.186 1406.42 Q184.376 1406.42 181.297 1401.83 Q178.241 1397.23 178.241 1388.5 Q178.241 1379.75 181.297 1375.17 Q184.376 1370.56 190.186 1370.56 Z\" fill=\"#000000\" fill-rule=\"evenodd\" fill-opacity=\"1\" /><path clip-path=\"url(#clip270)\" d=\"M 0 0 M128.797 1048.7 Q125.186 1048.7 123.357 1052.26 Q121.552 1055.8 121.552 1062.93 Q121.552 1070.04 123.357 1073.6 Q125.186 1077.14 128.797 1077.14 Q132.431 1077.14 134.237 1073.6 Q136.066 1070.04 136.066 1062.93 Q136.066 1055.8 134.237 1052.26 Q132.431 1048.7 128.797 1048.7 M128.797 1044.99 Q134.607 1044.99 137.663 1049.6 Q140.741 1054.18 140.741 1062.93 Q140.741 1071.66 137.663 1076.26 Q134.607 1080.85 128.797 1080.85 Q122.987 1080.85 119.908 1076.26 Q116.853 1071.66 116.853 1062.93 Q116.853 1054.18 119.908 1049.6 Q122.987 1044.99 128.797 1044.99 Z\" fill=\"#000000\" fill-rule=\"evenodd\" fill-opacity=\"1\" /><path clip-path=\"url(#clip270)\" d=\"M 0 0 M145.811 1074.3 L150.695 1074.3 L150.695 1080.18 L145.811 1080.18 L145.811 1074.3 Z\" fill=\"#000000\" fill-rule=\"evenodd\" fill-opacity=\"1\" /><path clip-path=\"url(#clip270)\" d=\"M 0 0 M159.792 1076.24 L176.112 1076.24 L176.112 1080.18 L154.167 1080.18 L154.167 1076.24 Q156.829 1073.49 161.413 1068.86 Q166.019 1064.2 167.2 1062.86 Q169.445 1060.34 170.325 1058.6 Q171.227 1056.84 171.227 1055.15 Q171.227 1052.4 169.283 1050.66 Q167.362 1048.93 164.26 1048.93 Q162.061 1048.93 159.607 1049.69 Q157.177 1050.45 154.399 1052.01 L154.399 1047.28 Q157.223 1046.15 159.677 1045.57 Q162.13 1044.99 164.167 1044.99 Q169.538 1044.99 172.732 1047.68 Q175.926 1050.36 175.926 1054.85 Q175.926 1056.98 175.116 1058.9 Q174.329 1060.8 172.223 1063.39 Q171.644 1064.07 168.542 1067.28 Q165.44 1070.48 159.792 1076.24 Z\" fill=\"#000000\" fill-rule=\"evenodd\" fill-opacity=\"1\" /><path clip-path=\"url(#clip270)\" d=\"M 0 0 M181.227 1045.62 L199.584 1045.62 L199.584 1049.55 L185.51 1049.55 L185.51 1058.02 Q186.528 1057.68 187.547 1057.51 Q188.565 1057.33 189.584 1057.33 Q195.371 1057.33 198.75 1060.5 Q202.13 1063.67 202.13 1069.09 Q202.13 1074.67 198.658 1077.77 Q195.186 1080.85 188.866 1080.85 Q186.69 1080.85 184.422 1080.48 Q182.176 1080.11 179.769 1079.37 L179.769 1074.67 Q181.852 1075.8 184.075 1076.36 Q186.297 1076.91 188.774 1076.91 Q192.778 1076.91 195.116 1074.81 Q197.454 1072.7 197.454 1069.09 Q197.454 1065.48 195.116 1063.37 Q192.778 1061.26 188.774 1061.26 Q186.899 1061.26 185.024 1061.68 Q183.172 1062.1 181.227 1062.98 L181.227 1045.62 Z\" fill=\"#000000\" fill-rule=\"evenodd\" fill-opacity=\"1\" /><path clip-path=\"url(#clip270)\" d=\"M 0 0 M127.2 723.125 Q123.589 723.125 121.76 726.69 Q119.955 730.231 119.955 737.361 Q119.955 744.467 121.76 748.032 Q123.589 751.574 127.2 751.574 Q130.834 751.574 132.64 748.032 Q134.468 744.467 134.468 737.361 Q134.468 730.231 132.64 726.69 Q130.834 723.125 127.2 723.125 M127.2 719.421 Q133.01 719.421 136.066 724.028 Q139.144 728.611 139.144 737.361 Q139.144 746.088 136.066 750.694 Q133.01 755.278 127.2 755.278 Q121.39 755.278 118.311 750.694 Q115.256 746.088 115.256 737.361 Q115.256 728.611 118.311 724.028 Q121.39 719.421 127.2 719.421 Z\" fill=\"#000000\" fill-rule=\"evenodd\" fill-opacity=\"1\" /><path clip-path=\"url(#clip270)\" d=\"M 0 0 M144.214 748.727 L149.098 748.727 L149.098 754.606 L144.214 754.606 L144.214 748.727 Z\" fill=\"#000000\" fill-rule=\"evenodd\" fill-opacity=\"1\" /><path clip-path=\"url(#clip270)\" d=\"M 0 0 M154.214 720.046 L172.57 720.046 L172.57 723.981 L158.496 723.981 L158.496 732.454 Q159.515 732.106 160.533 731.944 Q161.552 731.759 162.57 731.759 Q168.357 731.759 171.737 734.93 Q175.116 738.102 175.116 743.518 Q175.116 749.097 171.644 752.199 Q168.172 755.278 161.852 755.278 Q159.677 755.278 157.408 754.907 Q155.163 754.537 152.755 753.796 L152.755 749.097 Q154.839 750.231 157.061 750.787 Q159.283 751.342 161.76 751.342 Q165.765 751.342 168.102 749.236 Q170.44 747.129 170.44 743.518 Q170.44 739.907 168.102 737.801 Q165.765 735.694 161.76 735.694 Q159.885 735.694 158.01 736.111 Q156.158 736.528 154.214 737.407 L154.214 720.046 Z\" fill=\"#000000\" fill-rule=\"evenodd\" fill-opacity=\"1\" /><path clip-path=\"url(#clip270)\" d=\"M 0 0 M190.186 723.125 Q186.575 723.125 184.746 726.69 Q182.94 730.231 182.94 737.361 Q182.94 744.467 184.746 748.032 Q186.575 751.574 190.186 751.574 Q193.82 751.574 195.625 748.032 Q197.454 744.467 197.454 737.361 Q197.454 730.231 195.625 726.69 Q193.82 723.125 190.186 723.125 M190.186 719.421 Q195.996 719.421 199.051 724.028 Q202.13 728.611 202.13 737.361 Q202.13 746.088 199.051 750.694 Q195.996 755.278 190.186 755.278 Q184.376 755.278 181.297 750.694 Q178.241 746.088 178.241 737.361 Q178.241 728.611 181.297 724.028 Q184.376 719.421 190.186 719.421 Z\" fill=\"#000000\" fill-rule=\"evenodd\" fill-opacity=\"1\" /><path clip-path=\"url(#clip270)\" d=\"M 0 0 M128.103 397.555 Q124.492 397.555 122.663 401.119 Q120.857 404.661 120.857 411.791 Q120.857 418.897 122.663 422.462 Q124.492 426.004 128.103 426.004 Q131.737 426.004 133.542 422.462 Q135.371 418.897 135.371 411.791 Q135.371 404.661 133.542 401.119 Q131.737 397.555 128.103 397.555 M128.103 393.851 Q133.913 393.851 136.968 398.457 Q140.047 403.041 140.047 411.791 Q140.047 420.517 136.968 425.124 Q133.913 429.707 128.103 429.707 Q122.293 429.707 119.214 425.124 Q116.158 420.517 116.158 411.791 Q116.158 403.041 119.214 398.457 Q122.293 393.851 128.103 393.851 Z\" fill=\"#000000\" fill-rule=\"evenodd\" fill-opacity=\"1\" /><path clip-path=\"url(#clip270)\" d=\"M 0 0 M145.116 423.156 L150.001 423.156 L150.001 429.036 L145.116 429.036 L145.116 423.156 Z\" fill=\"#000000\" fill-rule=\"evenodd\" fill-opacity=\"1\" /><path clip-path=\"url(#clip270)\" d=\"M 0 0 M153.89 394.476 L176.112 394.476 L176.112 396.467 L163.565 429.036 L158.681 429.036 L170.487 398.411 L153.89 398.411 L153.89 394.476 Z\" fill=\"#000000\" fill-rule=\"evenodd\" fill-opacity=\"1\" /><path clip-path=\"url(#clip270)\" d=\"M 0 0 M181.227 394.476 L199.584 394.476 L199.584 398.411 L185.51 398.411 L185.51 406.883 Q186.528 406.536 187.547 406.374 Q188.565 406.189 189.584 406.189 Q195.371 406.189 198.75 409.36 Q202.13 412.531 202.13 417.948 Q202.13 423.527 198.658 426.629 Q195.186 429.707 188.866 429.707 Q186.69 429.707 184.422 429.337 Q182.176 428.967 179.769 428.226 L179.769 423.527 Q181.852 424.661 184.075 425.217 Q186.297 425.772 188.774 425.772 Q192.778 425.772 195.116 423.666 Q197.454 421.559 197.454 417.948 Q197.454 414.337 195.116 412.231 Q192.778 410.124 188.774 410.124 Q186.899 410.124 185.024 410.541 Q183.172 410.957 181.227 411.837 L181.227 394.476 Z\" fill=\"#000000\" fill-rule=\"evenodd\" fill-opacity=\"1\" /><path clip-path=\"url(#clip270)\" d=\"M 0 0 M118.242 99.5305 L125.88 99.5305 L125.88 73.1649 L117.57 74.8316 L117.57 70.5723 L125.834 68.9057 L130.51 68.9057 L130.51 99.5305 L138.149 99.5305 L138.149 103.466 L118.242 103.466 L118.242 99.5305 Z\" fill=\"#000000\" fill-rule=\"evenodd\" fill-opacity=\"1\" /><path clip-path=\"url(#clip270)\" d=\"M 0 0 M143.218 97.5861 L148.103 97.5861 L148.103 103.466 L143.218 103.466 L143.218 97.5861 Z\" fill=\"#000000\" fill-rule=\"evenodd\" fill-opacity=\"1\" /><path clip-path=\"url(#clip270)\" d=\"M 0 0 M163.172 71.9844 Q159.561 71.9844 157.732 75.5492 Q155.927 79.0908 155.927 86.2204 Q155.927 93.3268 157.732 96.8916 Q159.561 100.433 163.172 100.433 Q166.806 100.433 168.612 96.8916 Q170.44 93.3268 170.44 86.2204 Q170.44 79.0908 168.612 75.5492 Q166.806 71.9844 163.172 71.9844 M163.172 68.2807 Q168.982 68.2807 172.038 72.8871 Q175.116 77.4704 175.116 86.2204 Q175.116 94.9472 172.038 99.5537 Q168.982 104.137 163.172 104.137 Q157.362 104.137 154.283 99.5537 Q151.228 94.9472 151.228 86.2204 Q151.228 77.4704 154.283 72.8871 Q157.362 68.2807 163.172 68.2807 Z\" fill=\"#000000\" fill-rule=\"evenodd\" fill-opacity=\"1\" /><path clip-path=\"url(#clip270)\" d=\"M 0 0 M190.186 71.9844 Q186.575 71.9844 184.746 75.5492 Q182.94 79.0908 182.94 86.2204 Q182.94 93.3268 184.746 96.8916 Q186.575 100.433 190.186 100.433 Q193.82 100.433 195.625 96.8916 Q197.454 93.3268 197.454 86.2204 Q197.454 79.0908 195.625 75.5492 Q193.82 71.9844 190.186 71.9844 M190.186 68.2807 Q195.996 68.2807 199.051 72.8871 Q202.13 77.4704 202.13 86.2204 Q202.13 94.9472 199.051 99.5537 Q195.996 104.137 190.186 104.137 Q184.376 104.137 181.297 99.5537 Q178.241 94.9472 178.241 86.2204 Q178.241 77.4704 181.297 72.8871 Q184.376 68.2807 190.186 68.2807 Z\" fill=\"#000000\" fill-rule=\"evenodd\" fill-opacity=\"1\" /><path clip-path=\"url(#clip270)\" d=\"M 0 0 M73.9359 782.159 L52.3562 782.159 L52.3562 776.303 L73.7131 776.303 Q78.7739 776.303 81.3202 774.329 Q83.8346 772.356 83.8346 768.409 Q83.8346 763.667 80.8109 760.929 Q77.7872 758.16 72.5673 758.16 L52.3562 758.16 L52.3562 752.304 L88.0042 752.304 L88.0042 758.16 L82.5296 758.16 Q85.7762 760.293 87.3676 763.126 Q88.9272 765.927 88.9272 769.65 Q88.9272 775.793 85.1078 778.976 Q81.2883 782.159 73.9359 782.159 M51.4968 767.422 L51.4968 767.422 Z\" fill=\"#000000\" fill-rule=\"evenodd\" fill-opacity=\"1\" /><path clip-path=\"url(#clip270)\" d=\"M 0 0 M38.5426 732.093 Q45.8632 736.358 53.0246 738.427 Q60.186 740.496 67.5384 740.496 Q74.8908 740.496 82.1159 738.427 Q89.3091 736.326 96.5979 732.093 L96.5979 737.185 Q89.1182 741.96 81.8931 744.347 Q74.668 746.702 67.5384 746.702 Q60.4406 746.702 53.2474 744.347 Q46.0542 741.991 38.5426 737.185 L38.5426 732.093 Z\" fill=\"#000000\" fill-rule=\"evenodd\" fill-opacity=\"1\" /><path clip-path=\"url(#clip270)\" d=\"M 0 0 M42.2347 720.157 L52.3562 720.157 L52.3562 708.094 L56.9077 708.094 L56.9077 720.157 L76.2594 720.157 Q80.6199 720.157 81.8613 718.979 Q83.1026 717.77 83.1026 714.11 L83.1026 708.094 L88.0042 708.094 L88.0042 714.11 Q88.0042 720.889 85.4897 723.467 Q82.9434 726.045 76.2594 726.045 L56.9077 726.045 L56.9077 730.342 L52.3562 730.342 L52.3562 726.045 L42.2347 726.045 L42.2347 720.157 Z\" fill=\"#000000\" fill-rule=\"evenodd\" fill-opacity=\"1\" /><path clip-path=\"url(#clip270)\" d=\"M 0 0 M38.5426 702.874 L38.5426 697.782 Q46.0542 693.007 53.2474 690.652 Q60.4406 688.265 67.5384 688.265 Q74.668 688.265 81.8931 690.652 Q89.1182 693.007 96.5979 697.782 L96.5979 702.874 Q89.3091 698.641 82.1159 696.572 Q74.8908 694.471 67.5384 694.471 Q60.186 694.471 53.0246 696.572 Q45.8632 698.641 38.5426 702.874 Z\" fill=\"#000000\" fill-rule=\"evenodd\" fill-opacity=\"1\" /><polyline clip-path=\"url(#clip272)\" style=\"stroke:#009af9; stroke-width:8; stroke-opacity:1; fill:none\" points=\"\n",
       "  297.978,86.1857 309.377,128.134 322.675,175.364 339.175,231.517 357.919,292.158 379.189,357.128 402.479,423.865 427.713,491.304 454.583,557.941 482.936,622.896 \n",
       "  512.572,685.368 543.359,744.872 575.168,801.067 607.904,853.782 641.493,902.956 675.876,948.613 711.014,990.839 746.879,1029.76 783.455,1065.53 820.737,1098.33 \n",
       "  858.727,1128.32 897.434,1155.69 936.876,1180.62 977.072,1203.29 1018.05,1223.85 1059.84,1242.47 1102.47,1259.29 1145.99,1274.47 1190.43,1288.13 1235.84,1300.4 \n",
       "  1282.27,1311.4 1329.77,1321.23 1378.4,1329.99 1428.22,1337.79 1479.3,1344.7 1531.7,1350.82 1585.5,1356.21 1640.78,1360.95 1697.63,1365.09 1756.15,1368.71 \n",
       "  1816.43,1371.85 1878.59,1374.57 1942.76,1376.91 2009.05,1378.91 2077.62,1380.62 2148.62,1382.07 2222.24,1383.29 2292.91,1384.24 \n",
       "  \"/>\n",
       "</svg>\n"
      ]
     },
     "execution_count": 18,
     "metadata": {},
     "output_type": "execute_result"
    }
   ],
   "source": [
    "using OrdinaryDiffEq, Measurements, Plots\n",
    "\n",
    "#Half-life of Carbon-14 is 5730 years.\n",
    "c = big(5.730) # now a BigFloat\n",
    "\n",
    "#Setup\n",
    "u0 = big(1.0) # now a BigFloat\n",
    "tspan = (0.0, 1.0)\n",
    "\n",
    "#Define the problem\n",
    "radioactivedecay(u,p,t) = -c*u\n",
    "\n",
    "#Pass to solver\n",
    "prob = ODEProblem(radioactivedecay,u0,tspan)\n",
    "sol = solve(prob, Tsit5(), reltol=1e-8, abstol=1e-8);\n",
    "\n",
    "plot(sol.t, sol.u, ylabel=\"u(t)\", xlabel=\"t\", lw=2, legend=false)"
   ]
  },
  {
   "cell_type": "code",
   "execution_count": 19,
   "metadata": {},
   "outputs": [
    {
     "data": {
      "text/plain": [
       "48-element Array{BigFloat,1}:\n",
       " 1.0\n",
       " 0.9677886860242480802598783250713916010081415505397800881445406271537611300017618\n",
       " 0.9315211281525870696951220469884643089015968992100693760200740553948355529147443\n",
       " 0.8884024345211743249328056132581922926713349550779312851128595145794638309367323\n",
       " 0.8418375252286853693374875453327959298310268751540882123064603835469502333473109\n",
       " 0.7919476680197978366287345934905597393544790418172231521205406046457281405791587\n",
       " 0.7407016259183958759884470516107654220566979395714294291392295199281116631202865\n",
       " 0.6889166236940076559348762786156215151664293452137499135310944840642096115291489\n",
       " 0.6377469535070398920175738922901491666486723508941466819842344410005109743183765\n",
       " 0.5878693713657287140963890488018800803172121578988926862955692142537685628357778\n",
       " 0.5398978652256645193428037296933486371306985081111834339606184901793095255294196\n",
       " 0.4942059707831531602566087507346158947741661052372038448482390547590684086049459\n",
       " 0.4510548063728537342403348883984974676337990035180366915908209191586130615808937\n",
       " ⋮\n",
       " 0.0247702050654882453591081957165310583799905286281550832807260141170596179748055\n",
       " 0.02113339164185547371911095703940197399292019431631616162413101270438591450210311\n",
       " 0.01794943205921659430151854041290523423888550368067916366302722861809000738875976\n",
       " 0.01517245654970549455440150770350925989622868982958568759486071693780367821771414\n",
       " 0.01276017945148126419920684336418473115682890571366046387725072420616167303131052\n",
       " 0.01067368686655554010432403812895560121001347098728755981721388202930497769315687\n",
       " 0.008877237450555362912972726083294419755777111274058419574256348524754650819012674\n",
       " 0.007338074614025922883005638521380511404546516625234199370681395273260095601147039\n",
       " 0.006026249462159800384948621559411128572784847243797205697766059387092588562011974\n",
       " 0.004914452127823204156878828460350148200422322973144692795503377718904211099575875\n",
       " 0.003977852532143068124991934304253305116673645698444873356419196416086782397169374\n",
       " 0.003247077417412276976930609009820042493068698023440108515374474589378944290565354"
      ]
     },
     "execution_count": 19,
     "metadata": {},
     "output_type": "execute_result"
    }
   ],
   "source": [
    "sol.u"
   ]
  },
  {
   "cell_type": "markdown",
   "metadata": {},
   "source": [
    "### With uncertainties: Measurements.jl"
   ]
  },
  {
   "cell_type": "markdown",
   "metadata": {},
   "source": [
    "`Measurement` type from [Measurements.jl]() and differential equation solver from [OrdinaryDiffEq.jl](https://github.com/JuliaDiffEq/OrdinaryDiffEq.jl) (i.e. [DifferentialEquations.jl](https://github.com/JuliaDiffEq/DifferentialEquations.jl))"
   ]
  },
  {
   "cell_type": "code",
   "execution_count": null,
   "metadata": {},
   "outputs": [],
   "source": [
    "using OrdinaryDiffEq, Measurements, Plots\n",
    "\n",
    "#Half-life of Carbon-14 is 5730 years.\n",
    "c = 5.730 ± 2\n",
    "\n",
    "#Setup\n",
    "u0 = 1.0 ± 0.1\n",
    "tspan = (0.0, 1.0)\n",
    "\n",
    "#Define the problem\n",
    "radioactivedecay(u,p,t) = -c*u\n",
    "\n",
    "#Pass to solver\n",
    "prob = ODEProblem(radioactivedecay,u0,tspan)\n",
    "sol = solve(prob, Tsit5(), reltol=1e-8, abstol=1e-8);\n",
    "\n",
    "plot(sol.t, sol.u, ylabel=\"u(t)\", xlabel=\"t\", lw=2, legend=false)"
   ]
  },
  {
   "cell_type": "markdown",
   "metadata": {},
   "source": [
    "Note that, in some sense, **Julia implemented that feature by itself**.\n",
    "\n",
    "The authors of Measurements.jl and DifferentialEquations.jl never had any collabration on this.\n",
    "\n",
    "It **just works**."
   ]
  },
  {
   "cell_type": "markdown",
   "metadata": {},
   "source": [
    "# Core messages of this Notebook\n",
    "\n",
    "* It is simple to write **type-generic code** in Julia and you should do it.\n",
    "* Generally, **generic code is just as fast as specific code**.\n",
    "* Generic Programming + Multiple Dispatch + JIT = **lots of code sharing and emergent features**"
   ]
  }
 ],
 "metadata": {
  "@webio": {
   "lastCommId": "25ee791bcf6b44908db65c58b3f48835",
   "lastKernelId": "4f005b8b-b806-4ef5-849e-f26ceb7e087e"
  },
  "kernelspec": {
   "display_name": "Julia 1.5.3",
   "language": "julia",
   "name": "julia-1.5"
  },
  "language_info": {
   "file_extension": ".jl",
   "mimetype": "application/julia",
   "name": "julia",
   "version": "1.5.3"
  }
 },
 "nbformat": 4,
 "nbformat_minor": 4
}
