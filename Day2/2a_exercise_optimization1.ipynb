{
 "cells": [
  {
   "cell_type": "markdown",
   "metadata": {},
   "source": [
    "# Performance optimization exercise 1"
   ]
  },
  {
   "cell_type": "markdown",
   "metadata": {},
   "source": [
    "Optimize the function `work!` in the following code. You may change the function name, the function signature, and the function body.\n",
    "\n",
    "However, the types and sizes of the inputs `N`, `A`, `b`, `c` are fixed and **may not be changed.**"
   ]
  },
  {
   "cell_type": "code",
   "execution_count": null,
   "metadata": {},
   "outputs": [],
   "source": [
    "# function you should optimze\n",
    "function work!(A, N)\n",
    "    D = zeros(N,N)\n",
    "    for i in 1:N\n",
    "        D = b[i]*c*A\n",
    "        b[i] = sum(D)/N^2\n",
    "    end\n",
    "    return b\n",
    "end\n",
    "\n",
    "# fixed input (do not change!)\n",
    "N = 10\n",
    "A = [float(i+j) for i in 1:N, j in 1:N] # matrix of size NxN\n",
    "b = collect(Float64, 1:N) # vector of length N\n",
    "c = 1.23;\n",
    "\n",
    "# desired result (do not change!)\n",
    "const RESULT = [13.53, 27.06, 40.59, 54.12, 67.65, 81.18, 94.71, 108.24, 121.77, 135.3];"
   ]
  },
  {
   "cell_type": "code",
   "execution_count": null,
   "metadata": {},
   "outputs": [],
   "source": [
    "# baseline benchmark\n",
    "using BenchmarkTools\n",
    "@btime work!($A, $N);"
   ]
  },
  {
   "cell_type": "markdown",
   "metadata": {},
   "source": [
    "## ↓ Go optimize! ↓"
   ]
  },
  {
   "cell_type": "markdown",
   "metadata": {},
   "source": [
    "Your optimized `work_optimized!` function (**change it!**):"
   ]
  },
  {
   "cell_type": "code",
   "execution_count": null,
   "metadata": {},
   "outputs": [],
   "source": [
    "function work_optimized!(A, N)\n",
    "    D = zeros(N,N)\n",
    "    for i in 1:N\n",
    "        D = b[i]*c*A\n",
    "        b[i] = sum(D)/N^2\n",
    "    end\n",
    "    return b\n",
    "end"
   ]
  },
  {
   "cell_type": "markdown",
   "metadata": {},
   "source": [
    "Testing that it actually gives the correct result:"
   ]
  },
  {
   "cell_type": "code",
   "execution_count": null,
   "metadata": {},
   "outputs": [],
   "source": [
    "N = 10\n",
    "A = [float(i+j) for i in 1:N, j in 1:N] # matrix of size NxN\n",
    "b = collect(Float64, 1:N) # vector of length N\n",
    "c = 1.23\n",
    "\n",
    "work_optimized!(A,N) ≈ RESULT"
   ]
  },
  {
   "cell_type": "markdown",
   "metadata": {},
   "source": [
    "Benchmarking it:"
   ]
  },
  {
   "cell_type": "code",
   "execution_count": null,
   "metadata": {},
   "outputs": [],
   "source": [
    "using BenchmarkTools\n",
    "@btime work_optimized!($A, $N);"
   ]
  }
 ],
 "metadata": {
  "@webio": {
   "lastCommId": null,
   "lastKernelId": null
  },
  "kernelspec": {
   "display_name": "Julia 1.5.3",
   "language": "julia",
   "name": "julia-1.5"
  },
  "language_info": {
   "file_extension": ".jl",
   "mimetype": "application/julia",
   "name": "julia",
   "version": "1.5.4"
  }
 },
 "nbformat": 4,
 "nbformat_minor": 4
}
